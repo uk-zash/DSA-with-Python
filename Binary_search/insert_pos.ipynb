{
 "cells": [
  {
   "cell_type": "code",
   "execution_count": 1,
   "metadata": {},
   "outputs": [],
   "source": [
    "def searchInsert(nums, target):\n",
    "       \n",
    "        i = 0\n",
    "        j = len(nums)-1\n",
    "\n",
    "        while i<=j:\n",
    "\n",
    "            mid = (i+j)//2\n",
    "\n",
    "            if nums[mid]==target:\n",
    "                return mid\n",
    "            \n",
    "            elif nums[mid]< target:\n",
    "                i = mid+1\n",
    "            \n",
    "            else:\n",
    "                j = mid-1\n",
    "        \n",
    "        return i"
   ]
  },
  {
   "cell_type": "code",
   "execution_count": 2,
   "metadata": {},
   "outputs": [
    {
     "data": {
      "text/plain": [
       "2"
      ]
     },
     "execution_count": 2,
     "metadata": {},
     "output_type": "execute_result"
    }
   ],
   "source": [
    "arr = [1,2,4,6,8]\n",
    "x = 3\n",
    "searchInsert(arr , x)"
   ]
  },
  {
   "cell_type": "code",
   "execution_count": null,
   "metadata": {},
   "outputs": [],
   "source": []
  }
 ],
 "metadata": {
  "kernelspec": {
   "display_name": "Python 3",
   "language": "python",
   "name": "python3"
  },
  "language_info": {
   "codemirror_mode": {
    "name": "ipython",
    "version": 3
   },
   "file_extension": ".py",
   "mimetype": "text/x-python",
   "name": "python",
   "nbconvert_exporter": "python",
   "pygments_lexer": "ipython3",
   "version": "3.11.9"
  }
 },
 "nbformat": 4,
 "nbformat_minor": 2
}
