{
 "cells": [
  {
   "cell_type": "code",
   "execution_count": 1,
   "metadata": {},
   "outputs": [],
   "source": [
    "def findFloor(A,N,X):\n",
    "     \n",
    "        \n",
    "        i = 0\n",
    "        j = N-1\n",
    "        ans = -100\n",
    "        \n",
    "        while i<=j:\n",
    "            \n",
    "            mid = (i+j)//2\n",
    "            \n",
    "            if A[mid]==X:\n",
    "                return mid\n",
    "            elif X<A[mid]:\n",
    "                j = mid-1\n",
    "            else:\n",
    "                 ans = max(ans , mid)\n",
    "                 i = mid+1\n",
    "                 \n",
    "            \n",
    "        if ans>(-100):\n",
    "            return ans\n",
    "        else:\n",
    "            return -1"
   ]
  },
  {
   "cell_type": "code",
   "execution_count": 2,
   "metadata": {},
   "outputs": [
    {
     "data": {
      "text/plain": [
       "1"
      ]
     },
     "execution_count": 2,
     "metadata": {},
     "output_type": "execute_result"
    }
   ],
   "source": [
    "n = 7\n",
    "x = 5 \n",
    "arr = [1,2,8,10,11,12,19]\n",
    "findFloor(arr , n , x)"
   ]
  },
  {
   "cell_type": "code",
   "execution_count": null,
   "metadata": {},
   "outputs": [],
   "source": []
  }
 ],
 "metadata": {
  "kernelspec": {
   "display_name": "Python 3",
   "language": "python",
   "name": "python3"
  },
  "language_info": {
   "codemirror_mode": {
    "name": "ipython",
    "version": 3
   },
   "file_extension": ".py",
   "mimetype": "text/x-python",
   "name": "python",
   "nbconvert_exporter": "python",
   "pygments_lexer": "ipython3",
   "version": "3.11.9"
  }
 },
 "nbformat": 4,
 "nbformat_minor": 2
}
