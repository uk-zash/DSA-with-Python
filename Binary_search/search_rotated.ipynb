{
 "cells": [
  {
   "cell_type": "code",
   "execution_count": 1,
   "metadata": {},
   "outputs": [],
   "source": [
    "def search( nums, target):\n",
    "        \n",
    "        i = 0\n",
    "        j = len(nums)-1\n",
    "\n",
    "        while i<=j:\n",
    "\n",
    "            mid = (i+j)//2\n",
    "\n",
    "            if nums[mid]==target:\n",
    "                return mid\n",
    "            \n",
    "            if nums[i]<=nums[mid]:\n",
    "\n",
    "                if nums[i]<=target and target<=nums[mid]:\n",
    "                    j = mid-1\n",
    "                else:\n",
    "                    i = mid+1\n",
    "            else:\n",
    "                if nums[j]>=target and target>=nums[mid]:\n",
    "                    i = mid+1\n",
    "                else:\n",
    "                    j = mid-1\n",
    "        return -1"
   ]
  },
  {
   "cell_type": "code",
   "execution_count": 2,
   "metadata": {},
   "outputs": [
    {
     "data": {
      "text/plain": [
       "4"
      ]
     },
     "execution_count": 2,
     "metadata": {},
     "output_type": "execute_result"
    }
   ],
   "source": [
    "nums = [4,5,6,7,0,1,2]\n",
    "target = 0\n",
    "search(nums, target)"
   ]
  },
  {
   "cell_type": "code",
   "execution_count": null,
   "metadata": {},
   "outputs": [],
   "source": []
  }
 ],
 "metadata": {
  "kernelspec": {
   "display_name": "Python 3",
   "language": "python",
   "name": "python3"
  },
  "language_info": {
   "codemirror_mode": {
    "name": "ipython",
    "version": 3
   },
   "file_extension": ".py",
   "mimetype": "text/x-python",
   "name": "python",
   "nbconvert_exporter": "python",
   "pygments_lexer": "ipython3",
   "version": "3.11.9"
  }
 },
 "nbformat": 4,
 "nbformat_minor": 2
}
