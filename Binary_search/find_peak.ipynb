{
 "cells": [
  {
   "cell_type": "code",
   "execution_count": 1,
   "metadata": {},
   "outputs": [],
   "source": [
    "def findPeakElement( nums):\n",
    "        \n",
    "        n = len(nums)\n",
    "        if n == 1:\n",
    "            return 0\n",
    "        if nums[0] > nums[1]:\n",
    "            return 0\n",
    "        if nums[n - 1] > nums[n - 2]:\n",
    "            return n - 1\n",
    "\n",
    "        i =1\n",
    "        j = n-2\n",
    "        \n",
    "\n",
    "        while i<=j:\n",
    "\n",
    "            mid = (i+j)//2\n",
    "\n",
    "            if nums[mid]>nums[mid-1] and nums[mid]>nums[mid+1]:\n",
    "                return mid\n",
    "            \n",
    "            if nums[mid]<nums[mid+1]:\n",
    "                i = mid+1\n",
    "            else:\n",
    "                j = mid-1\n",
    "        return -1\n"
   ]
  },
  {
   "cell_type": "code",
   "execution_count": 2,
   "metadata": {},
   "outputs": [
    {
     "data": {
      "text/plain": [
       "3"
      ]
     },
     "execution_count": 2,
     "metadata": {},
     "output_type": "execute_result"
    }
   ],
   "source": [
    "arr = [1,3,5,6,2,1]\n",
    "findPeakElement(arr)"
   ]
  },
  {
   "cell_type": "code",
   "execution_count": null,
   "metadata": {},
   "outputs": [],
   "source": []
  }
 ],
 "metadata": {
  "kernelspec": {
   "display_name": "Python 3",
   "language": "python",
   "name": "python3"
  },
  "language_info": {
   "codemirror_mode": {
    "name": "ipython",
    "version": 3
   },
   "file_extension": ".py",
   "mimetype": "text/x-python",
   "name": "python",
   "nbconvert_exporter": "python",
   "pygments_lexer": "ipython3",
   "version": "3.11.9"
  }
 },
 "nbformat": 4,
 "nbformat_minor": 2
}
