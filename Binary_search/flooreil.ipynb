{
 "cells": [
  {
   "cell_type": "code",
   "execution_count": 3,
   "metadata": {},
   "outputs": [],
   "source": [
    "def getFloorAndCeil(x ,arr):\n",
    "        # code here\n",
    "        arr.sort()\n",
    "        floor = -1\n",
    "        ceil = -1\n",
    "        \n",
    "        i = 0\n",
    "        j = len(arr)-1\n",
    "        \n",
    "        while i<=j:\n",
    "            \n",
    "            mid = (i+j)//2\n",
    "            \n",
    "            if arr[mid]<= x:\n",
    "                \n",
    "                floor = arr[mid]\n",
    "                \n",
    "                i = mid+1\n",
    "                \n",
    "            else:\n",
    "                j = mid-1\n",
    "        \n",
    "        i = 0\n",
    "        j = len(arr)-1\n",
    "        \n",
    "        while i<=j:\n",
    "            \n",
    "            mid = (i+j)//2\n",
    "            \n",
    "            if arr[mid]>= x:\n",
    "                \n",
    "                ceil = arr[mid]\n",
    "                \n",
    "                j = mid-1\n",
    "                \n",
    "            else:\n",
    "                i = mid+1\n",
    "        \n",
    "        return floor , ceil"
   ]
  },
  {
   "cell_type": "code",
   "execution_count": 4,
   "metadata": {},
   "outputs": [
    {
     "data": {
      "text/plain": [
       "(6, 9)"
      ]
     },
     "execution_count": 4,
     "metadata": {},
     "output_type": "execute_result"
    }
   ],
   "source": [
    "x = 7\n",
    "arr= [5, 6, 9, 9, 6, 5, 5, 6]\n",
    "getFloorAndCeil(x , arr)"
   ]
  },
  {
   "cell_type": "code",
   "execution_count": null,
   "metadata": {},
   "outputs": [],
   "source": []
  }
 ],
 "metadata": {
  "kernelspec": {
   "display_name": "Python 3",
   "language": "python",
   "name": "python3"
  },
  "language_info": {
   "codemirror_mode": {
    "name": "ipython",
    "version": 3
   },
   "file_extension": ".py",
   "mimetype": "text/x-python",
   "name": "python",
   "nbconvert_exporter": "python",
   "pygments_lexer": "ipython3",
   "version": "3.11.9"
  }
 },
 "nbformat": 4,
 "nbformat_minor": 2
}
