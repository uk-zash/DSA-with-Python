{
 "cells": [
  {
   "cell_type": "code",
   "execution_count": 3,
   "metadata": {},
   "outputs": [],
   "source": [
    "def maximum_sum(arr , k):\n",
    "\n",
    "    subset = set()\n",
    "    i = 0\n",
    "    j = 0\n",
    "    n = len(arr)\n",
    "    ans = 0\n",
    "    total = 0\n",
    "\n",
    "    while i<n:\n",
    "\n",
    "        while len(subset) != k and i<n and j<n:\n",
    "            if arr[i] in subset:\n",
    "                subset.remove(arr[j])\n",
    "                total-= arr[j]\n",
    "                j+=1\n",
    "            else:\n",
    "                subset.add(arr[i])\n",
    "                total+=arr[i]\n",
    "                i+=1\n",
    "        \n",
    "        if len(subset) == k:\n",
    "            ans = max(ans , total)\n",
    "        \n",
    "        if j<n:\n",
    "            total-=arr[j]\n",
    "            subset.remove(arr[j])\n",
    "            j+=1\n",
    "    return ans\n",
    "\n"
   ]
  },
  {
   "cell_type": "code",
   "execution_count": 4,
   "metadata": {},
   "outputs": [
    {
     "data": {
      "text/plain": [
       "15"
      ]
     },
     "execution_count": 4,
     "metadata": {},
     "output_type": "execute_result"
    }
   ],
   "source": [
    "nums = [1 , 5, 4 , 2, 9 , 9 , 9]\n",
    "maximum_sum(nums , 3)"
   ]
  },
  {
   "cell_type": "code",
   "execution_count": null,
   "metadata": {},
   "outputs": [],
   "source": []
  }
 ],
 "metadata": {
  "kernelspec": {
   "display_name": "Python 3",
   "language": "python",
   "name": "python3"
  },
  "language_info": {
   "codemirror_mode": {
    "name": "ipython",
    "version": 3
   },
   "file_extension": ".py",
   "mimetype": "text/x-python",
   "name": "python",
   "nbconvert_exporter": "python",
   "pygments_lexer": "ipython3",
   "version": "3.11.9"
  }
 },
 "nbformat": 4,
 "nbformat_minor": 2
}
