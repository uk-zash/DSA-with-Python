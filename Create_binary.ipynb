{
 "cells": [
  {
   "cell_type": "markdown",
   "metadata": {},
   "source": [
    "You are given a 2D integer array descriptions where descriptions[i] = [parenti, childi, isLefti] indicates that parenti is the parent of childi in a binary tree of unique values. Furthermore,\n",
    "\n",
    "If isLefti == 1, then childi is the left child of parenti.\n",
    "If isLefti == 0, then childi is the right child of parenti.\n",
    "Construct the binary tree described by descriptions and return its root.\n",
    "\n",
    "The test cases will be generated such that the binary tree is valid.\n",
    "\n",
    " \n",
    "\n",
    "Example 1:\n",
    "\n",
    "\n",
    "Input: descriptions = [[20,15,1],[20,17,0],[50,20,1],[50,80,0],[80,19,1]]\n",
    "Output: [50,20,80,15,17,19]\n",
    "Explanation: The root node is the node with value 50 since it has no parent.\n",
    "The resulting binary tree is shown in the diagram.\n",
    "Example 2:\n",
    "\n",
    "\n",
    "Input: descriptions = [[1,2,1],[2,3,0],[3,4,1]]\n",
    "Output: [1,2,null,null,3,4]\n",
    "Explanation: The root node is the node with value 1 since it has no parent.\n",
    "The resulting binary tree is shown in the diagram.\n"
   ]
  },
  {
   "cell_type": "code",
   "execution_count": 31,
   "metadata": {},
   "outputs": [],
   "source": [
    "class TreeNode(object):\n",
    "    def __init__(self, val=0, left=None, right=None):\n",
    "        self.val = val\n",
    "        self.left = left\n",
    "        self.right = right\n",
    "class Solution(object):\n",
    "    def createBinaryTree(self, descriptions):\n",
    "\n",
    "        children = set()\n",
    "        nodes = {}\n",
    "\n",
    "        for parent , child , left in descriptions:\n",
    "\n",
    "            if parent not in nodes:\n",
    "                nodes[parent] = TreeNode(parent)\n",
    "            \n",
    "            \n",
    "            if child not in nodes:\n",
    "                nodes[child] = TreeNode(child)\n",
    "                \n",
    "            \n",
    "            if left:\n",
    "                nodes[parent].left = nodes[child]\n",
    "                \n",
    "            \n",
    "            else:\n",
    "                nodes[parent].right = nodes[child]\n",
    "            children.add(child)\n",
    "        print(nodes)\n",
    "        print(children)\n",
    "\n",
    "        \n",
    "        for d in descriptions:\n",
    "            if d[0] not in children:\n",
    "                # print(nodes[d[0]])\n",
    "                return nodes[d[0]]\n",
    "            \n",
    "        \n",
    "        return None"
   ]
  },
  {
   "cell_type": "code",
   "execution_count": null,
   "metadata": {},
   "outputs": [],
   "source": []
  }
 ],
 "metadata": {
  "kernelspec": {
   "display_name": "Python 3",
   "language": "python",
   "name": "python3"
  },
  "language_info": {
   "codemirror_mode": {
    "name": "ipython",
    "version": 3
   },
   "file_extension": ".py",
   "mimetype": "text/x-python",
   "name": "python",
   "nbconvert_exporter": "python",
   "pygments_lexer": "ipython3",
   "version": "3.11.9"
  }
 },
 "nbformat": 4,
 "nbformat_minor": 2
}
