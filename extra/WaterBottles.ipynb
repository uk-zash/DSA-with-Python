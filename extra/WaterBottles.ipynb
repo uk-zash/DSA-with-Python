{
 "cells": [
  {
   "cell_type": "markdown",
   "metadata": {},
   "source": [
    "There are numBottles water bottles that are initially full of water. You can exchange numExchange empty water bottles from the market with one full water bottle.\n",
    "\n",
    "The operation of drinking a full water bottle turns it into an empty bottle.\n",
    "\n",
    "Given the two integers numBottles and numExchange, return the maximum number of water bottles you can drink.\n",
    "\n",
    " "
   ]
  },
  {
   "cell_type": "code",
   "execution_count": 3,
   "metadata": {},
   "outputs": [],
   "source": [
    "def numWaterBottles( numBottles, numExchange):\n",
    "        \"\"\"\n",
    "        :type numBottles: int\n",
    "        :type numExchange: int\n",
    "        :rtype: int\n",
    "        \"\"\"\n",
    "        res= numBottles\n",
    "        while numBottles >= numExchange:\n",
    "\n",
    "            res+= numBottles//numExchange\n",
    "            numBottles = numBottles//numExchange + (numBottles%numExchange)\n",
    "        \n",
    "        return res\n",
    "        \n",
    "        "
   ]
  },
  {
   "cell_type": "code",
   "execution_count": 4,
   "metadata": {},
   "outputs": [
    {
     "data": {
      "text/plain": [
       "13"
      ]
     },
     "execution_count": 4,
     "metadata": {},
     "output_type": "execute_result"
    }
   ],
   "source": [
    "# Input: numBottles = 9, numExchange = 3\n",
    "# Output: 13\n",
    "# Explanation: You can exchange 3 empty bottles to get 1 full water bottle.\n",
    "# Number of water bottles you can drink: 9 + 3 + 1 = 13.\n",
    "\n",
    "numWaterBottles(9 , 3)"
   ]
  },
  {
   "cell_type": "code",
   "execution_count": null,
   "metadata": {},
   "outputs": [],
   "source": []
  }
 ],
 "metadata": {
  "kernelspec": {
   "display_name": "Python 3",
   "language": "python",
   "name": "python3"
  },
  "language_info": {
   "codemirror_mode": {
    "name": "ipython",
    "version": 3
   },
   "file_extension": ".py",
   "mimetype": "text/x-python",
   "name": "python",
   "nbconvert_exporter": "python",
   "pygments_lexer": "ipython3",
   "version": "3.11.9"
  }
 },
 "nbformat": 4,
 "nbformat_minor": 2
}
