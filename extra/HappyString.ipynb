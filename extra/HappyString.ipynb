{
 "cells": [
  {
   "cell_type": "code",
   "execution_count": 44,
   "metadata": {},
   "outputs": [],
   "source": [
    "def happyString(a , b, c):\n",
    "\n",
    "    ans = []\n",
    "\n",
    "    while True:\n",
    "\n",
    "        chars = []\n",
    "\n",
    "        if a>0:\n",
    "            chars.append((\"a\" , a))\n",
    "        if b>0 :\n",
    "            chars.append((\"b\" , b))\n",
    "        if c>0:\n",
    "            chars.append((\"c\" , c))\n",
    "\n",
    "        chars.sort(key = lambda x: -x[1])\n",
    "\n",
    "        if not chars:\n",
    "            break\n",
    "\n",
    "        w , count = chars[0]\n",
    "\n",
    "        if len(ans)>=2 and ans[-1]== w and ans[-2]==w:\n",
    "\n",
    "            if len(chars)<2:\n",
    "                break\n",
    "            w , count = chars[1]\n",
    "        \n",
    "        ans.append(w)\n",
    "\n",
    "        if w==\"a\":\n",
    "                a-=1\n",
    "        if w == \"b\":\n",
    "                b-=1\n",
    "        if w == \"c\":\n",
    "                c-=1\n",
    "\n",
    "                \n",
    "        \n",
    "\n",
    "    \n",
    "    print(\"\".join(ans))"
   ]
  },
  {
   "cell_type": "code",
   "execution_count": 45,
   "metadata": {},
   "outputs": [
    {
     "name": "stdout",
     "output_type": "stream",
     "text": [
      "ccaccbcc\n"
     ]
    }
   ],
   "source": [
    "a = 1 \n",
    "b = 1\n",
    "c = 7\n",
    "\n",
    "happyString(a , b , c)"
   ]
  },
  {
   "cell_type": "code",
   "execution_count": null,
   "metadata": {},
   "outputs": [],
   "source": []
  }
 ],
 "metadata": {
  "kernelspec": {
   "display_name": "Python 3",
   "language": "python",
   "name": "python3"
  },
  "language_info": {
   "codemirror_mode": {
    "name": "ipython",
    "version": 3
   },
   "file_extension": ".py",
   "mimetype": "text/x-python",
   "name": "python",
   "nbconvert_exporter": "python",
   "pygments_lexer": "ipython3",
   "version": "3.11.9"
  }
 },
 "nbformat": 4,
 "nbformat_minor": 2
}
