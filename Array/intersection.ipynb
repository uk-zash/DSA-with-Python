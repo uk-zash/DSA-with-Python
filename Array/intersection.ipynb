{
 "cells": [
  {
   "cell_type": "code",
   "execution_count": 1,
   "metadata": {},
   "outputs": [],
   "source": [
    "def findArrayIntersection(arr , brr):\n",
    "    \n",
    "    \n",
    "    i = 0\n",
    "    j = 0\n",
    "    intersection = []\n",
    "\n",
    "    while i<len(arr) and j<len(brr):\n",
    "\n",
    "        if arr[i] == brr[j]:\n",
    "            intersection.append(arr[i])\n",
    "\n",
    "            i+=1\n",
    "            j+=1\n",
    "        \n",
    "        elif arr[i]< brr[j]:\n",
    "            \n",
    "            i+=1\n",
    "        else:\n",
    "            j+=1\n",
    "        \n",
    "    return intersection"
   ]
  },
  {
   "cell_type": "code",
   "execution_count": 3,
   "metadata": {},
   "outputs": [
    {
     "data": {
      "text/plain": [
       "[2, 3, 3, 4, 6]"
      ]
     },
     "execution_count": 3,
     "metadata": {},
     "output_type": "execute_result"
    }
   ],
   "source": [
    "arr1 = [1 ,2 , 3 , 3 , 4 , 5 , 6]\n",
    "arr2 = [2 , 3 , 3 , 4 , 6]\n",
    "findArrayIntersection(arr1 , arr2)"
   ]
  },
  {
   "cell_type": "code",
   "execution_count": null,
   "metadata": {},
   "outputs": [],
   "source": []
  }
 ],
 "metadata": {
  "kernelspec": {
   "display_name": "Python 3",
   "language": "python",
   "name": "python3"
  },
  "language_info": {
   "codemirror_mode": {
    "name": "ipython",
    "version": 3
   },
   "file_extension": ".py",
   "mimetype": "text/x-python",
   "name": "python",
   "nbconvert_exporter": "python",
   "pygments_lexer": "ipython3",
   "version": "3.11.9"
  }
 },
 "nbformat": 4,
 "nbformat_minor": 2
}
