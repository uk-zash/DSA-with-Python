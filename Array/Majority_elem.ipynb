{
 "cells": [
  {
   "cell_type": "code",
   "execution_count": 1,
   "metadata": {},
   "outputs": [],
   "source": [
    "def majorityElement( nums):\n",
    "        \n",
    "\n",
    "        elem = {}\n",
    "\n",
    "        for i in nums:\n",
    "\n",
    "            elem[i] = elem.get(i , 0)+1\n",
    "        \n",
    "        thres = (len(nums)//2)\n",
    "        for elem , freq in elem.items():\n",
    "\n",
    "            if freq>thres:\n",
    "                return elem\n"
   ]
  },
  {
   "cell_type": "code",
   "execution_count": 2,
   "metadata": {},
   "outputs": [
    {
     "data": {
      "text/plain": [
       "2"
      ]
     },
     "execution_count": 2,
     "metadata": {},
     "output_type": "execute_result"
    }
   ],
   "source": [
    "arr = [2,2,1,1,1,2,2]\n",
    "majorityElement(arr)"
   ]
  },
  {
   "cell_type": "markdown",
   "metadata": {},
   "source": [
    "# Moores Voting ALgorith\n"
   ]
  },
  {
   "cell_type": "code",
   "execution_count": 6,
   "metadata": {},
   "outputs": [],
   "source": [
    "def majorityElement1(nums):\n",
    "        elem = 0\n",
    "        count = 0\n",
    "\n",
    "        for i in nums:\n",
    "            if count==0:\n",
    "                elem = i\n",
    "                count+=1\n",
    "            \n",
    "            elif elem==i:\n",
    "                count+=1\n",
    "            \n",
    "            else:\n",
    "                count-=1\n",
    "        return elem\n"
   ]
  },
  {
   "cell_type": "code",
   "execution_count": 7,
   "metadata": {},
   "outputs": [
    {
     "data": {
      "text/plain": [
       "2"
      ]
     },
     "execution_count": 7,
     "metadata": {},
     "output_type": "execute_result"
    }
   ],
   "source": [
    "arr = [2,2,1,1,1,2,2]\n",
    "majorityElement1(arr)"
   ]
  },
  {
   "cell_type": "code",
   "execution_count": null,
   "metadata": {},
   "outputs": [],
   "source": []
  }
 ],
 "metadata": {
  "kernelspec": {
   "display_name": "Python 3",
   "language": "python",
   "name": "python3"
  },
  "language_info": {
   "codemirror_mode": {
    "name": "ipython",
    "version": 3
   },
   "file_extension": ".py",
   "mimetype": "text/x-python",
   "name": "python",
   "nbconvert_exporter": "python",
   "pygments_lexer": "ipython3",
   "version": "3.11.9"
  }
 },
 "nbformat": 4,
 "nbformat_minor": 2
}
