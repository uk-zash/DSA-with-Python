{
 "cells": [
  {
   "cell_type": "code",
   "execution_count": 19,
   "metadata": {},
   "outputs": [],
   "source": [
    "from collections import Counter\n",
    "def sortingArr(arr1 , arr2):\n",
    "\n",
    "    # ans = []\n",
    "    # for i in arr2:\n",
    "    #         while i in arr1:\n",
    "    #             ans.append(i)\n",
    "    #             arr1.remove(i)\n",
    "            \n",
    "    # return ans + sorted(arr1)\n",
    "\n",
    "    arr1 = Counter(arr1)\n",
    "\n",
    "    res = []\n",
    "\n",
    "    for i in arr2:\n",
    "\n",
    "        if i in arr1:\n",
    "            res.extend([i] * arr1[i])\n",
    "            del arr1[i]\n",
    "    \n",
    "    for j in sorted(arr1):\n",
    "        res.extend([j] * arr1[j])\n",
    "\n",
    "    return res\n",
    "\n"
   ]
  },
  {
   "cell_type": "code",
   "execution_count": 20,
   "metadata": {},
   "outputs": [
    {
     "data": {
      "text/plain": [
       "[2, 2, 2, 1, 4, 3, 3, 9, 6, 7, 19]"
      ]
     },
     "execution_count": 20,
     "metadata": {},
     "output_type": "execute_result"
    }
   ],
   "source": [
    "arr1 = [2,3,1,3,2,4,6,7,9,2,19]\n",
    "arr2 = [2,1,4,3,9,6]\n",
    "\n",
    "sortingArr(arr1 , arr2)"
   ]
  },
  {
   "cell_type": "code",
   "execution_count": null,
   "metadata": {},
   "outputs": [],
   "source": []
  },
  {
   "cell_type": "code",
   "execution_count": null,
   "metadata": {},
   "outputs": [],
   "source": []
  }
 ],
 "metadata": {
  "kernelspec": {
   "display_name": "Python 3",
   "language": "python",
   "name": "python3"
  },
  "language_info": {
   "codemirror_mode": {
    "name": "ipython",
    "version": 3
   },
   "file_extension": ".py",
   "mimetype": "text/x-python",
   "name": "python",
   "nbconvert_exporter": "python",
   "pygments_lexer": "ipython3",
   "version": "3.11.9"
  }
 },
 "nbformat": 4,
 "nbformat_minor": 2
}
