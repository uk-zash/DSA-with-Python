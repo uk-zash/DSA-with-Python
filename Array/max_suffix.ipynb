{
 "cells": [
  {
   "cell_type": "code",
   "execution_count": 37,
   "metadata": {},
   "outputs": [],
   "source": [
    "def longestCommonPrefix(arr1, arr2):\n",
    "        \n",
    "        prefix = set()\n",
    "        \n",
    "        arr1 = map(str , arr1)\n",
    "        for i in arr1:\n",
    "            for l in range(len(i)+1):\n",
    "                 \n",
    "                prefix.add(i[:l])\n",
    "\n",
    "        longest = \"\"\n",
    "\n",
    "        arr2 = map(str , arr2)\n",
    "\n",
    "        for j in arr2:\n",
    "            for k in range(len(j)+1):\n",
    "                print(j[:k] in prefix)\n",
    "                 \n",
    "                if j[:k] in prefix:\n",
    "                    if len(j[:k])> len(longest):\n",
    "                        longest = j[:k]\n",
    "            \n",
    "        \n",
    "        return len(longest)"
   ]
  },
  {
   "cell_type": "code",
   "execution_count": 38,
   "metadata": {},
   "outputs": [
    {
     "name": "stdout",
     "output_type": "stream",
     "text": [
      "True\n",
      "True\n",
      "True\n",
      "True\n",
      "False\n"
     ]
    },
    {
     "data": {
      "text/plain": [
       "3"
      ]
     },
     "execution_count": 38,
     "metadata": {},
     "output_type": "execute_result"
    }
   ],
   "source": [
    "arr1 = [1 , 10 , 100] \n",
    "arr2 = [1000]\n",
    "\n",
    "longestCommonPrefix(arr1 , arr2)"
   ]
  },
  {
   "cell_type": "code",
   "execution_count": null,
   "metadata": {},
   "outputs": [],
   "source": []
  }
 ],
 "metadata": {
  "kernelspec": {
   "display_name": "Python 3",
   "language": "python",
   "name": "python3"
  },
  "language_info": {
   "codemirror_mode": {
    "name": "ipython",
    "version": 3
   },
   "file_extension": ".py",
   "mimetype": "text/x-python",
   "name": "python",
   "nbconvert_exporter": "python",
   "pygments_lexer": "ipython3",
   "version": "3.11.9"
  }
 },
 "nbformat": 4,
 "nbformat_minor": 2
}
