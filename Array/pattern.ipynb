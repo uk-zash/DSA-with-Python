{
 "cells": [
  {
   "cell_type": "code",
   "execution_count": 4,
   "metadata": {},
   "outputs": [
    {
     "name": "stdout",
     "output_type": "stream",
     "text": [
      " 1 a\n",
      "  2 b\n",
      "   3 c\n",
      "    4 d\n",
      "     5 e\n"
     ]
    }
   ],
   "source": [
    "a = 97\n",
    "n =int(input(\"Enter the number between 0 and 26\"))\n",
    "for i in range(n):\n",
    "    print(\" \"*i , end = \" \")\n",
    "    ele = i+1\n",
    "    alpha = chr(a+i)\n",
    "    print(f\"{ele} {alpha}\")\n"
   ]
  },
  {
   "cell_type": "code",
   "execution_count": null,
   "metadata": {},
   "outputs": [],
   "source": []
  }
 ],
 "metadata": {
  "kernelspec": {
   "display_name": "Python 3",
   "language": "python",
   "name": "python3"
  },
  "language_info": {
   "codemirror_mode": {
    "name": "ipython",
    "version": 3
   },
   "file_extension": ".py",
   "mimetype": "text/x-python",
   "name": "python",
   "nbconvert_exporter": "python",
   "pygments_lexer": "ipython3",
   "version": "3.11.9"
  }
 },
 "nbformat": 4,
 "nbformat_minor": 2
}
