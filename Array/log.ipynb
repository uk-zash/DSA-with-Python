{
 "cells": [
  {
   "cell_type": "markdown",
   "metadata": {},
   "source": [
    "The Leetcode file system keeps a log each time some user performs a change folder operation.\n",
    "\n",
    "The operations are described below:\n",
    "\n",
    "\"../\" : Move to the parent folder of the current folder. (If you are already in the main folder, remain in the same folder).\n",
    "\"./\" : Remain in the same folder.\n",
    "\"x/\" : Move to the child folder named x (This folder is guaranteed to always exist).\n",
    "You are given a list of strings logs where logs[i] is the operation performed by the user at the ith step.\n",
    "\n",
    "The file system starts in the main folder, then the operations in logs are performed.\n",
    "\n",
    "Return the minimum number of operations needed to go back to the main folder after the change folder operations.\n",
    "\n",
    " \n",
    "\n",
    "Example 1:\n",
    "\n",
    "\n",
    "\n",
    "Input: logs = [\"d1/\",\"d2/\",\"../\",\"d21/\",\"./\"]\n",
    "Output: 2\n",
    "Explanation: Use this change folder operation \"../\" 2 times and go back to the main folder.\n",
    "Example 2:\n",
    "\n",
    "\n",
    "\n",
    "Input: logs = [\"d1/\",\"d2/\",\"./\",\"d3/\",\"../\",\"d31/\"]\n",
    "Output: 3\n",
    "Example 3:\n",
    "\n",
    "Input: logs = [\"d1/\",\"../\",\"../\",\"../\"]\n",
    "Output: 0"
   ]
  },
  {
   "cell_type": "code",
   "execution_count": 6,
   "metadata": {},
   "outputs": [],
   "source": [
    "def minOperations(logs):\n",
    "        \n",
    "        res = 0\n",
    "        for i in range(len(logs)):\n",
    "\n",
    "            if logs[i] == \"./\":\n",
    "                pass\n",
    "            elif logs[i] == \"../\":\n",
    "                if res == 0:\n",
    "                    pass\n",
    "                else:\n",
    "                    res -=1\n",
    "            else:\n",
    "                res+=1\n",
    "        return res\n",
    "        "
   ]
  },
  {
   "cell_type": "code",
   "execution_count": 7,
   "metadata": {},
   "outputs": [
    {
     "data": {
      "text/plain": [
       "3"
      ]
     },
     "execution_count": 7,
     "metadata": {},
     "output_type": "execute_result"
    }
   ],
   "source": [
    "logs = [\"d1/\",\"d2/\",\"./\",\"d3/\",\"../\",\"d31/\"]\n",
    "minOperations(logs)"
   ]
  },
  {
   "cell_type": "markdown",
   "metadata": {},
   "source": [
    "Using Stack"
   ]
  },
  {
   "cell_type": "code",
   "execution_count": 9,
   "metadata": {},
   "outputs": [],
   "source": [
    "def minOperations(logs):\n",
    "        \n",
    "        stack = []\n",
    "        for log in logs:\n",
    "            if log == \"./\":\n",
    "                continue\n",
    "            elif log == \"../\":\n",
    "                if stack:\n",
    "                    stack.pop()\n",
    "            else:\n",
    "                stack.append(log)\n",
    "        return len(stack)\n"
   ]
  },
  {
   "cell_type": "code",
   "execution_count": 10,
   "metadata": {},
   "outputs": [
    {
     "data": {
      "text/plain": [
       "3"
      ]
     },
     "execution_count": 10,
     "metadata": {},
     "output_type": "execute_result"
    }
   ],
   "source": [
    "logs = [\"d1/\",\"d2/\",\"./\",\"d3/\",\"../\",\"d31/\"]\n",
    "minOperations(logs)"
   ]
  },
  {
   "cell_type": "code",
   "execution_count": null,
   "metadata": {},
   "outputs": [],
   "source": []
  }
 ],
 "metadata": {
  "kernelspec": {
   "display_name": "Python 3",
   "language": "python",
   "name": "python3"
  },
  "language_info": {
   "codemirror_mode": {
    "name": "ipython",
    "version": 3
   },
   "file_extension": ".py",
   "mimetype": "text/x-python",
   "name": "python",
   "nbconvert_exporter": "python",
   "pygments_lexer": "ipython3",
   "version": "3.11.9"
  }
 },
 "nbformat": 4,
 "nbformat_minor": 2
}
