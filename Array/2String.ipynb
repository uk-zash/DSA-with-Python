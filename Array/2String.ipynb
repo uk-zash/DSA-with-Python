{
 "cells": [
  {
   "cell_type": "code",
   "execution_count": 22,
   "metadata": {},
   "outputs": [],
   "source": [
    "def _2String(sentence1 , sentence2):\n",
    "\n",
    "    arr1 = sentence1.split()\n",
    "    # print(arr1)\n",
    "    arr2 = sentence2.split()\n",
    "    # print(arr2)\n",
    "\n",
    "    start , end = 0 , 0\n",
    "    if len(arr1)< len(arr2):\n",
    "        arr1 , arr2 = arr2 , arr1\n",
    "    \n",
    "    n1  , n2 = len(arr1) , len(arr2)\n",
    "\n",
    "    while start<n2 and arr1[start] == arr2[start]:\n",
    "        start += 1\n",
    "    \n",
    "    while end<n2  and arr1[n1 - end - 1] == arr2[n2 - end - 1]:\n",
    "        end += 1\n",
    "    \n",
    "    print(start , end)\n",
    "    print(n2)\n",
    "    return start + end >= n2\n"
   ]
  },
  {
   "cell_type": "code",
   "execution_count": 23,
   "metadata": {},
   "outputs": [
    {
     "name": "stdout",
     "output_type": "stream",
     "text": [
      "1 0\n",
      "1\n"
     ]
    },
    {
     "data": {
      "text/plain": [
       "True"
      ]
     },
     "execution_count": 23,
     "metadata": {},
     "output_type": "execute_result"
    }
   ],
   "source": [
    "s1 = \"Eating right now\"\n",
    "s2 = \"Eating\"\n",
    "\n",
    "_2String(s1 , s2)"
   ]
  },
  {
   "cell_type": "code",
   "execution_count": null,
   "metadata": {},
   "outputs": [],
   "source": []
  }
 ],
 "metadata": {
  "kernelspec": {
   "display_name": "Python 3",
   "language": "python",
   "name": "python3"
  },
  "language_info": {
   "codemirror_mode": {
    "name": "ipython",
    "version": 3
   },
   "file_extension": ".py",
   "mimetype": "text/x-python",
   "name": "python",
   "nbconvert_exporter": "python",
   "pygments_lexer": "ipython3",
   "version": "3.11.9"
  }
 },
 "nbformat": 4,
 "nbformat_minor": 2
}
