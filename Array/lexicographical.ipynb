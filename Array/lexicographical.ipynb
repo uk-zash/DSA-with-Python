{
 "cells": [
  {
   "cell_type": "code",
   "execution_count": 27,
   "metadata": {},
   "outputs": [],
   "source": [
    "def lexicalOrder(n):\n",
    "       \n",
    "        res = []\n",
    "\n",
    "        def dfs(a):\n",
    "            \n",
    "            if a>n:\n",
    "                return \n",
    "            \n",
    "            res.append(a)\n",
    "\n",
    "            for i in range(10):\n",
    "                c = a*10 + i\n",
    "                if c>n:\n",
    "                    break\n",
    "                \n",
    "                dfs(c)\n",
    "            \n",
    "        for i in range(1 ,10):\n",
    "             dfs(i)\n",
    "        \n",
    "        return res\n",
    "\n",
    "        "
   ]
  },
  {
   "cell_type": "code",
   "execution_count": 28,
   "metadata": {},
   "outputs": [
    {
     "data": {
      "text/plain": [
       "[1, 10, 11, 12, 13, 14, 2, 3, 4, 5, 6, 7, 8, 9]"
      ]
     },
     "execution_count": 28,
     "metadata": {},
     "output_type": "execute_result"
    }
   ],
   "source": [
    "n = 14\n",
    "lexicalOrder(n)"
   ]
  },
  {
   "cell_type": "code",
   "execution_count": null,
   "metadata": {},
   "outputs": [],
   "source": []
  }
 ],
 "metadata": {
  "kernelspec": {
   "display_name": "Python 3",
   "language": "python",
   "name": "python3"
  },
  "language_info": {
   "codemirror_mode": {
    "name": "ipython",
    "version": 3
   },
   "file_extension": ".py",
   "mimetype": "text/x-python",
   "name": "python",
   "nbconvert_exporter": "python",
   "pygments_lexer": "ipython3",
   "version": "3.11.9"
  }
 },
 "nbformat": 4,
 "nbformat_minor": 2
}
