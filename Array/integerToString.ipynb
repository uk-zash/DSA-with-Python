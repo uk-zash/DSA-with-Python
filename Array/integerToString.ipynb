{
 "cells": [
  {
   "cell_type": "code",
   "execution_count": 11,
   "metadata": {},
   "outputs": [],
   "source": [
    "def numberToWords(num):\n",
    "       \n",
    "        if num == 0:\n",
    "            return \"Zero\"\n",
    "\n",
    "        below_20 = [\"\", \"One\", \"Two\", \"Three\", \"Four\", \"Five\", \"Six\", \"Seven\", \"Eight\", \"Nine\", \"Ten\", \"Eleven\", \"Twelve\", \"Thirteen\", \"Fourteen\", \"Fifteen\", \"Sixteen\", \"Seventeen\", \n",
    "\"Eighteen\", \"Nineteen\"]\n",
    "        tens = [\"\", \"\", \"Twenty\", \"Thirty\", \"Forty\", \"Fifty\", \"Sixty\", \"Seventy\", \"Eighty\", \"Ninety\"]\n",
    "        thousands = [\"\", \"Thousand\", \"Million\", \"Billion\"]\n",
    "        \n",
    "        def helper(n):\n",
    "            if n == 0:\n",
    "                return \"\"\n",
    "            elif n < 20:\n",
    "                return below_20[n] + \" \"\n",
    "            elif n < 100:\n",
    "                return tens[n // 10] + \" \" + helper(n % 10)\n",
    "            else:\n",
    "                return below_20[n // 100] + \" Hundred \" + helper(n % 100)\n",
    "\n",
    "        res = \"\"\n",
    "        for i in range(len(thousands)):\n",
    "            if num % 1000 != 0:\n",
    "                res = helper(num % 1000) + thousands[i] + \" \" + res\n",
    "            num //= 1000\n",
    "        \n",
    "        return res.strip()"
   ]
  },
  {
   "cell_type": "code",
   "execution_count": 12,
   "metadata": {},
   "outputs": [
    {
     "data": {
      "text/plain": [
       "'One Hundred Twenty Three'"
      ]
     },
     "execution_count": 12,
     "metadata": {},
     "output_type": "execute_result"
    }
   ],
   "source": [
    "numberToWords(123)"
   ]
  },
  {
   "cell_type": "code",
   "execution_count": 8,
   "metadata": {},
   "outputs": [
    {
     "data": {
      "text/plain": [
       "2"
      ]
     },
     "execution_count": 8,
     "metadata": {},
     "output_type": "execute_result"
    }
   ],
   "source": [
    "23//10"
   ]
  },
  {
   "cell_type": "code",
   "execution_count": null,
   "metadata": {},
   "outputs": [],
   "source": []
  }
 ],
 "metadata": {
  "kernelspec": {
   "display_name": "Python 3",
   "language": "python",
   "name": "python3"
  },
  "language_info": {
   "codemirror_mode": {
    "name": "ipython",
    "version": 3
   },
   "file_extension": ".py",
   "mimetype": "text/x-python",
   "name": "python",
   "nbconvert_exporter": "python",
   "pygments_lexer": "ipython3",
   "version": "3.11.9"
  }
 },
 "nbformat": 4,
 "nbformat_minor": 2
}
