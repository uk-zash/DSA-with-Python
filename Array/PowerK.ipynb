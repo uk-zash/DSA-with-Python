{
 "cells": [
  {
   "cell_type": "code",
   "execution_count": 10,
   "metadata": {},
   "outputs": [],
   "source": [
    "def PowerK(nums , k):\n",
    "    \n",
    "    ans = []\n",
    "    n = len(nums)\n",
    "\n",
    "    for i in range(n-k+1):\n",
    "        arr = nums[i:i+k]\n",
    "\n",
    "        flag = True\n",
    "        for j in range(1 , len(arr)):\n",
    "            if arr[j] - arr[j-1] != 1:\n",
    "                flag = False\n",
    "        \n",
    "        if flag :\n",
    "            ans.append(max(arr))\n",
    "        else:\n",
    "            ans.append(-1)\n",
    "    return ans\n"
   ]
  },
  {
   "cell_type": "code",
   "execution_count": 11,
   "metadata": {},
   "outputs": [
    {
     "data": {
      "text/plain": [
       "[-1, -1]"
      ]
     },
     "execution_count": 11,
     "metadata": {},
     "output_type": "execute_result"
    }
   ],
   "source": [
    "# nums = [1 , 2 , 3, 4 , 3 ,2 , 5]\n",
    "nums = [2,2,2,2,2]\n",
    "PowerK(nums , 4)"
   ]
  },
  {
   "cell_type": "code",
   "execution_count": null,
   "metadata": {},
   "outputs": [],
   "source": []
  }
 ],
 "metadata": {
  "kernelspec": {
   "display_name": "Python 3",
   "language": "python",
   "name": "python3"
  },
  "language_info": {
   "codemirror_mode": {
    "name": "ipython",
    "version": 3
   },
   "file_extension": ".py",
   "mimetype": "text/x-python",
   "name": "python",
   "nbconvert_exporter": "python",
   "pygments_lexer": "ipython3",
   "version": "3.11.9"
  }
 },
 "nbformat": 4,
 "nbformat_minor": 2
}
