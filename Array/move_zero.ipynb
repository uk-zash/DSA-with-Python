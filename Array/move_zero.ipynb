{
 "cells": [
  {
   "cell_type": "code",
   "execution_count": 1,
   "metadata": {},
   "outputs": [],
   "source": [
    "#Brute Force\n"
   ]
  },
  {
   "cell_type": "code",
   "execution_count": 17,
   "metadata": {},
   "outputs": [],
   "source": [
    "def moveZeroesB( nums):\n",
    "\n",
    "        nz = []\n",
    "\n",
    "        for i in range(len(nums)):\n",
    "            if nums[i] != 0:\n",
    "                nz.append(nums[i])\n",
    "        \n",
    "        for i in range(len(nz)):\n",
    "\n",
    "            nums[i] = nz[i]\n",
    "        \n",
    "        for i in range(len(nz) , len(nums)):\n",
    "        \n",
    "            nums[i] =0\n",
    "\n",
    "        return nums\n",
    "        "
   ]
  },
  {
   "cell_type": "code",
   "execution_count": 19,
   "metadata": {},
   "outputs": [
    {
     "name": "stdout",
     "output_type": "stream",
     "text": [
      "[1, 3, 2, 4, 5, 0, 0, 0]\n",
      "0.0009999275207519531\n"
     ]
    }
   ],
   "source": [
    "import time\n",
    "start_time = time.time()\n",
    "arr = [1 , 0 , 3, 2 , 0 , 4 , 5 , 0]\n",
    "print(moveZeroesB(arr))\n",
    "end_time = time.time()\n",
    "\n",
    "print(end_time - start_time)"
   ]
  },
  {
   "cell_type": "markdown",
   "metadata": {},
   "source": [
    "#Optimal"
   ]
  },
  {
   "cell_type": "code",
   "execution_count": 22,
   "metadata": {},
   "outputs": [],
   "source": [
    "\n",
    "\n",
    "def moveZeroes(nums):\n",
    "        \n",
    "        j = -1\n",
    "        for i in range(len(nums)):\n",
    "            if nums[i]==0:\n",
    "                j = i\n",
    "                break\n",
    "\n",
    "        if j== -1: return nums\n",
    "\n",
    "        for i in range(j+1 , len(nums)):\n",
    "\n",
    "            if nums[i]!=0:\n",
    "\n",
    "                nums[j] , nums[i] = nums[i] , nums[j]\n",
    "                j+=1\n",
    "        return nums\n"
   ]
  },
  {
   "cell_type": "code",
   "execution_count": 23,
   "metadata": {},
   "outputs": [
    {
     "name": "stdout",
     "output_type": "stream",
     "text": [
      "[1, 3, 2, 4, 5, 0, 0, 0]\n",
      "0.0009992122650146484\n"
     ]
    }
   ],
   "source": [
    "import time\n",
    "start_time = time.time()\n",
    "arr = [1 , 0 , 3, 2 , 0 , 4 , 5 , 0]\n",
    "print(moveZeroes(arr))\n",
    "end_time = time.time()\n",
    "\n",
    "print(end_time - start_time)"
   ]
  },
  {
   "cell_type": "code",
   "execution_count": null,
   "metadata": {},
   "outputs": [],
   "source": []
  }
 ],
 "metadata": {
  "kernelspec": {
   "display_name": "Python 3",
   "language": "python",
   "name": "python3"
  },
  "language_info": {
   "codemirror_mode": {
    "name": "ipython",
    "version": 3
   },
   "file_extension": ".py",
   "mimetype": "text/x-python",
   "name": "python",
   "nbconvert_exporter": "python",
   "pygments_lexer": "ipython3",
   "version": "3.11.9"
  }
 },
 "nbformat": 4,
 "nbformat_minor": 2
}
