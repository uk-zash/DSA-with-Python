{
 "cells": [
  {
   "cell_type": "code",
   "execution_count": 6,
   "metadata": {},
   "outputs": [],
   "source": [
    "def shellSort(arr):\n",
    "    gap = len(arr)//2\n",
    "\n",
    "    while gap >= 1:\n",
    "        for i in range(gap, len(arr)):\n",
    "            temp = arr[i]\n",
    "            j = i\n",
    "            while j >= gap and arr[j - gap] > temp:\n",
    "                arr[j] = arr[j - gap]\n",
    "                j -= gap\n",
    "            arr[j] = temp\n",
    "\n",
    "        gap //= 2\n",
    "\n",
    "    return arr\n"
   ]
  },
  {
   "cell_type": "code",
   "execution_count": 7,
   "metadata": {},
   "outputs": [
    {
     "data": {
      "text/plain": [
       "[2, 5, 7, 9, 15, 19, 23, 29, 31]"
      ]
     },
     "execution_count": 7,
     "metadata": {},
     "output_type": "execute_result"
    }
   ],
   "source": [
    "arr = [23 , 29 , 15 , 19 , 31 , 7 , 9 , 5 ,2]\n",
    "\n",
    "shellSort(arr)"
   ]
  },
  {
   "cell_type": "code",
   "execution_count": null,
   "metadata": {},
   "outputs": [],
   "source": []
  }
 ],
 "metadata": {
  "kernelspec": {
   "display_name": "Python 3",
   "language": "python",
   "name": "python3"
  },
  "language_info": {
   "codemirror_mode": {
    "name": "ipython",
    "version": 3
   },
   "file_extension": ".py",
   "mimetype": "text/x-python",
   "name": "python",
   "nbconvert_exporter": "python",
   "pygments_lexer": "ipython3",
   "version": "3.11.9"
  }
 },
 "nbformat": 4,
 "nbformat_minor": 2
}
