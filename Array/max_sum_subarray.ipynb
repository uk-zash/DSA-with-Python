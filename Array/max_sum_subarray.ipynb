{
 "cells": [
  {
   "cell_type": "code",
   "execution_count": 9,
   "metadata": {},
   "outputs": [],
   "source": [
    "def pairWithMaxSum( arr, N):\n",
    "        \n",
    "        if N < 2:\n",
    "            return None \n",
    "\n",
    "        max_sum = arr[0] + arr[1]\n",
    "    \n",
    "        for i in range(1, N - 1):\n",
    "            current_sum = arr[i] + arr[i + 1]\n",
    "            max_sum = max(max_sum, current_sum)\n",
    "    \n",
    "        return max_sum"
   ]
  },
  {
   "cell_type": "code",
   "execution_count": 10,
   "metadata": {},
   "outputs": [
    {
     "data": {
      "text/plain": [
       "11"
      ]
     },
     "execution_count": 10,
     "metadata": {},
     "output_type": "execute_result"
    }
   ],
   "source": [
    "arr = [4 , 3, 1 ,5 ,6]\n",
    "n = len(arr)\n",
    "\n",
    "pairWithMaxSum(arr , n)"
   ]
  },
  {
   "cell_type": "code",
   "execution_count": null,
   "metadata": {},
   "outputs": [],
   "source": []
  }
 ],
 "metadata": {
  "kernelspec": {
   "display_name": "Python 3",
   "language": "python",
   "name": "python3"
  },
  "language_info": {
   "codemirror_mode": {
    "name": "ipython",
    "version": 3
   },
   "file_extension": ".py",
   "mimetype": "text/x-python",
   "name": "python",
   "nbconvert_exporter": "python",
   "pygments_lexer": "ipython3",
   "version": "3.11.9"
  }
 },
 "nbformat": 4,
 "nbformat_minor": 2
}
