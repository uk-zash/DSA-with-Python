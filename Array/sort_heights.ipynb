{
 "cells": [
  {
   "cell_type": "code",
   "execution_count": 2,
   "metadata": {},
   "outputs": [
    {
     "name": "stdout",
     "output_type": "stream",
     "text": [
      "[('Umar', 32), ('k', 13), ('g', 432)]\n"
     ]
    }
   ],
   "source": [
    "a = [\"Umar\" , \"k\" , \"g\"]\n",
    "b = [32,13,432]\n",
    "\n",
    "ans = list(zip(a , b))\n",
    "print(ans)"
   ]
  },
  {
   "cell_type": "code",
   "execution_count": 3,
   "metadata": {},
   "outputs": [],
   "source": [
    "def sortPeople(names, heights):\n",
    "    \n",
    "\n",
    "        n = len(heights)\n",
    "        \n",
    "\n",
    "        for i in range(n):\n",
    "            max_idx = i\n",
    "            for j in range(i+1, n):\n",
    "                if heights[j] > heights[max_idx]:\n",
    "                    max_idx = j\n",
    "            \n",
    "            heights[i], heights[max_idx] = heights[max_idx], heights[i]\n",
    "            names[i], names[max_idx] = names[max_idx], names[i]\n",
    "        \n",
    "        return names"
   ]
  },
  {
   "cell_type": "code",
   "execution_count": 4,
   "metadata": {},
   "outputs": [
    {
     "data": {
      "text/plain": [
       "['Mary', 'Emma', 'John']"
      ]
     },
     "execution_count": 4,
     "metadata": {},
     "output_type": "execute_result"
    }
   ],
   "source": [
    "names = [\"Mary\",\"John\",\"Emma\"]\n",
    "heights = [180,165,170]\n",
    "sortPeople(names , heights)"
   ]
  },
  {
   "cell_type": "code",
   "execution_count": 17,
   "metadata": {},
   "outputs": [
    {
     "name": "stdout",
     "output_type": "stream",
     "text": [
      "[(32, 'Umar'), (13, 'k'), (432, 'g')]\n",
      "[(432, 'g'), (32, 'Umar'), (13, 'k')]\n"
     ]
    }
   ],
   "source": [
    "a = [\"Umar\" , \"k\" , \"g\"]\n",
    "b = [32,13,432]\n",
    "\n",
    "ans = list(zip(b , a))\n",
    "print(ans)\n",
    "ans1 = sorted(ans , key=lambda x: x[0] , reverse=True)\n",
    "print(ans1)\n"
   ]
  },
  {
   "cell_type": "code",
   "execution_count": 5,
   "metadata": {},
   "outputs": [],
   "source": [
    "def sortPeople1(names, heights):\n",
    "    \n",
    "        people = list(zip(heights, names))\n",
    "        people.sort(reverse=True, key=lambda x: x[0])\n",
    "        sorted_names = [name for height, name in people]\n",
    "        \n",
    "        return sorted_names"
   ]
  },
  {
   "cell_type": "code",
   "execution_count": 6,
   "metadata": {},
   "outputs": [
    {
     "data": {
      "text/plain": [
       "['Mary', 'Emma', 'John']"
      ]
     },
     "execution_count": 6,
     "metadata": {},
     "output_type": "execute_result"
    }
   ],
   "source": [
    "\n",
    "names = [\"Mary\",\"John\",\"Emma\"]\n",
    "heights = [180,165,170]\n",
    "sortPeople1(names , heights)"
   ]
  },
  {
   "cell_type": "code",
   "execution_count": null,
   "metadata": {},
   "outputs": [],
   "source": []
  }
 ],
 "metadata": {
  "kernelspec": {
   "display_name": "Python 3",
   "language": "python",
   "name": "python3"
  },
  "language_info": {
   "codemirror_mode": {
    "name": "ipython",
    "version": 3
   },
   "file_extension": ".py",
   "mimetype": "text/x-python",
   "name": "python",
   "nbconvert_exporter": "python",
   "pygments_lexer": "ipython3",
   "version": "3.11.9"
  }
 },
 "nbformat": 4,
 "nbformat_minor": 2
}
