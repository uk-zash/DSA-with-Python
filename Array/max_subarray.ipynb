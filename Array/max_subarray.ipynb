{
 "cells": [
  {
   "cell_type": "markdown",
   "metadata": {},
   "source": [
    "# For both positive and negative Array"
   ]
  },
  {
   "cell_type": "code",
   "execution_count": 28,
   "metadata": {},
   "outputs": [],
   "source": [
    "def lenOfLongSubarr (arr, n, k) : \n",
    "        \n",
    "        has = {}\n",
    "        \n",
    "        sum = 0\n",
    "        max_len = 0\n",
    "        \n",
    "        for i in range(n):\n",
    "            \n",
    "            sum+=arr[i]\n",
    "            \n",
    "            if sum==k:\n",
    "                max_len = max(max_len , i+1)\n",
    "                \n",
    "            rem = sum-k\n",
    "            \n",
    "            if rem in  has:\n",
    "                \n",
    "                new_len = i - has[rem]\n",
    "                max_len = max(max_len , new_len)\n",
    "            \n",
    "            if sum not in has:\n",
    "                \n",
    "                has[sum] = i\n",
    "            \n",
    "            \n",
    "        return max_len\n",
    "                "
   ]
  },
  {
   "cell_type": "code",
   "execution_count": 29,
   "metadata": {},
   "outputs": [
    {
     "data": {
      "text/plain": [
       "4"
      ]
     },
     "execution_count": 29,
     "metadata": {},
     "output_type": "execute_result"
    }
   ],
   "source": [
    "arr = [10, 5, 2, 7, 1, 9]\n",
    "k = 15\n",
    "n = len(arr)\n",
    "lenOfLongSubarr(arr , n, k)"
   ]
  },
  {
   "cell_type": "markdown",
   "metadata": {},
   "source": [
    "# For poistive array only"
   ]
  },
  {
   "cell_type": "code",
   "execution_count": 35,
   "metadata": {},
   "outputs": [],
   "source": [
    "def lenOfLongSubarrr (arr, n, k) : \n",
    "\n",
    "    i = 0 \n",
    "    j = 0\n",
    "    sum = arr[0]\n",
    "    length = 0\n",
    "    while j<n:\n",
    "\n",
    "        while i<=j and sum>k:\n",
    "            sum-= arr[i]\n",
    "            i+=1\n",
    "        \n",
    "        if sum == k:\n",
    "            length = max(length, j-i+1)\n",
    "        \n",
    "        j+=1\n",
    "\n",
    "        if j<n:\n",
    "            sum+= arr[j]\n",
    "\n",
    "        \n",
    "        \n",
    "    return length\n",
    "\n",
    "\n",
    "\n",
    "\n",
    "        \n",
    "                "
   ]
  },
  {
   "cell_type": "code",
   "execution_count": 36,
   "metadata": {},
   "outputs": [
    {
     "data": {
      "text/plain": [
       "4"
      ]
     },
     "execution_count": 36,
     "metadata": {},
     "output_type": "execute_result"
    }
   ],
   "source": [
    "arr = [10, 5, 2, 7, 1, 9]\n",
    "k = 15\n",
    "n = len(arr)\n",
    "lenOfLongSubarrr(arr , n, k)"
   ]
  },
  {
   "cell_type": "code",
   "execution_count": null,
   "metadata": {},
   "outputs": [],
   "source": []
  }
 ],
 "metadata": {
  "kernelspec": {
   "display_name": "Python 3",
   "language": "python",
   "name": "python3"
  },
  "language_info": {
   "codemirror_mode": {
    "name": "ipython",
    "version": 3
   },
   "file_extension": ".py",
   "mimetype": "text/x-python",
   "name": "python",
   "nbconvert_exporter": "python",
   "pygments_lexer": "ipython3",
   "version": "3.11.9"
  }
 },
 "nbformat": 4,
 "nbformat_minor": 2
}
