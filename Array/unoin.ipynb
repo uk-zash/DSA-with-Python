{
 "cells": [
  {
   "cell_type": "code",
   "execution_count": 6,
   "metadata": {},
   "outputs": [],
   "source": [
    "def findUnion(arr1, arr2,):\n",
    "       \n",
    "        res = []\n",
    "        \n",
    "        for i in arr1:\n",
    "            \n",
    "            if i not in res:\n",
    "                res.append(i)\n",
    "        print(res)\n",
    "        for j in arr2:\n",
    "            \n",
    "            if j not in res:\n",
    "                res.append(j)\n",
    "        print(res)\n",
    "        res = sorted(res)\n",
    "        return res      "
   ]
  },
  {
   "cell_type": "code",
   "execution_count": 7,
   "metadata": {},
   "outputs": [
    {
     "name": "stdout",
     "output_type": "stream",
     "text": [
      "[-7, 8]\n",
      "[-7, 8, -8, -3]\n"
     ]
    },
    {
     "data": {
      "text/plain": [
       "[-8, -7, -3, 8]"
      ]
     },
     "execution_count": 7,
     "metadata": {},
     "output_type": "execute_result"
    }
   ],
   "source": [
    "arr1 = [-7, 8]\n",
    "arr2 = [-8 ,-3 ,8]\n",
    "findUnion(arr1 , arr2)"
   ]
  },
  {
   "cell_type": "code",
   "execution_count": 22,
   "metadata": {},
   "outputs": [],
   "source": [
    "def findUnion(arr1, arr2,):\n",
    "       \n",
    "        i = 0\n",
    "        j = 0\n",
    "        union = []\n",
    "\n",
    "        while i<len(arr1) and j<len(arr2):\n",
    "            \n",
    "            if arr1[i] <= arr2[j]:\n",
    "                if len(union)==0 or union[-1] != arr1[i]:\n",
    "                    union.append(arr1[i])\n",
    "                i+=1\n",
    "            elif arr1[i] > arr2[j]:\n",
    "                if len(union)==0 or union[-1] != arr1[j]:\n",
    "                    union.append(arr2[j])\n",
    "                j+=1\n",
    "            \n",
    "        \n",
    "        while i<len(arr1):\n",
    "             \n",
    "            if union[-1] != arr1[i]:\n",
    "                union.append(arr1[i])\n",
    "            i+=1\n",
    "        while j<len(arr2):\n",
    "             \n",
    "            if union[-1] != arr2[j]:\n",
    "                union.append(arr2[j])\n",
    "            j+=1\n",
    "        \n",
    "        return union\n",
    "                  \n",
    "\n",
    "\n",
    "\n"
   ]
  },
  {
   "cell_type": "code",
   "execution_count": 23,
   "metadata": {},
   "outputs": [
    {
     "data": {
      "text/plain": [
       "[-8, -7, -3, 8]"
      ]
     },
     "execution_count": 23,
     "metadata": {},
     "output_type": "execute_result"
    }
   ],
   "source": [
    "arr1 = [-7, 8]\n",
    "arr2 = [-8 ,-3 ,8]\n",
    "findUnion(arr1 , arr2)"
   ]
  },
  {
   "cell_type": "code",
   "execution_count": null,
   "metadata": {},
   "outputs": [],
   "source": []
  }
 ],
 "metadata": {
  "kernelspec": {
   "display_name": "Python 3",
   "language": "python",
   "name": "python3"
  },
  "language_info": {
   "codemirror_mode": {
    "name": "ipython",
    "version": 3
   },
   "file_extension": ".py",
   "mimetype": "text/x-python",
   "name": "python",
   "nbconvert_exporter": "python",
   "pygments_lexer": "ipython3",
   "version": "3.11.9"
  }
 },
 "nbformat": 4,
 "nbformat_minor": 2
}
