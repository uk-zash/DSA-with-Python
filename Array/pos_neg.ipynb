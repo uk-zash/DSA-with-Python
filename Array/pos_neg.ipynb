{
 "cells": [
  {
   "cell_type": "code",
   "execution_count": 13,
   "metadata": {},
   "outputs": [],
   "source": [
    "def rearrangeArray(nums):\n",
    "       \n",
    "\n",
    "        neg = []\n",
    "        pos = []\n",
    "        for i in nums:\n",
    "            if i<0:\n",
    "                neg.append(i)\n",
    "            else:\n",
    "                pos.append(i)\n",
    "\n",
    "        i = 0\n",
    "        j = 0\n",
    "       \n",
    "        while j<len(nums):\n",
    "\n",
    "            nums[j] = pos[i]\n",
    "            nums[j+1] = neg[i]\n",
    "            j+=2\n",
    "            i+=1\n",
    "        return nums    "
   ]
  },
  {
   "cell_type": "code",
   "execution_count": 14,
   "metadata": {},
   "outputs": [
    {
     "data": {
      "text/plain": [
       "[3, -2, 1, -5, 2, -4]"
      ]
     },
     "execution_count": 14,
     "metadata": {},
     "output_type": "execute_result"
    }
   ],
   "source": [
    "arr = [3,1,-2,-5,2,-4]\n",
    "\n",
    "rearrangeArray(arr)"
   ]
  },
  {
   "cell_type": "code",
   "execution_count": 25,
   "metadata": {},
   "outputs": [],
   "source": [
    "def rearrangeArray1(nums):\n",
    "       \n",
    "        n = len(nums)\n",
    "        arr = [0]*n\n",
    "        positive_index = 0\n",
    "        negative_index = 1\n",
    "\n",
    "        for i in nums:\n",
    "\n",
    "            if i<0:\n",
    "                arr[negative_index] = i\n",
    "                negative_index+=2\n",
    "            else:\n",
    "                arr[positive_index] = i\n",
    "                positive_index+=2\n",
    "\n",
    "        return arr    "
   ]
  },
  {
   "cell_type": "code",
   "execution_count": 26,
   "metadata": {},
   "outputs": [
    {
     "data": {
      "text/plain": [
       "[3, -2, 1, -5, 2, -4]"
      ]
     },
     "execution_count": 26,
     "metadata": {},
     "output_type": "execute_result"
    }
   ],
   "source": [
    "arrr = [3,1,-2,-5,2,-4]\n",
    "\n",
    "rearrangeArray1(arrr)"
   ]
  },
  {
   "cell_type": "code",
   "execution_count": null,
   "metadata": {},
   "outputs": [],
   "source": []
  }
 ],
 "metadata": {
  "kernelspec": {
   "display_name": "Python 3",
   "language": "python",
   "name": "python3"
  },
  "language_info": {
   "codemirror_mode": {
    "name": "ipython",
    "version": 3
   },
   "file_extension": ".py",
   "mimetype": "text/x-python",
   "name": "python",
   "nbconvert_exporter": "python",
   "pygments_lexer": "ipython3",
   "version": "3.11.9"
  }
 },
 "nbformat": 4,
 "nbformat_minor": 2
}
