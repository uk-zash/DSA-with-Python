{
 "cells": [
  {
   "cell_type": "code",
   "execution_count": 10,
   "metadata": {},
   "outputs": [],
   "source": [
    "def sortColors( nums):\n",
    "        \n",
    "\n",
    "        count0 = 0\n",
    "        count1 = 0\n",
    "        count2 = 0\n",
    "\n",
    "        for i in nums:\n",
    "            if i==0:\n",
    "                count0+=1\n",
    "            if i==1:\n",
    "                count1+=1\n",
    "            else:\n",
    "                count2+=1\n",
    "\n",
    "        for j in range(count0):\n",
    "            nums[j] = 0\n",
    "        for k in range(count0 , count0+count1):\n",
    "            nums[k] = 1\n",
    "        for l in range(count0+count1 , len(nums)):\n",
    "            nums[l] = 2\n",
    "        return nums"
   ]
  },
  {
   "cell_type": "code",
   "execution_count": 11,
   "metadata": {},
   "outputs": [
    {
     "data": {
      "text/plain": [
       "[0, 0, 1, 1, 2, 2]"
      ]
     },
     "execution_count": 11,
     "metadata": {},
     "output_type": "execute_result"
    }
   ],
   "source": [
    "arr = [2,0,2,1,1,0]\n",
    "sortColors(arr)"
   ]
  },
  {
   "cell_type": "markdown",
   "metadata": {},
   "source": [
    "# Dutch Flag Algo"
   ]
  },
  {
   "cell_type": "code",
   "execution_count": 26,
   "metadata": {},
   "outputs": [],
   "source": [
    "def sortColors1( nums):\n",
    "\n",
    "\n",
    "    low = 0\n",
    "    mid = 0\n",
    "    high = len(nums) - 1\n",
    "\n",
    "    while mid<=high:\n",
    "\n",
    "        if nums[mid]==0:\n",
    "            nums[low],nums[mid] = nums[mid],nums[low]\n",
    "            low += 1\n",
    "            mid+=1\n",
    "        elif nums[mid]==1:\n",
    "            mid+=1\n",
    "\n",
    "        else:\n",
    "            nums[high],nums[mid] = nums[mid],nums[high]\n",
    "            high-=1\n",
    "    return nums\n",
    "        \n",
    "\n",
    "        "
   ]
  },
  {
   "cell_type": "code",
   "execution_count": 27,
   "metadata": {},
   "outputs": [
    {
     "data": {
      "text/plain": [
       "[0, 0, 1, 1, 2, 2]"
      ]
     },
     "execution_count": 27,
     "metadata": {},
     "output_type": "execute_result"
    }
   ],
   "source": [
    "arr = [2,0,2,1,1,0]\n",
    "sortColors1(arr)"
   ]
  },
  {
   "cell_type": "code",
   "execution_count": null,
   "metadata": {},
   "outputs": [],
   "source": []
  }
 ],
 "metadata": {
  "kernelspec": {
   "display_name": "Python 3",
   "language": "python",
   "name": "python3"
  },
  "language_info": {
   "codemirror_mode": {
    "name": "ipython",
    "version": 3
   },
   "file_extension": ".py",
   "mimetype": "text/x-python",
   "name": "python",
   "nbconvert_exporter": "python",
   "pygments_lexer": "ipython3",
   "version": "3.11.9"
  }
 },
 "nbformat": 4,
 "nbformat_minor": 2
}
