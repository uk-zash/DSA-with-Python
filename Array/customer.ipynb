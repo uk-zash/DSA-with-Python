{
 "cells": [
  {
   "cell_type": "markdown",
   "metadata": {},
   "source": [
    "There is a restaurant with a single chef. You are given an array customers, where customers[i] = [arrivali, timei]:\n",
    "\n",
    "arrivali is the arrival time of the ith customer. The arrival times are sorted in non-decreasing order.\n",
    "timei is the time needed to prepare the order of the ith customer.\n",
    "When a customer arrives, he gives the chef his order, and the chef starts preparing it once he is idle. The customer waits till the chef finishes preparing his order. The chef does not prepare food for more than one customer at a time. The chef prepares food for customers in the order they were given in the input.\n",
    "\n",
    "Return the average waiting time of all customers. Solutions within 10-5 from the actual answer are considered accepted.\n",
    "\n",
    " \n",
    "\n",
    "Example 1:\n",
    "\n",
    "Input: customers = [[1,2],[2,5],[4,3]]\n",
    "Output: 5.00000\n",
    "Explanation:\n",
    "1) The first customer arrives at time 1, the chef takes his order and starts preparing it immediately at time 1, and finishes at time 3, so the waiting time of the first customer is 3 - 1 = 2.\n",
    "2) The second customer arrives at time 2, the chef takes his order and starts preparing it at time 3, and finishes at time 8, so the waiting time of the second customer is 8 - 2 = 6.\n",
    "3) The third customer arrives at time 4, the chef takes his order and starts preparing it at time 8, and finishes at time 11, so the waiting time of the third customer is 11 - 4 = 7.\n",
    "So the average waiting time = (2 + 6 + 7) / 3 = 5.\n",
    "\n",
    "Example 2:\n",
    "\n",
    "Input: customers = [[5,2],[5,4],[10,3],[20,1]]\n",
    "Output: 3.25000\n",
    "Explanation:\n",
    "1) The first customer arrives at time 5, the chef takes his order and starts preparing it immediately at time 5, and finishes at time 7, so the waiting time of the first customer is 7 - 5 = 2.\n",
    "2) The second customer arrives at time 5, the chef takes his order and starts preparing it at time 7, and finishes at time 11, so the waiting time of the second customer is 11 - 5 = 6.\n",
    "3) The third customer arrives at time 10, the chef takes his order and starts preparing it at time 11, and finishes at time 14, so the waiting time of the third customer is 14 - 10 = 4.\n",
    "4) The fourth customer arrives at time 20, the chef takes his order and starts preparing it immediately at time 20, and finishes at time 21, so the waiting time of the fourth customer is 21 - 20 = 1.\n",
    "So the average waiting time = (2 + 6 + 4 + 1) / 4 = 3.25.\n"
   ]
  },
  {
   "cell_type": "code",
   "execution_count": 42,
   "metadata": {},
   "outputs": [],
   "source": [
    "def averageWaitingTime( customers):\n",
    "        \"\"\"\n",
    "        :type customers: List[List[int]]\n",
    "        :rtype: float\n",
    "        \"\"\"\n",
    "        total_time = customers[0][0] + customers[0][1] - (customers[0][0])\n",
    "        finish_time = customers[0][0] + customers[0][1] \n",
    "        print(finish_time)\n",
    "\n",
    "        for i in range(1 , len(customers)):\n",
    "            arrival_time = customers[i][0]\n",
    "            cooking_time = customers[i][1]\n",
    "            start_time = max(arrival_time , finish_time)\n",
    "            finish_time = start_time + cooking_time\n",
    "            next_waiting_time = (finish_time - arrival_time)\n",
    "            total_time+=  next_waiting_time\n",
    "        avg_wt = total_time/len(customers)\n",
    "        return round(avg_wt , 5)"
   ]
  },
  {
   "cell_type": "code",
   "execution_count": 43,
   "metadata": {},
   "outputs": [
    {
     "name": "stdout",
     "output_type": "stream",
     "text": [
      "7\n"
     ]
    },
    {
     "data": {
      "text/plain": [
       "3.25"
      ]
     },
     "execution_count": 43,
     "metadata": {},
     "output_type": "execute_result"
    }
   ],
   "source": [
    "arr = [[5,2] , [5 , 4] , [10 , 3] , [20,1]]\n",
    "\n",
    "averageWaitingTime(arr)"
   ]
  },
  {
   "cell_type": "code",
   "execution_count": 44,
   "metadata": {},
   "outputs": [
    {
     "name": "stdout",
     "output_type": "stream",
     "text": [
      "3.25000\n"
     ]
    }
   ],
   "source": [
    "def averageWaitingTime(customers):\n",
    "    \"\"\"\n",
    "    :type customers: List[List[int]]\n",
    "    :rtype: float\n",
    "    \"\"\"\n",
    "    total_time = 0\n",
    "    finish_time = 0\n",
    "\n",
    "    for arrival, time in customers:\n",
    "        if finish_time < arrival:\n",
    "            finish_time = arrival\n",
    "        finish_time += time\n",
    "        total_time += finish_time - arrival\n",
    "\n",
    "    average_wait_time = total_time / len(customers)\n",
    "    return f\"{average_wait_time:.5f}\"\n",
    "\n",
    "\n",
    "customers = [[5, 2], [5, 4], [10, 3], [20, 1]]\n",
    "print(averageWaitingTime(customers))"
   ]
  },
  {
   "cell_type": "code",
   "execution_count": null,
   "metadata": {},
   "outputs": [],
   "source": []
  }
 ],
 "metadata": {
  "kernelspec": {
   "display_name": "Python 3",
   "language": "python",
   "name": "python3"
  },
  "language_info": {
   "codemirror_mode": {
    "name": "ipython",
    "version": 3
   },
   "file_extension": ".py",
   "mimetype": "text/x-python",
   "name": "python",
   "nbconvert_exporter": "python",
   "pygments_lexer": "ipython3",
   "version": "3.11.9"
  }
 },
 "nbformat": 4,
 "nbformat_minor": 2
}
