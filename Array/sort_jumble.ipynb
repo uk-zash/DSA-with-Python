{
 "cells": [
  {
   "cell_type": "markdown",
   "metadata": {},
   "source": [
    "https://leetcode.com/problems/sort-the-jumbled-numbers/?envType=daily-question&envId=2024-07-24"
   ]
  },
  {
   "cell_type": "code",
   "execution_count": 35,
   "metadata": {},
   "outputs": [],
   "source": [
    "def sortJumbled(mapping, nums):\n",
    "    \n",
    "        num_to_mapped = []\n",
    "        \n",
    "        \n",
    "        for num in nums:\n",
    "            num_str = str(num)\n",
    "            mapped_str = \"\"\n",
    "            for digit in num_str:\n",
    "                mapped_str += str(mapping[int(digit)])\n",
    "            mapped_num = int(mapped_str)  \n",
    "            num_to_mapped.append((num, mapped_num))\n",
    "        \n",
    "        \n",
    "        sorted_num_to_mapped = sorted(num_to_mapped, key=lambda x: x[1])\n",
    "        \n",
    "        result = [item[0] for item in sorted_num_to_mapped]\n",
    "        \n",
    "        return result\n",
    "\n",
    "        \n",
    "\n",
    "\n"
   ]
  },
  {
   "cell_type": "code",
   "execution_count": 36,
   "metadata": {},
   "outputs": [
    {
     "data": {
      "text/plain": [
       "[338, 38, 991]"
      ]
     },
     "execution_count": 36,
     "metadata": {},
     "output_type": "execute_result"
    }
   ],
   "source": [
    "mapping = [8,9,4,0,2,1,3,5,7,6]\n",
    "nums = [991,338,38]\n",
    "\n",
    "sortJumbled(mapping , nums)\n"
   ]
  },
  {
   "cell_type": "code",
   "execution_count": null,
   "metadata": {},
   "outputs": [],
   "source": []
  }
 ],
 "metadata": {
  "kernelspec": {
   "display_name": "Python 3",
   "language": "python",
   "name": "python3"
  },
  "language_info": {
   "codemirror_mode": {
    "name": "ipython",
    "version": 3
   },
   "file_extension": ".py",
   "mimetype": "text/x-python",
   "name": "python",
   "nbconvert_exporter": "python",
   "pygments_lexer": "ipython3",
   "version": "3.11.9"
  }
 },
 "nbformat": 4,
 "nbformat_minor": 2
}
