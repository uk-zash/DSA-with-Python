{
 "cells": [
  {
   "cell_type": "code",
   "execution_count": 5,
   "metadata": {},
   "outputs": [],
   "source": [
    "\n",
    "def shell(arr):\n",
    "\n",
    "    gap = (len(arr))//2\n",
    "\n",
    "    while gap>=1:\n",
    "\n",
    "        for j in range(gap , len(arr) ):\n",
    "\n",
    "            i = j\n",
    "            temp = arr[i]\n",
    "\n",
    "            while i>=gap and arr[i-gap]> temp:\n",
    "                arr[i] = arr[i-gap]\n",
    "                i = i-gap\n",
    "            \n",
    "            arr[i] = temp\n",
    "        gap = gap//2\n",
    "    \n",
    "    return arr"
   ]
  },
  {
   "cell_type": "code",
   "execution_count": 6,
   "metadata": {},
   "outputs": [
    {
     "data": {
      "text/plain": [
       "[1, 1, 2, 3, 4, 5, 51]"
      ]
     },
     "execution_count": 6,
     "metadata": {},
     "output_type": "execute_result"
    }
   ],
   "source": [
    "arr = [3,1,4,1,51,5,2]\n",
    "shell(arr)"
   ]
  },
  {
   "cell_type": "code",
   "execution_count": null,
   "metadata": {},
   "outputs": [],
   "source": []
  }
 ],
 "metadata": {
  "kernelspec": {
   "display_name": "Python 3",
   "language": "python",
   "name": "python3"
  },
  "language_info": {
   "codemirror_mode": {
    "name": "ipython",
    "version": 3
   },
   "file_extension": ".py",
   "mimetype": "text/x-python",
   "name": "python",
   "nbconvert_exporter": "python",
   "pygments_lexer": "ipython3",
   "version": "3.11.9"
  }
 },
 "nbformat": 4,
 "nbformat_minor": 2
}
