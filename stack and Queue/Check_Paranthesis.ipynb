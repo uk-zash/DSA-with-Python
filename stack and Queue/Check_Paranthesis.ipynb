{
 "cells": [
  {
   "cell_type": "code",
   "execution_count": 1,
   "metadata": {},
   "outputs": [],
   "source": [
    "def isValid(s):\n",
    "        stack = []\n",
    "        matching_pairs = {')': '(', ']': '[', '}': '{'}\n",
    "\n",
    "        for char in s:\n",
    "            if char in matching_pairs.values():\n",
    "                stack.append(char)\n",
    "            elif char in matching_pairs.keys():\n",
    "                if stack == [] or stack.pop() != matching_pairs[char]:\n",
    "                    return False\n",
    "            else:\n",
    "                return False\n",
    "\n",
    "        return stack == []\n"
   ]
  },
  {
   "cell_type": "code",
   "execution_count": 2,
   "metadata": {},
   "outputs": [
    {
     "data": {
      "text/plain": [
       "True"
      ]
     },
     "execution_count": 2,
     "metadata": {},
     "output_type": "execute_result"
    }
   ],
   "source": [
    "isValid(\"(){}[]\")"
   ]
  },
  {
   "cell_type": "code",
   "execution_count": null,
   "metadata": {},
   "outputs": [],
   "source": []
  }
 ],
 "metadata": {
  "kernelspec": {
   "display_name": "Python 3",
   "language": "python",
   "name": "python3"
  },
  "language_info": {
   "codemirror_mode": {
    "name": "ipython",
    "version": 3
   },
   "file_extension": ".py",
   "mimetype": "text/x-python",
   "name": "python",
   "nbconvert_exporter": "python",
   "pygments_lexer": "ipython3",
   "version": "3.11.9"
  }
 },
 "nbformat": 4,
 "nbformat_minor": 2
}
