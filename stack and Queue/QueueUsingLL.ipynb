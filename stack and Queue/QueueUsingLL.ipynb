{
 "cells": [
  {
   "cell_type": "code",
   "execution_count": 3,
   "metadata": {},
   "outputs": [],
   "source": [
    "class Node: \n",
    "      \n",
    "    def __init__(self, data): \n",
    "        self.data = data \n",
    "        self.next = None\n",
    "        \n",
    "class MyQueue:\n",
    "    \n",
    "    def __init__(self):\n",
    "        self.front = None\n",
    "        self.rear = None\n",
    "\n",
    "    def push(self, item): \n",
    "        node = Node(item)\n",
    "        \n",
    "        if self.front is None:\n",
    "         \n",
    "            self.front = node\n",
    "            self.rear = node\n",
    "        else:\n",
    "            self.rear.next = node\n",
    "            self.rear = node\n",
    "    \n",
    "\n",
    "    def pop(self):\n",
    "        if self.front is None:\n",
    "            return -1\n",
    "        \n",
    "        pop_el = self.front.data\n",
    "        self.front = self.front.next\n",
    "        \n",
    "        if self.front is None:\n",
    "            self.rear = None\n",
    "        \n",
    "        return pop_el"
   ]
  },
  {
   "cell_type": "code",
   "execution_count": 5,
   "metadata": {},
   "outputs": [
    {
     "data": {
      "text/plain": [
       "2"
      ]
     },
     "execution_count": 5,
     "metadata": {},
     "output_type": "execute_result"
    }
   ],
   "source": [
    "obj = MyQueue()\n",
    "obj.push(2)\n",
    "obj.push(4)\n",
    "obj.push(8)\n",
    "obj.pop()"
   ]
  },
  {
   "cell_type": "code",
   "execution_count": null,
   "metadata": {},
   "outputs": [],
   "source": []
  }
 ],
 "metadata": {
  "kernelspec": {
   "display_name": "Python 3",
   "language": "python",
   "name": "python3"
  },
  "language_info": {
   "codemirror_mode": {
    "name": "ipython",
    "version": 3
   },
   "file_extension": ".py",
   "mimetype": "text/x-python",
   "name": "python",
   "nbconvert_exporter": "python",
   "pygments_lexer": "ipython3",
   "version": "3.11.9"
  }
 },
 "nbformat": 4,
 "nbformat_minor": 2
}
