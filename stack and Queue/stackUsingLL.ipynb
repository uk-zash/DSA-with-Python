{
 "cells": [
  {
   "cell_type": "code",
   "execution_count": 1,
   "metadata": {},
   "outputs": [],
   "source": [
    "class MyStack:\n",
    "    \n",
    "    def __init__(self):\n",
    "        self.top = None\n",
    "\n",
    "\n",
    "    class StackNode:\n",
    "\n",
    "        def __init__(self, data):\n",
    "            self.data = data\n",
    "            self.next = None\n",
    "\n",
    "    def push(self, data):\n",
    "\n",
    "\n",
    "        node = self.StackNode(data)\n",
    "        node.next = self.top\n",
    "        self.top = node\n",
    "\n",
    "    def pop(self):\n",
    "\n",
    "\n",
    "        if self.is_empty():\n",
    "            return -1\n",
    "        \n",
    "        pop_el = self.top.data\n",
    "        self.top = self.top.next\n",
    "        return pop_el\n",
    "    def is_empty(self):\n",
    "        return self.top is None"
   ]
  },
  {
   "cell_type": "code",
   "execution_count": 2,
   "metadata": {},
   "outputs": [
    {
     "data": {
      "text/plain": [
       "4"
      ]
     },
     "execution_count": 2,
     "metadata": {},
     "output_type": "execute_result"
    }
   ],
   "source": [
    "obj = MyStack()\n",
    "obj.push(3)\n",
    "obj.push(4)\n",
    "obj.pop()"
   ]
  },
  {
   "cell_type": "code",
   "execution_count": null,
   "metadata": {},
   "outputs": [],
   "source": []
  }
 ],
 "metadata": {
  "kernelspec": {
   "display_name": "Python 3",
   "language": "python",
   "name": "python3"
  },
  "language_info": {
   "codemirror_mode": {
    "name": "ipython",
    "version": 3
   },
   "file_extension": ".py",
   "mimetype": "text/x-python",
   "name": "python",
   "nbconvert_exporter": "python",
   "pygments_lexer": "ipython3",
   "version": "3.11.9"
  }
 },
 "nbformat": 4,
 "nbformat_minor": 2
}
