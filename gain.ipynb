{
 "cells": [
  {
   "cell_type": "markdown",
   "metadata": {},
   "source": [
    "You are given a string s and two integers x and y. You can perform two types of operations any number of times.\n",
    "\n",
    "Remove substring \"ab\" and gain x points.\n",
    "For example, when removing \"ab\" from \"cabxbae\" it becomes \"cxbae\".\n",
    "Remove substring \"ba\" and gain y points.\n",
    "For example, when removing \"ba\" from \"cabxbae\" it becomes \"cabxe\".\n",
    "Return the maximum points you can gain after applying the above operations on s.\n",
    "\n",
    " \n",
    "\n",
    "Example 1:\n",
    "\n",
    "Input: s = \"cdbcbbaaabab\", x = 4, y = 5\n",
    "Output: 19\n",
    "Explanation:\n",
    "- Remove the \"ba\" underlined in \"cdbcbbaaabab\". Now, s = \"cdbcbbaaab\" and 5 points are added to the score.\n",
    "- Remove the \"ab\" underlined in \"cdbcbbaaab\". Now, s = \"cdbcbbaa\" and 4 points are added to the score.\n",
    "- Remove the \"ba\" underlined in \"cdbcbbaa\". Now, s = \"cdbcba\" and 5 points are added to the score.\n",
    "- Remove the \"ba\" underlined in \"cdbcba\". Now, s = \"cdbc\" and 5 points are added to the score.\n",
    "Total score = 5 + 4 + 5 + 5 = 19.\n",
    "Example 2:\n",
    "\n",
    "Input: s = \"aabbaaxybbaabb\", x = 5, y = 4\n",
    "Output: 20"
   ]
  },
  {
   "cell_type": "code",
   "execution_count": 1,
   "metadata": {},
   "outputs": [],
   "source": [
    "def maximumGain(s, x, y):\n",
    "       \n",
    "\n",
    "        def gain(s , points , subs):\n",
    "\n",
    "            stack = []\n",
    "            res = 0\n",
    "\n",
    "            for char in s:\n",
    "\n",
    "                if stack and stack[-1] == subs[0] and char == subs[1]:\n",
    "                    stack.pop()\n",
    "                    res+=points\n",
    "                else:\n",
    "                    stack.append(char)\n",
    "            return \"\".join(stack) , res\n",
    "        \n",
    "        if x>y:\n",
    "            s , gain1 = gain(s , x , \"ab\")\n",
    "            s , gain2 = gain(s , y , \"ba\")\n",
    "        \n",
    "        else:\n",
    "            s , gain1 = gain(s , y , \"ba\")\n",
    "            s , gain2 = gain(s , x , \"ab\")\n",
    "        return gain1+gain2"
   ]
  },
  {
   "cell_type": "code",
   "execution_count": 2,
   "metadata": {},
   "outputs": [
    {
     "data": {
      "text/plain": [
       "20"
      ]
     },
     "execution_count": 2,
     "metadata": {},
     "output_type": "execute_result"
    }
   ],
   "source": [
    "s = \"aabbaaxybbaabb\"\n",
    "x = 5\n",
    "y = 4\n",
    "maximumGain(s , x , y)\n"
   ]
  },
  {
   "cell_type": "code",
   "execution_count": null,
   "metadata": {},
   "outputs": [],
   "source": []
  }
 ],
 "metadata": {
  "kernelspec": {
   "display_name": "Python 3",
   "language": "python",
   "name": "python3"
  },
  "language_info": {
   "codemirror_mode": {
    "name": "ipython",
    "version": 3
   },
   "file_extension": ".py",
   "mimetype": "text/x-python",
   "name": "python",
   "nbconvert_exporter": "python",
   "pygments_lexer": "ipython3",
   "version": "3.11.9"
  }
 },
 "nbformat": 4,
 "nbformat_minor": 2
}
