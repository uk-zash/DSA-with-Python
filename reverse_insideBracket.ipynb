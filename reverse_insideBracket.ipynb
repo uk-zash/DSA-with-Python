{
 "cells": [
  {
   "cell_type": "markdown",
   "metadata": {},
   "source": [
    "You are given a string s that consists of lower case English letters and brackets.\n",
    "\n",
    "Reverse the strings in each pair of matching parentheses, starting from the innermost one.\n",
    "\n",
    "Your result should not contain any brackets.\n",
    "\n",
    " \n",
    "\n",
    "Example 1:\n",
    "\n",
    "Input: s = \"(abcd)\"\n",
    "Output: \"dcba\"\n",
    "Example 2:\n",
    "\n",
    "Input: s = \"(u(love)i)\"\n",
    "Output: \"iloveu\"\n",
    "Explanation: The substring \"love\" is reversed first, then the whole string is reversed.\n",
    "Example 3:\n",
    "\n",
    "Input: s = \"(ed(et(oc))el)\"\n",
    "Output: \"leetcode\"\n",
    "Explanation: First, we reverse the substring \"oc\", then \"etco\", and finally, the whole string."
   ]
  },
  {
   "cell_type": "code",
   "execution_count": 4,
   "metadata": {},
   "outputs": [],
   "source": [
    "def reverseParentheses( s):\n",
    "        \n",
    "        stack = []\n",
    "        for i in s:\n",
    "            if i==\")\":\n",
    "                temp = []\n",
    "                while stack and stack[-1] != \"(\":\n",
    "                    temp.append(stack.pop())\n",
    "                if stack and stack[-1] == \"(\":\n",
    "                    stack.pop()\n",
    "                stack.extend(temp)\n",
    "            \n",
    "            else:\n",
    "                stack.append(i)\n",
    "        return \"\".join(stack)\n",
    "            \n",
    "            \n",
    "\n",
    "            "
   ]
  },
  {
   "cell_type": "code",
   "execution_count": 5,
   "metadata": {},
   "outputs": [
    {
     "data": {
      "text/plain": [
       "'iloveu'"
      ]
     },
     "execution_count": 5,
     "metadata": {},
     "output_type": "execute_result"
    }
   ],
   "source": [
    "s = \"(u(love)i)\"\n",
    "reverseParentheses(s)\n"
   ]
  },
  {
   "cell_type": "code",
   "execution_count": null,
   "metadata": {},
   "outputs": [],
   "source": []
  }
 ],
 "metadata": {
  "kernelspec": {
   "display_name": "Python 3",
   "language": "python",
   "name": "python3"
  },
  "language_info": {
   "codemirror_mode": {
    "name": "ipython",
    "version": 3
   },
   "file_extension": ".py",
   "mimetype": "text/x-python",
   "name": "python",
   "nbconvert_exporter": "python",
   "pygments_lexer": "ipython3",
   "version": "3.11.9"
  }
 },
 "nbformat": 4,
 "nbformat_minor": 2
}
