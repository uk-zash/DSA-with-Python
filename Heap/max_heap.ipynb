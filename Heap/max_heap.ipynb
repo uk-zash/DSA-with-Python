{
 "cells": [
  {
   "cell_type": "code",
   "execution_count": 30,
   "metadata": {},
   "outputs": [],
   "source": [
    "def max_heap(arr, i, n):\n",
    "    largest = i\n",
    "    left = 2 * i + 1\n",
    "    right = 2 * i + 2\n",
    "\n",
    "    if left < n and arr[left] > arr[largest]:\n",
    "        largest = left\n",
    "\n",
    "    if right < n and arr[right] > arr[largest]:\n",
    "        largest = right\n",
    "\n",
    "    if largest != i:\n",
    "        arr[i], arr[largest] = arr[largest], arr[i]\n",
    "        max_heap(arr, largest, n)"
   ]
  },
  {
   "cell_type": "code",
   "execution_count": 34,
   "metadata": {},
   "outputs": [
    {
     "name": "stdout",
     "output_type": "stream",
     "text": [
      "Max-Heap: [25, 24, 4, 5, 4, 2]\n"
     ]
    }
   ],
   "source": [
    "arr = [24, 4, 2, 5, 25, 4]\n",
    "n = len(arr)\n",
    "\n",
    "for i in range(n // 2 - 1, -1, -1):\n",
    "    max_heap(arr, i, n)\n",
    "print(\"Max-Heap:\", arr)"
   ]
  },
  {
   "cell_type": "code",
   "execution_count": 32,
   "metadata": {},
   "outputs": [
    {
     "name": "stdout",
     "output_type": "stream",
     "text": [
      "Sorted Array: [2, 4, 4, 5, 24, 25]\n"
     ]
    }
   ],
   "source": [
    "for i in range(n - 1, 0, -1):\n",
    "    arr[0], arr[i] = arr[i], arr[0]\n",
    "    max_heap(arr, 0, i)\n",
    "\n",
    "    \n",
    "print(\"Sorted Array:\", arr)\n"
   ]
  },
  {
   "cell_type": "code",
   "execution_count": null,
   "metadata": {},
   "outputs": [],
   "source": []
  }
 ],
 "metadata": {
  "kernelspec": {
   "display_name": "Python 3",
   "language": "python",
   "name": "python3"
  },
  "language_info": {
   "codemirror_mode": {
    "name": "ipython",
    "version": 3
   },
   "file_extension": ".py",
   "mimetype": "text/x-python",
   "name": "python",
   "nbconvert_exporter": "python",
   "pygments_lexer": "ipython3",
   "version": "3.11.9"
  }
 },
 "nbformat": 4,
 "nbformat_minor": 2
}
