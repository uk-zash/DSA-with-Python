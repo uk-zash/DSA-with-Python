{
 "cells": [
  {
   "cell_type": "code",
   "execution_count": 25,
   "metadata": {},
   "outputs": [],
   "source": [
    "import heapq\n",
    "import math\n",
    "\n",
    "def maxKelements(nums, k):\n",
    "    \n",
    "    arr = [-i for i in nums]\n",
    "    heapq.heapify(arr)\n",
    "    print(arr)\n",
    "\n",
    "    res = 0\n",
    "\n",
    "    for i in range(k):\n",
    "\n",
    "        val = -(heapq.heappop(arr))\n",
    "        # print(val)\n",
    "        res+=val\n",
    "\n",
    "\n",
    "        rep = -(math.ceil( val / 3))\n",
    "        print(rep)\n",
    "\n",
    "        heapq.heappush(arr , rep)\n",
    "        print(arr)\n",
    "    \n",
    "    return res\n",
    "        \n"
   ]
  },
  {
   "cell_type": "code",
   "execution_count": 26,
   "metadata": {},
   "outputs": [
    {
     "name": "stdout",
     "output_type": "stream",
     "text": [
      "[-10, -3, -3, -3, -1]\n",
      "-4\n",
      "[-4, -3, -1, -3, -3]\n",
      "-2\n",
      "[-3, -3, -1, -3, -2]\n",
      "-1\n",
      "[-3, -3, -1, -2, -1]\n"
     ]
    },
    {
     "data": {
      "text/plain": [
       "17"
      ]
     },
     "execution_count": 26,
     "metadata": {},
     "output_type": "execute_result"
    }
   ],
   "source": [
    "arr =  [1,10,3,3,3]\n",
    "k = 3\n",
    "\n",
    "maxKelements(arr , k)"
   ]
  },
  {
   "cell_type": "code",
   "execution_count": null,
   "metadata": {},
   "outputs": [],
   "source": []
  }
 ],
 "metadata": {
  "kernelspec": {
   "display_name": "Python 3",
   "language": "python",
   "name": "python3"
  },
  "language_info": {
   "codemirror_mode": {
    "name": "ipython",
    "version": 3
   },
   "file_extension": ".py",
   "mimetype": "text/x-python",
   "name": "python",
   "nbconvert_exporter": "python",
   "pygments_lexer": "ipython3",
   "version": "3.11.9"
  }
 },
 "nbformat": 4,
 "nbformat_minor": 2
}
