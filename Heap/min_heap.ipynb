{
 "cells": [
  {
   "cell_type": "code",
   "execution_count": 20,
   "metadata": {},
   "outputs": [],
   "source": [
    "\n",
    "\n",
    "def min_heap(arr , i , n):\n",
    "\n",
    "    smallest = i\n",
    "    print(\"Smallest\" , smallest)\n",
    "    left = 2*i + 1\n",
    "    print(\"left\" , left)\n",
    "    right = 2*i + 2\n",
    "\n",
    "    print(\"right\" , right)\n",
    "\n",
    "    \n",
    "\n",
    "    if left < n and arr[left] < arr[smallest]:\n",
    "\n",
    "        smallest = left\n",
    "        print(\"Samllest after left condition\" , smallest)\n",
    "    \n",
    "    if right < n and arr[right] < arr[smallest]:\n",
    "        smallest = right\n",
    "        print(\"Smallest after right Condition\" , smallest)\n",
    "    \n",
    "\n",
    "    if smallest != i:\n",
    "\n",
    "        arr[i] , arr[smallest] = arr[smallest] , arr[i]\n",
    "        print(\"Array after final one heap\" , arr)\n",
    "        min_heap(arr , smallest , n)\n",
    "\n",
    "    "
   ]
  },
  {
   "cell_type": "code",
   "execution_count": 21,
   "metadata": {},
   "outputs": [
    {
     "name": "stdout",
     "output_type": "stream",
     "text": [
      "Loop no 1\n",
      "Smallest 2\n",
      "left 5\n",
      "right 6\n",
      "Samllest after left condition 5\n",
      "Array after final one heap [1, 423, 5, 25, 12, 43]\n",
      "Smallest 5\n",
      "left 11\n",
      "right 12\n",
      "Loop no 2\n",
      "Smallest 1\n",
      "left 3\n",
      "right 4\n",
      "Samllest after left condition 3\n",
      "Smallest after right Condition 4\n",
      "Array after final one heap [1, 12, 5, 25, 423, 43]\n",
      "Smallest 4\n",
      "left 9\n",
      "right 10\n",
      "Loop no 3\n",
      "Smallest 0\n",
      "left 1\n",
      "right 2\n",
      "[1, 12, 5, 25, 423, 43]\n"
     ]
    }
   ],
   "source": [
    "arr  = [1 , 423,43,25,12,5]\n",
    "n = len(arr)\n",
    "counter = 0\n",
    "for i in range(n//2 -1  , -1 , -1):\n",
    "    counter +=1\n",
    "    print(\"Loop no\" ,counter )\n",
    "\n",
    "    min_heap(arr , i , n)\n",
    "\n",
    "print(arr)"
   ]
  },
  {
   "cell_type": "code",
   "execution_count": 22,
   "metadata": {},
   "outputs": [
    {
     "name": "stdout",
     "output_type": "stream",
     "text": [
      "Smallest 0\n",
      "left 1\n",
      "right 2\n",
      "Samllest after left condition 1\n",
      "Smallest after right Condition 2\n",
      "Array after final one heap [5, 12, 43, 25, 423, 1]\n",
      "Smallest 2\n",
      "left 5\n",
      "right 6\n",
      "Smallest 0\n",
      "left 1\n",
      "right 2\n",
      "Samllest after left condition 1\n",
      "Array after final one heap [12, 423, 43, 25, 5, 1]\n",
      "Smallest 1\n",
      "left 3\n",
      "right 4\n",
      "Samllest after left condition 3\n",
      "Array after final one heap [12, 25, 43, 423, 5, 1]\n",
      "Smallest 3\n",
      "left 7\n",
      "right 8\n",
      "Smallest 0\n",
      "left 1\n",
      "right 2\n",
      "Samllest after left condition 1\n",
      "Array after final one heap [25, 423, 43, 12, 5, 1]\n",
      "Smallest 1\n",
      "left 3\n",
      "right 4\n",
      "Smallest 0\n",
      "left 1\n",
      "right 2\n",
      "Smallest 0\n",
      "left 1\n",
      "right 2\n",
      "[423, 43, 25, 12, 5, 1]\n"
     ]
    }
   ],
   "source": [
    "last = n-1\n",
    "\n",
    "while last > 0:\n",
    "\n",
    "    arr[0] , arr[last]  = arr[last] , arr[0]\n",
    "    last -= 1\n",
    "\n",
    "    min_heap(arr , 0 ,last+1 )\n",
    "\n",
    "print(arr)"
   ]
  },
  {
   "cell_type": "code",
   "execution_count": null,
   "metadata": {},
   "outputs": [],
   "source": []
  }
 ],
 "metadata": {
  "kernelspec": {
   "display_name": "Python 3",
   "language": "python",
   "name": "python3"
  },
  "language_info": {
   "codemirror_mode": {
    "name": "ipython",
    "version": 3
   },
   "file_extension": ".py",
   "mimetype": "text/x-python",
   "name": "python",
   "nbconvert_exporter": "python",
   "pygments_lexer": "ipython3",
   "version": "3.11.9"
  }
 },
 "nbformat": 4,
 "nbformat_minor": 2
}
