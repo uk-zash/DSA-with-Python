{
 "cells": [
  {
   "cell_type": "markdown",
   "metadata": {},
   "source": [
    "There are n 1-indexed robots, each having a position on a line, health, and movement direction.\n",
    "\n",
    "You are given 0-indexed integer arrays positions, healths, and a string directions (directions[i] is either 'L' for left or 'R' for right). All integers in positions are unique.\n",
    "\n",
    "All robots start moving on the line simultaneously at the same speed in their given directions. If two robots ever share the same position while moving, they will collide.\n",
    "\n",
    "If two robots collide, the robot with lower health is removed from the line, and the health of the other robot decreases by one. The surviving robot continues in the same direction it was going. If both robots have the same health, they are both removed from the line.\n",
    "\n",
    "Your task is to determine the health of the robots that survive the collisions, in the same order that the robots were given, i.e. final heath of robot 1 (if survived), final health of robot 2 (if survived), and so on. If there are no survivors, return an empty array.\n",
    "\n",
    "Return an array containing the health of the remaining robots (in the order they were given in the input), after no further collisions can occur.\n",
    "\n",
    "Note: The positions may be unsorted.\n",
    "\n",
    " \n",
    " \n",
    "\n",
    "Example 1:\n",
    "\n",
    "\n",
    "\n",
    "Input: positions = [5,4,3,2,1], healths = [2,17,9,15,10], directions = \"RRRRR\"\n",
    "Output: [2,17,9,15,10]\n",
    "Explanation: No collision occurs in this example, since all robots are moving in the same direction. So, the health of the robots in order from the first robot is returned, [2, 17, 9, 15, 10].\n",
    "Example 2:\n",
    "\n",
    "\n",
    "\n",
    "Input: positions = [3,5,2,6], healths = [10,10,15,12], directions = \"RLRL\"\n",
    "Output: [14]\n",
    "Explanation: There are 2 collisions in this example. Firstly, robot 1 and robot 2 will collide, and since both have the same health, they will be removed from the line. Next, robot 3 and robot 4 will collide and since robot 4's health is smaller, it gets removed, and robot 3's health becomes 15 - 1 = 14. Only robot 3 remains, so we return [14]."
   ]
  },
  {
   "cell_type": "code",
   "execution_count": 11,
   "metadata": {},
   "outputs": [],
   "source": [
    "def survivedRobotsHealths( positions, healths, directions):\n",
    "     \n",
    "\n",
    "        res = []\n",
    "        indices = list(range(len(positions)))\n",
    "        stack = []\n",
    "\n",
    "    \n",
    "        indices.sort(key=lambda x: positions[x])\n",
    "\n",
    "        for index in indices:\n",
    "            if directions[index] == \"R\":\n",
    "           \n",
    "                stack.append(index)\n",
    "            else:\n",
    "             \n",
    "                while stack and healths[index] > 0:\n",
    "                    top = stack.pop()\n",
    "                    if healths[top] > healths[index]:\n",
    "                  \n",
    "                        healths[top] -= 1\n",
    "                        healths[index] = 0\n",
    "                        stack.append(top)\n",
    "                        break\n",
    "                    elif healths[top] < healths[index]:\n",
    "                     \n",
    "                        healths[top] = 0\n",
    "                        healths[index] -= 1\n",
    "                    else:\n",
    "                       \n",
    "                        healths[top] = 0\n",
    "                        healths[index] = 0\n",
    "                        break\n",
    "\n",
    "       \n",
    "        for i in range(len(positions)):\n",
    "            if healths[i] > 0:\n",
    "                res.append(healths[i])\n",
    "\n",
    "        return res\n"
   ]
  },
  {
   "cell_type": "code",
   "execution_count": 13,
   "metadata": {},
   "outputs": [
    {
     "data": {
      "text/plain": [
       "[2, 17, 9, 15, 10]"
      ]
     },
     "execution_count": 13,
     "metadata": {},
     "output_type": "execute_result"
    }
   ],
   "source": [
    "positions = [5,4,3,2,1]\n",
    "healths = [2,17,9,15,10]\n",
    "directions = \"RRRRR\"\n",
    "\n",
    "survivedRobotsHealths(positions , healths , directions)"
   ]
  },
  {
   "cell_type": "code",
   "execution_count": null,
   "metadata": {},
   "outputs": [],
   "source": []
  }
 ],
 "metadata": {
  "kernelspec": {
   "display_name": "Python 3",
   "language": "python",
   "name": "python3"
  },
  "language_info": {
   "codemirror_mode": {
    "name": "ipython",
    "version": 3
   },
   "file_extension": ".py",
   "mimetype": "text/x-python",
   "name": "python",
   "nbconvert_exporter": "python",
   "pygments_lexer": "ipython3",
   "version": "3.11.9"
  }
 },
 "nbformat": 4,
 "nbformat_minor": 2
}
