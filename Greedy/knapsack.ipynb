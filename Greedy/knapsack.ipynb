{
 "cells": [
  {
   "cell_type": "code",
   "execution_count": 17,
   "metadata": {},
   "outputs": [],
   "source": [
    "def knapSack(w, p, n, c):\n",
    "    p_w = [p[i] / w[i] for i in range(n)]\n",
    "    print(p_w)\n",
    "    sorted_indices = sorted(range(n), key=lambda i: p_w[i], reverse=True)\n",
    "    print(sorted_indices)\n",
    "    \n",
    "    w = [w[i] for i in sorted_indices]\n",
    "    p = [p[i] for i in sorted_indices]\n",
    "    profit = 0\n",
    "    object = []\n",
    "    for i in range(n):\n",
    "\n",
    "        if w[i] < c:\n",
    "            profit += p[i]\n",
    "            c -= w[i]\n",
    "            object.append(w[i])\n",
    "        \n",
    "        else:\n",
    "            profit += p[i] * (c / w[i])\n",
    "            object.append(c/w[i])\n",
    "            break\n",
    "    return profit , object\n",
    "            \n"
   ]
  },
  {
   "cell_type": "code",
   "execution_count": 18,
   "metadata": {},
   "outputs": [
    {
     "name": "stdout",
     "output_type": "stream",
     "text": [
      "[5.0, 1.6666666666666667, 3.0, 1.0, 6.0, 4.5, 3.0]\n",
      "[4, 0, 5, 2, 6, 1, 3]\n"
     ]
    },
    {
     "data": {
      "text/plain": [
       "(55.333333333333336, [1, 2, 4, 5, 1, 0.6666666666666666])"
      ]
     },
     "execution_count": 18,
     "metadata": {},
     "output_type": "execute_result"
    }
   ],
   "source": [
    "w = [2 , 3 , 5 ,7 , 1 , 4 ,1]\n",
    "p = [10 , 5 , 15 , 7 , 6 , 18 , 3]\n",
    "\n",
    "knapSack(w , p , len(w) , 15)"
   ]
  },
  {
   "cell_type": "code",
   "execution_count": null,
   "metadata": {},
   "outputs": [],
   "source": []
  }
 ],
 "metadata": {
  "kernelspec": {
   "display_name": "Python 3",
   "language": "python",
   "name": "python3"
  },
  "language_info": {
   "codemirror_mode": {
    "name": "ipython",
    "version": 3
   },
   "file_extension": ".py",
   "mimetype": "text/x-python",
   "name": "python",
   "nbconvert_exporter": "python",
   "pygments_lexer": "ipython3",
   "version": "3.11.9"
  }
 },
 "nbformat": 4,
 "nbformat_minor": 2
}
