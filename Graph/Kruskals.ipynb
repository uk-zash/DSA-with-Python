{
 "cells": [
  {
   "cell_type": "code",
   "execution_count": 35,
   "metadata": {},
   "outputs": [],
   "source": [
    "class UnionFind:\n",
    "    def __init__(self , n):\n",
    "        self.parent = list(range(n))\n",
    "        self.rank = [0] * n\n",
    "    \n",
    "    def find(self , u):\n",
    "        # print(self.parent[u])\n",
    "        if self.parent[u] != u:\n",
    "            self.parent[u] = self.find(self.parent[u])\n",
    "        return self.parent[u]\n",
    "    \n",
    "    def union(self , u ,v):\n",
    "\n",
    "        root_u = self.find(u)\n",
    "        root_v = self.find(v)\n",
    "        print(root_u)\n",
    "        print(root_v)\n",
    "        if root_u != root_v:\n",
    "            if self.rank[root_u] > self.rank[root_v]:\n",
    "                self.parent[root_v] = root_u\n",
    "            if self.rank[root_u] < self.rank[root_v]:\n",
    "                self.parent[root_u] = root_v\n",
    "                print(self.parent)\n",
    "            else:\n",
    "                self.parent[root_v] = root_u\n",
    "                self.rank[root_u] += 1\n",
    "        print(self.parent)\n",
    "        print(self.rank)\n",
    "\n"
   ]
  },
  {
   "cell_type": "code",
   "execution_count": 44,
   "metadata": {},
   "outputs": [],
   "source": [
    "def kruskals(edges , n):\n",
    "\n",
    "    edges.sort(key = lambda x: x[2])\n",
    "    uf = UnionFind(n)\n",
    "    A = []\n",
    "    weight = 0\n",
    "    count = 0\n",
    "\n",
    "    for u , v, w in edges:\n",
    "\n",
    "        if uf.find(u) != uf.find(v):\n",
    "            weight += w\n",
    "            A.append((u , v , w))\n",
    "            uf.union(u , v)\n",
    "            count+=1\n",
    "        if count ==3:\n",
    "            return A\n",
    "        \n",
    "    return A , weight\n",
    "\n"
   ]
  },
  {
   "cell_type": "code",
   "execution_count": 45,
   "metadata": {},
   "outputs": [
    {
     "name": "stdout",
     "output_type": "stream",
     "text": [
      "2\n",
      "3\n",
      "[0, 1, 2, 2, 4]\n",
      "[0, 0, 1, 0, 0]\n",
      "0\n",
      "2\n",
      "[2, 1, 2, 2, 4]\n",
      "[2, 1, 2, 2, 4]\n",
      "[0, 0, 1, 0, 0]\n",
      "2\n",
      "1\n",
      "[2, 2, 2, 2, 4]\n",
      "[0, 0, 2, 0, 0]\n"
     ]
    },
    {
     "data": {
      "text/plain": [
       "[(2, 3, 4), (0, 3, 5), (0, 1, 10)]"
      ]
     },
     "execution_count": 45,
     "metadata": {},
     "output_type": "execute_result"
    }
   ],
   "source": [
    "edges = [(0 , 1 , 10) , (1 ,3 , 15) , (0 , 3, 5)  ,(0 , 2, 6) , (2 , 3 , 4) ]\n",
    "kruskals(edges , len(edges))"
   ]
  },
  {
   "cell_type": "code",
   "execution_count": null,
   "metadata": {},
   "outputs": [],
   "source": []
  }
 ],
 "metadata": {
  "kernelspec": {
   "display_name": "Python 3",
   "language": "python",
   "name": "python3"
  },
  "language_info": {
   "codemirror_mode": {
    "name": "ipython",
    "version": 3
   },
   "file_extension": ".py",
   "mimetype": "text/x-python",
   "name": "python",
   "nbconvert_exporter": "python",
   "pygments_lexer": "ipython3",
   "version": "3.11.9"
  }
 },
 "nbformat": 4,
 "nbformat_minor": 2
}
