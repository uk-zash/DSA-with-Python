{
 "cells": [
  {
   "cell_type": "code",
   "execution_count": 20,
   "metadata": {},
   "outputs": [],
   "source": [
    "from collections import deque\n",
    "def shortestPath(edges, n, m, src):\n",
    "        # code here\n",
    "        \n",
    "        adj = [[] for _ in range(n)]\n",
    "        \n",
    "        for i in edges:\n",
    "            adj[i[0]].append(i[1])\n",
    "            adj[i[1]].append(i[0])\n",
    "            \n",
    "        print(adj)\n",
    "        que = deque()\n",
    "        \n",
    "        dist = [float(\"inf\")] * n\n",
    "        print(dist)\n",
    "        dist[src] = 0\n",
    "        que.append(src)\n",
    "\n",
    "        while que:\n",
    "              node = que.popleft()\n",
    "\n",
    "              for i in adj[node]:\n",
    "                    if dist[i] == float(\"inf\"):\n",
    "                        dist[i] = dist[node] + 1\n",
    "                        que.append(i)\n",
    "\n",
    "        for i in range(n):\n",
    "              if dist[i] == float(\"inf\"):\n",
    "                    dist[i] = -1\n",
    "        \n",
    "        return dist\n",
    "\n",
    "                    "
   ]
  },
  {
   "cell_type": "code",
   "execution_count": 21,
   "metadata": {},
   "outputs": [
    {
     "name": "stdout",
     "output_type": "stream",
     "text": [
      "[[1, 3], [0, 2], [1, 6], [0, 4], [3, 5], [4, 6], [5, 2, 7, 8], [6, 8], [7, 6]]\n",
      "[inf, inf, inf, inf, inf, inf, inf, inf, inf]\n"
     ]
    },
    {
     "data": {
      "text/plain": [
       "[0, 1, 2, 1, 2, 3, 3, 4, 4]"
      ]
     },
     "execution_count": 21,
     "metadata": {},
     "output_type": "execute_result"
    }
   ],
   "source": [
    "n = 9\n",
    "m = 10\n",
    "edges=[[0,1],[0,3],[3,4],[4,5],[5,6],[1,2],[2,6],[6,7],[7,8],[6,8]] \n",
    "src=0\n",
    "\n",
    "shortestPath(edges , n , m , src)"
   ]
  },
  {
   "cell_type": "code",
   "execution_count": null,
   "metadata": {},
   "outputs": [],
   "source": []
  }
 ],
 "metadata": {
  "kernelspec": {
   "display_name": "Python 3",
   "language": "python",
   "name": "python3"
  },
  "language_info": {
   "codemirror_mode": {
    "name": "ipython",
    "version": 3
   },
   "file_extension": ".py",
   "mimetype": "text/x-python",
   "name": "python",
   "nbconvert_exporter": "python",
   "pygments_lexer": "ipython3",
   "version": "3.11.9"
  }
 },
 "nbformat": 4,
 "nbformat_minor": 2
}
