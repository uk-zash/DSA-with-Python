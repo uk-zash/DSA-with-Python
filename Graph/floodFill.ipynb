{
 "cells": [
  {
   "cell_type": "code",
   "execution_count": 13,
   "metadata": {},
   "outputs": [],
   "source": [
    "\n",
    "def floodFill(arr , sr , sc , color):\n",
    "\n",
    "    def dfs(ans , arr , sr , sc , row , col , initial_col , color):\n",
    "\n",
    "        ans[sr][sc] = color\n",
    "        m = len(ans)\n",
    "        n = len(ans[0])\n",
    "\n",
    "        \n",
    "        for i in range(4):\n",
    "\n",
    "            newR = sr + row[i]\n",
    "            newC = sc + col[i]\n",
    "\n",
    "            if newR>=0 and newR<m and newC>=0 and newC<n and ans[newR][newC] != color and arr[newR][newC] == initial_col:\n",
    "\n",
    "                dfs(ans , arr , newR , newC , row , col , initial_col , color)\n",
    "\n",
    "    \n",
    "\n",
    "\n",
    "\n",
    "\n",
    "    ans = arr\n",
    "    row = [-1 , 0 , 1 , 0]\n",
    "    col = [0 , -1 , 0 , 1]\n",
    "    initial_col = arr[sr][sc]\n",
    "\n",
    "    # print(ans , initial_col)\n",
    "    dfs(ans , arr , sr , sc , row , col , initial_col , color )\n",
    "    return ans \n",
    "\n",
    "\n",
    "    "
   ]
  },
  {
   "cell_type": "code",
   "execution_count": 14,
   "metadata": {},
   "outputs": [
    {
     "data": {
      "text/plain": [
       "[[2, 2, 2], [2, 2, 0], [2, 0, 1]]"
      ]
     },
     "execution_count": 14,
     "metadata": {},
     "output_type": "execute_result"
    }
   ],
   "source": [
    "arr = [[1 , 1, 1] , [1 , 1, 0] , [1 , 0 , 1]]\n",
    "sr = 1 \n",
    "sc = 1\n",
    "color = 2\n",
    "\n",
    "floodFill(arr , sr , sc , color)"
   ]
  },
  {
   "cell_type": "code",
   "execution_count": null,
   "metadata": {},
   "outputs": [],
   "source": []
  }
 ],
 "metadata": {
  "kernelspec": {
   "display_name": "Python 3",
   "language": "python",
   "name": "python3"
  },
  "language_info": {
   "codemirror_mode": {
    "name": "ipython",
    "version": 3
   },
   "file_extension": ".py",
   "mimetype": "text/x-python",
   "name": "python",
   "nbconvert_exporter": "python",
   "pygments_lexer": "ipython3",
   "version": "3.11.9"
  }
 },
 "nbformat": 4,
 "nbformat_minor": 2
}
