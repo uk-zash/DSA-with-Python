{
 "cells": [
  {
   "cell_type": "code",
   "execution_count": 29,
   "metadata": {},
   "outputs": [],
   "source": [
    "from collections import deque\n",
    "def matrix(arr):\n",
    "\n",
    "    n = len(arr)\n",
    "    m = len(arr[0])\n",
    "    # print(n , m)\n",
    "\n",
    "    visited = [[0]*(m) for _ in range(n)]\n",
    "    # print(visited)\n",
    "    ans = [[0]*(m) for _ in range(n)]\n",
    "    # print(ans)\n",
    "\n",
    "    que = deque()\n",
    "\n",
    "\n",
    "    for i in range(n):\n",
    "        for j in range(m):\n",
    "\n",
    "            if arr[i][j] == 1:\n",
    "                visited[i][j] = 1\n",
    "                que.append((i , j , 0))\n",
    "    print(visited)\n",
    "    print(que)\n",
    "\n",
    "    x = [-1 , 0 , 1 , 0]\n",
    "    y = [0 , 1 , 0 , -1]\n",
    "\n",
    "    while que:\n",
    "\n",
    "        i , j , dist = que.popleft()\n",
    "        # print(i , j , dist)\n",
    "\n",
    "        ans[i][j] = dist\n",
    "\n",
    "        for k in range(4):\n",
    "            newi = i + x[k]\n",
    "            newj = j + y[k]\n",
    "\n",
    "            if 0<= newi < n and 0<= newj < m and visited[newi][newj]==0:\n",
    "                visited[newi][newj] = 1\n",
    "                que.append((newi , newj , dist+1))\n",
    "                print(que)\n",
    "    \n",
    "    return ans\n",
    "                \n",
    "\n",
    "\n",
    "                \n",
    "\n",
    "\n",
    "\n",
    "\n",
    "\n",
    "\n",
    "\n",
    "        \n",
    "\n",
    "\n"
   ]
  },
  {
   "cell_type": "code",
   "execution_count": 30,
   "metadata": {},
   "outputs": [
    {
     "name": "stdout",
     "output_type": "stream",
     "text": [
      "[[0, 0, 0], [0, 1, 0], [1, 1, 1]]\n",
      "deque([(1, 1, 0), (2, 0, 0), (2, 1, 0), (2, 2, 0)])\n",
      "deque([(2, 0, 0), (2, 1, 0), (2, 2, 0), (0, 1, 1)])\n",
      "deque([(2, 0, 0), (2, 1, 0), (2, 2, 0), (0, 1, 1), (1, 2, 1)])\n",
      "deque([(2, 0, 0), (2, 1, 0), (2, 2, 0), (0, 1, 1), (1, 2, 1), (1, 0, 1)])\n",
      "deque([(1, 2, 1), (1, 0, 1), (0, 2, 2)])\n",
      "deque([(1, 2, 1), (1, 0, 1), (0, 2, 2), (0, 0, 2)])\n"
     ]
    },
    {
     "data": {
      "text/plain": [
       "[[2, 1, 2], [1, 0, 1], [0, 0, 0]]"
      ]
     },
     "execution_count": 30,
     "metadata": {},
     "output_type": "execute_result"
    }
   ],
   "source": [
    "arr =  [[0,0,0],[0,1,0],[1,1,1]]\n",
    "\n",
    "\n",
    "matrix(arr)"
   ]
  },
  {
   "cell_type": "code",
   "execution_count": null,
   "metadata": {},
   "outputs": [],
   "source": []
  }
 ],
 "metadata": {
  "kernelspec": {
   "display_name": "Python 3",
   "language": "python",
   "name": "python3"
  },
  "language_info": {
   "codemirror_mode": {
    "name": "ipython",
    "version": 3
   },
   "file_extension": ".py",
   "mimetype": "text/x-python",
   "name": "python",
   "nbconvert_exporter": "python",
   "pygments_lexer": "ipython3",
   "version": "3.11.9"
  }
 },
 "nbformat": 4,
 "nbformat_minor": 2
}
