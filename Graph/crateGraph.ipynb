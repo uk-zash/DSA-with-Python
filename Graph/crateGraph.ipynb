{
 "cells": [
  {
   "cell_type": "code",
   "execution_count": 1,
   "metadata": {},
   "outputs": [],
   "source": [
    "def graphInsertion(mapp, u, v, direction):\n",
    "    if u not in mapp:\n",
    "        mapp[u] = []\n",
    "    if v not in mapp:\n",
    "        mapp[v] = []\n",
    "    \n",
    "    mapp[u].append(v)\n",
    "    \n",
    "    if direction == 0:  # 0 indicates an undirected graph\n",
    "        mapp[v].append(u)\n",
    "\n",
    "def create_graph():\n",
    "    graph = {}\n",
    "    num_edges = int(input(\"Enter the number of edges: \"))\n",
    "\n",
    "    for _ in range(num_edges):\n",
    "        u = input(\"Enter the start node of the edge: \")\n",
    "        v = input(\"Enter the end node of the edge: \")\n",
    "        direction = int(input(\"Enter 1 for directed edge or 0 for undirected edge: \"))\n",
    "        graphInsertion(graph, u, v, direction)\n",
    "    \n",
    "    return graph"
   ]
  },
  {
   "cell_type": "code",
   "execution_count": 2,
   "metadata": {},
   "outputs": [
    {
     "data": {
      "text/plain": [
       "{'2': ['4', '5'], '4': ['2', '1'], '5': ['3', '3', '2'], '3': [], '1': ['4']}"
      ]
     },
     "execution_count": 2,
     "metadata": {},
     "output_type": "execute_result"
    }
   ],
   "source": [
    "create_graph()"
   ]
  },
  {
   "cell_type": "code",
   "execution_count": null,
   "metadata": {},
   "outputs": [],
   "source": []
  }
 ],
 "metadata": {
  "kernelspec": {
   "display_name": "Python 3",
   "language": "python",
   "name": "python3"
  },
  "language_info": {
   "codemirror_mode": {
    "name": "ipython",
    "version": 3
   },
   "file_extension": ".py",
   "mimetype": "text/x-python",
   "name": "python",
   "nbconvert_exporter": "python",
   "pygments_lexer": "ipython3",
   "version": "3.11.9"
  }
 },
 "nbformat": 4,
 "nbformat_minor": 2
}
