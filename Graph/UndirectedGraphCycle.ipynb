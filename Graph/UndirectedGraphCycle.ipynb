{
 "cells": [
  {
   "cell_type": "code",
   "execution_count": 11,
   "metadata": {},
   "outputs": [],
   "source": [
    "from collections import deque\n",
    "\n",
    "def isCycle(adj , V):\n",
    "\n",
    "    visited = [False] * V\n",
    "\n",
    "    for i in range(V):\n",
    "\n",
    "        if not visited[i]:\n",
    "\n",
    "            que = deque()\n",
    "            visited[i] = True\n",
    "\n",
    "            que.append((i , -1))\n",
    "\n",
    "            # ans = False\n",
    "\n",
    "            while que:\n",
    "\n",
    "                node , parent = que.popleft()\n",
    "\n",
    "                for neigh in adj[node]:\n",
    "\n",
    "                    \n",
    "                    if visited[neigh] and neigh!= parent :\n",
    "                        return True\n",
    "\n",
    "                    if not visited[neigh]:\n",
    "                        visited[neigh] = True\n",
    "                        que.append((neigh , node))\n",
    "    \n",
    "    return False\n",
    "\n",
    "\n",
    "            \n",
    "\n",
    "    \n"
   ]
  },
  {
   "cell_type": "code",
   "execution_count": 12,
   "metadata": {},
   "outputs": [
    {
     "data": {
      "text/plain": [
       "True"
      ]
     },
     "execution_count": 12,
     "metadata": {},
     "output_type": "execute_result"
    }
   ],
   "source": [
    "adj = [[1], [0, 2, 4], [1, 3], [2, 4], [1, 3]] \n",
    "v  = 5\n",
    "\n",
    "isCycle(adj , v)"
   ]
  },
  {
   "cell_type": "code",
   "execution_count": null,
   "metadata": {},
   "outputs": [],
   "source": []
  }
 ],
 "metadata": {
  "kernelspec": {
   "display_name": "Python 3",
   "language": "python",
   "name": "python3"
  },
  "language_info": {
   "codemirror_mode": {
    "name": "ipython",
    "version": 3
   },
   "file_extension": ".py",
   "mimetype": "text/x-python",
   "name": "python",
   "nbconvert_exporter": "python",
   "pygments_lexer": "ipython3",
   "version": "3.11.9"
  }
 },
 "nbformat": 4,
 "nbformat_minor": 2
}
