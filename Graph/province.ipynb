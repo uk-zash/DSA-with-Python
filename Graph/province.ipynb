{
 "cells": [
  {
   "cell_type": "code",
   "execution_count": 19,
   "metadata": {},
   "outputs": [],
   "source": [
    "def findCircleNum(isConnected):\n",
    "       \n",
    "        v = len(isConnected)\n",
    "        adj_list = [[] for _ in range(v)]\n",
    "\n",
    "        for i in range(v):\n",
    "            for j in range(v):\n",
    "                if (isConnected[i][j]==1 and i!=j):\n",
    "                    adj_list[i].append(j)\n",
    "                    adj_list[j].append(i)\n",
    "        print(adj_list)\n",
    "\n",
    "        def dfs(node , adj_list , visited):\n",
    "             visited[node] = True\n",
    "             for neigh in adj_list[node]:\n",
    "                if not visited[neigh]:\n",
    "                     dfs(neigh , adj_list , visited)\n",
    "        \n",
    "        visited = [False]*v\n",
    "        count = 0\n",
    "        \n",
    "        for i in range(v):\n",
    "             if not visited[i]:\n",
    "                  count+=1\n",
    "                  dfs(i , adj_list , visited)\n",
    "        return count"
   ]
  },
  {
   "cell_type": "code",
   "execution_count": 20,
   "metadata": {},
   "outputs": [
    {
     "name": "stdout",
     "output_type": "stream",
     "text": [
      "[[1, 1], [0, 0], []]\n"
     ]
    },
    {
     "data": {
      "text/plain": [
       "2"
      ]
     },
     "execution_count": 20,
     "metadata": {},
     "output_type": "execute_result"
    }
   ],
   "source": [
    "isConnected = [[1,1,0],[1,1,0],[0,0,1]]\n",
    "findCircleNum(isConnected)"
   ]
  },
  {
   "cell_type": "markdown",
   "metadata": {},
   "source": [
    "## Using BFS"
   ]
  },
  {
   "cell_type": "code",
   "execution_count": 22,
   "metadata": {},
   "outputs": [],
   "source": [
    "from collections import deque\n",
    "def numProvinces(adj, V):\n",
    "        # code here \n",
    "        \n",
    "        adj_list = [[] for _ in range(V)]\n",
    "        \n",
    "        for i in range(V):\n",
    "            for j in range(V):\n",
    "                if adj[i][j]==1 and i!=j:\n",
    "                    adj_list[i].append(j)\n",
    "                    adj_list[j].append(i)\n",
    "                \n",
    "        \n",
    "        def bfs(start, adj_list, visited):\n",
    "            queue = deque([start])\n",
    "            visited[start] = True\n",
    "            \n",
    "            while queue:\n",
    "                node = queue.popleft()\n",
    "                for neigh in adj_list[node]:\n",
    "                    if not visited[neigh]:\n",
    "                        visited[neigh] = True\n",
    "                        queue.append(neigh)\n",
    "            \n",
    "        \n",
    "        visited = [False]*V\n",
    "        count = 0\n",
    "        \n",
    "        for i in range(V):\n",
    "            if not visited[i]:\n",
    "                count+=1\n",
    "                bfs(i , adj_list , visited)\n",
    "        \n",
    "        return count"
   ]
  },
  {
   "cell_type": "code",
   "execution_count": 23,
   "metadata": {},
   "outputs": [
    {
     "data": {
      "text/plain": [
       "2"
      ]
     },
     "execution_count": 23,
     "metadata": {},
     "output_type": "execute_result"
    }
   ],
   "source": [
    "Input=[\n",
    " [1, 0, 1],\n",
    " [0, 1, 0],\n",
    " [1, 0, 1]\n",
    "]\n",
    "v = len(Input)\n",
    "\n",
    "numProvinces(Input , v)\n"
   ]
  },
  {
   "cell_type": "code",
   "execution_count": null,
   "metadata": {},
   "outputs": [],
   "source": []
  }
 ],
 "metadata": {
  "kernelspec": {
   "display_name": "Python 3",
   "language": "python",
   "name": "python3"
  },
  "language_info": {
   "codemirror_mode": {
    "name": "ipython",
    "version": 3
   },
   "file_extension": ".py",
   "mimetype": "text/x-python",
   "name": "python",
   "nbconvert_exporter": "python",
   "pygments_lexer": "ipython3",
   "version": "3.11.9"
  }
 },
 "nbformat": 4,
 "nbformat_minor": 2
}
