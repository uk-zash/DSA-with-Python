{
 "cells": [
  {
   "cell_type": "code",
   "execution_count": 20,
   "metadata": {},
   "outputs": [],
   "source": [
    "import heapq\n",
    "\n",
    "def Dijikstra( edges , src):\n",
    "\n",
    "    n = max(max(u, v) for u, v, w in edges) +1\n",
    "    adj = [[] for _ in range(n)]\n",
    "\n",
    "    for u , v ,w in edges:\n",
    "\n",
    "        adj[u].append((v , w))\n",
    "\n",
    "    \n",
    "    dist = [float(\"inf\")] * n\n",
    "    dist[src] = 0\n",
    "    \n",
    "    que = []\n",
    "\n",
    "    heapq.heappush(que , [0 , src])\n",
    "\n",
    "    while que:\n",
    "\n",
    "        c_dist , node = heapq.heappop(que)\n",
    "\n",
    "        if c_dist > dist[node]:\n",
    "            continue\n",
    "            \n",
    "        for v , w in adj[node]:\n",
    "\n",
    "            distance = w + c_dist\n",
    "\n",
    "            if distance < dist[v]:\n",
    "                dist[v] = distance\n",
    "                heapq.heappush(que , (distance , v))\n",
    "    dist = [-1 if d == float('inf') else d for d in dist]\n",
    "\n",
    "    return dist\n"
   ]
  },
  {
   "cell_type": "code",
   "execution_count": 21,
   "metadata": {},
   "outputs": [
    {
     "data": {
      "text/plain": [
       "[0, 2, 1]"
      ]
     },
     "execution_count": 21,
     "metadata": {},
     "output_type": "execute_result"
    }
   ],
   "source": [
    "edge =[[0,1,2],[0,2,1]]\n",
    "src = 0\n",
    "\n",
    "Dijikstra(edge , src)\n"
   ]
  },
  {
   "cell_type": "code",
   "execution_count": null,
   "metadata": {},
   "outputs": [],
   "source": []
  }
 ],
 "metadata": {
  "kernelspec": {
   "display_name": "Python 3",
   "language": "python",
   "name": "python3"
  },
  "language_info": {
   "codemirror_mode": {
    "name": "ipython",
    "version": 3
   },
   "file_extension": ".py",
   "mimetype": "text/x-python",
   "name": "python",
   "nbconvert_exporter": "python",
   "pygments_lexer": "ipython3",
   "version": "3.11.9"
  }
 },
 "nbformat": 4,
 "nbformat_minor": 2
}
