{
 "cells": [
  {
   "cell_type": "code",
   "execution_count": 1,
   "metadata": {},
   "outputs": [],
   "source": [
    "\n",
    "def dfs_traversal(n , edges):\n",
    "\n",
    "    adj_list = {i:[] for i in range(n)}\n",
    "\n",
    "    for u , v  in edges:\n",
    "        adj_list[u].append(v)\n",
    "        adj_list[v].append(u)\n",
    "    print(adj_list)\n",
    "\n",
    "    def dfs(node , adj , visited , ans):\n",
    "        \n",
    "            visited[node] = True\n",
    "            ans.append(node)\n",
    "            \n",
    "            for neig in adj[node]:\n",
    "                \n",
    "                if not visited[neig]:\n",
    "                    \n",
    "                    dfs(neig , adj , visited ,ans)\n",
    "        \n",
    "    visited = [False]*n        \n",
    "    start = 0\n",
    "    ans = []\n",
    "        \n",
    "    dfs(start , adj_list , visited , ans)\n",
    "        \n",
    "    return ans\n",
    "        "
   ]
  },
  {
   "cell_type": "code",
   "execution_count": 2,
   "metadata": {},
   "outputs": [
    {
     "name": "stdout",
     "output_type": "stream",
     "text": [
      "{0: [2, 1], 1: [0, 2], 2: [0, 1], 3: [4], 4: [3]}\n"
     ]
    },
    {
     "data": {
      "text/plain": [
       "[0, 2, 1]"
      ]
     },
     "execution_count": 2,
     "metadata": {},
     "output_type": "execute_result"
    }
   ],
   "source": [
    "V1 = 5\n",
    "edges1 = [\n",
    "        [0, 2],\n",
    "        [0, 1],\n",
    "        [1, 2],\n",
    "        [3, 4]\n",
    "    ]\n",
    "dfs_traversal(V1, edges1)"
   ]
  },
  {
   "cell_type": "code",
   "execution_count": null,
   "metadata": {},
   "outputs": [],
   "source": []
  }
 ],
 "metadata": {
  "kernelspec": {
   "display_name": "Python 3",
   "language": "python",
   "name": "python3"
  },
  "language_info": {
   "codemirror_mode": {
    "name": "ipython",
    "version": 3
   },
   "file_extension": ".py",
   "mimetype": "text/x-python",
   "name": "python",
   "nbconvert_exporter": "python",
   "pygments_lexer": "ipython3",
   "version": "3.11.9"
  }
 },
 "nbformat": 4,
 "nbformat_minor": 2
}
