{
 "cells": [
  {
   "cell_type": "code",
   "execution_count": 6,
   "metadata": {},
   "outputs": [],
   "source": [
    "from collections import deque\n",
    "def dfs(node , stack ,adj ,  visited):\n",
    "\n",
    "    visited[node] = True\n",
    "    for v , w in adj[node]:\n",
    "        if not visited[v]:\n",
    "            dfs(v , stack , adj , visited )\n",
    "    \n",
    "    stack.append(node)\n",
    "        \n",
    "    return stack \n",
    "\n",
    "    \n",
    "\n",
    "\n",
    "def shortestPath( n, m , edges):\n",
    "\n",
    "    adj = [[] for _ in range(n)]\n",
    "\n",
    "    for u , v , w in edges:\n",
    "        adj[u].append((v , w))\n",
    "    print(adj)\n",
    "\n",
    "    visited = [False] * n\n",
    "    stack = []\n",
    "\n",
    "    for i in range(n):\n",
    "        if not visited[i]:\n",
    "            dfs(i , stack , adj , visited)\n",
    "    print(stack)\n",
    "\n",
    "\n",
    "    dist = [float(\"inf\")] * n\n",
    "    dist[0] = 0\n",
    "    while stack:\n",
    "\n",
    "        node = stack.pop()\n",
    "\n",
    "        if dist[node] != float(\"inf\"):\n",
    "            for v , w in adj[node]:\n",
    "                if dist[node] + w < dist[v]:\n",
    "                    dist[v] = dist[node] + w\n",
    "    \n",
    "    for i in range(n):\n",
    "        if dist[i] == float(\"inf\"):\n",
    "            dist[i] = -1\n",
    "    \n",
    "    return dist\n",
    "\n"
   ]
  },
  {
   "cell_type": "code",
   "execution_count": 7,
   "metadata": {},
   "outputs": [
    {
     "name": "stdout",
     "output_type": "stream",
     "text": [
      "[[(1, 2), (2, 1)], [], [], []]\n",
      "[1, 2, 0, 3]\n"
     ]
    },
    {
     "data": {
      "text/plain": [
       "[0, 2, 1, -1]"
      ]
     },
     "execution_count": 7,
     "metadata": {},
     "output_type": "execute_result"
    }
   ],
   "source": [
    "n = 4\n",
    "m = 2\n",
    "edge = [[0,1,2],[0,2,1]]\n",
    "\n",
    "shortestPath(n , m , edge)"
   ]
  },
  {
   "cell_type": "code",
   "execution_count": null,
   "metadata": {},
   "outputs": [],
   "source": []
  }
 ],
 "metadata": {
  "kernelspec": {
   "display_name": "Python 3",
   "language": "python",
   "name": "python3"
  },
  "language_info": {
   "codemirror_mode": {
    "name": "ipython",
    "version": 3
   },
   "file_extension": ".py",
   "mimetype": "text/x-python",
   "name": "python",
   "nbconvert_exporter": "python",
   "pygments_lexer": "ipython3",
   "version": "3.11.9"
  }
 },
 "nbformat": 4,
 "nbformat_minor": 2
}
