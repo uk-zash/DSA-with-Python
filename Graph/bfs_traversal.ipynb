{
 "cells": [
  {
   "cell_type": "code",
   "execution_count": 5,
   "metadata": {},
   "outputs": [],
   "source": [
    "from collections import deque\n",
    "\n",
    "def bfsTraversal(n, adj):\n",
    "    # write your code here\n",
    "\n",
    "    adj_list = {i: [] for i in range(n)}\n",
    "    # print(adj_list)\n",
    "    \n",
    "    for u,v in adj:\n",
    "        adj_list[u].append(v)\n",
    "    \n",
    "    print(adj_list)\n",
    "    \n",
    "    res = []\n",
    "    visited = [False]*n\n",
    "    q = deque([0])\n",
    "    visited[0] = True\n",
    "\n",
    "    while q:\n",
    "        vert = q.popleft()\n",
    "        res.append(vert)\n",
    "\n",
    "\n",
    "        for neigh in adj_list[vert]:\n",
    "\n",
    "            if not visited[neigh]:\n",
    "                q.append(neigh)\n",
    "                visited[neigh] = True\n",
    "    \n",
    "    return res\n",
    "    \n",
    "\n",
    "  \n",
    "\n",
    "    pass"
   ]
  },
  {
   "cell_type": "code",
   "execution_count": 6,
   "metadata": {},
   "outputs": [
    {
     "name": "stdout",
     "output_type": "stream",
     "text": [
      "{0: [1, 2, 3], 1: [4, 7], 2: [5], 3: [6], 4: [], 5: [], 6: [], 7: []}\n",
      "[0, 1, 2, 3, 4, 7, 5, 6]\n"
     ]
    }
   ],
   "source": [
    "n1 = 8\n",
    "edges1 = [\n",
    "        [0, 1],\n",
    "        [0, 2],\n",
    "        [0, 3],\n",
    "        [1, 4],\n",
    "        [1, 7],\n",
    "        [2, 5],\n",
    "        [3, 6]\n",
    "    ]\n",
    "print(bfsTraversal(n1, edges1))"
   ]
  },
  {
   "cell_type": "code",
   "execution_count": null,
   "metadata": {},
   "outputs": [],
   "source": []
  }
 ],
 "metadata": {
  "kernelspec": {
   "display_name": "Python 3",
   "language": "python",
   "name": "python3"
  },
  "language_info": {
   "codemirror_mode": {
    "name": "ipython",
    "version": 3
   },
   "file_extension": ".py",
   "mimetype": "text/x-python",
   "name": "python",
   "nbconvert_exporter": "python",
   "pygments_lexer": "ipython3",
   "version": "3.11.9"
  }
 },
 "nbformat": 4,
 "nbformat_minor": 2
}
