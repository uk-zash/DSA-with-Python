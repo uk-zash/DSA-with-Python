{
 "cells": [
  {
   "cell_type": "code",
   "execution_count": 5,
   "metadata": {},
   "outputs": [],
   "source": [
    "def helper(arr , k , n):\n",
    "\n",
    "    if k==0:\n",
    "        return True\n",
    "    if n==0:\n",
    "        return False\n",
    "    \n",
    "    if arr[n-1] <=k:\n",
    "        return helper(arr , k-arr[n-1] , n-1) or helper(arr , k , n-1)\n",
    "    else:\n",
    "        return helper(arr , k , n-1)\n",
    "    \n",
    "\n",
    "def equalSum(arr , n):\n",
    "\n",
    "    if sum(arr)%2 !=0:\n",
    "        return False\n",
    "    \n",
    "    k = sum(arr) //2\n",
    "\n",
    "    return helper(arr , k , n)\n",
    "    \n",
    "    \n",
    "\n"
   ]
  },
  {
   "cell_type": "code",
   "execution_count": 6,
   "metadata": {},
   "outputs": [
    {
     "data": {
      "text/plain": [
       "True"
      ]
     },
     "execution_count": 6,
     "metadata": {},
     "output_type": "execute_result"
    }
   ],
   "source": [
    "arr = [1 , 5 , 11 , 5]\n",
    "\n",
    "equalSum(arr , len(arr))"
   ]
  },
  {
   "cell_type": "code",
   "execution_count": 8,
   "metadata": {},
   "outputs": [],
   "source": [
    "def helper(arr , k , n):\n",
    "\n",
    "    dp = [[False for _ in range(k+1)] for _ in range(n+1)]\n",
    "\n",
    "    for i in range(n+1):\n",
    "        dp[i][0] = True\n",
    "\n",
    "    for i in range(n+1):\n",
    "        for j in range(k+1):\n",
    "\n",
    "            if j<= arr[i-1]:\n",
    "                dp[i][j] = dp[i-1][j-arr[i-1]] or dp[i-1][j]\n",
    "            else:\n",
    "                dp[i][j] = dp[i-1][j]\n",
    "    return dp[n][k]\n",
    "\n",
    "\n",
    "def equalSubSetSum(arr , n):\n",
    "    if sum(arr)%2!=0:\n",
    "        return False\n",
    "\n",
    "    k = sum(arr)//2\n",
    "\n",
    "    return helper(arr , k , n)\n",
    "\n",
    "\n"
   ]
  },
  {
   "cell_type": "code",
   "execution_count": 9,
   "metadata": {},
   "outputs": [
    {
     "data": {
      "text/plain": [
       "True"
      ]
     },
     "execution_count": 9,
     "metadata": {},
     "output_type": "execute_result"
    }
   ],
   "source": [
    "arr = [1 , 5 , 11 , 5]\n",
    "equalSubSetSum(arr , len(arr))"
   ]
  },
  {
   "cell_type": "code",
   "execution_count": null,
   "metadata": {},
   "outputs": [],
   "source": []
  }
 ],
 "metadata": {
  "kernelspec": {
   "display_name": "Python 3",
   "language": "python",
   "name": "python3"
  },
  "language_info": {
   "codemirror_mode": {
    "name": "ipython",
    "version": 3
   },
   "file_extension": ".py",
   "mimetype": "text/x-python",
   "name": "python",
   "nbconvert_exporter": "python",
   "pygments_lexer": "ipython3",
   "version": "3.11.9"
  }
 },
 "nbformat": 4,
 "nbformat_minor": 2
}
