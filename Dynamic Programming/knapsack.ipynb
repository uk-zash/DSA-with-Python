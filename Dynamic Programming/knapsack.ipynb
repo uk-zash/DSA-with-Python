{
 "cells": [
  {
   "cell_type": "code",
   "execution_count": 48,
   "metadata": {},
   "outputs": [],
   "source": [
    "def knapsack(w ,v , c , n):\n",
    "    \n",
    "    if n==0 or c==0:\n",
    "        return 0\n",
    "    \n",
    "    if w[n-1] <= c:\n",
    "\n",
    "        return max( v[n-1] + knapsack(w , v , c - w[n-1] , n-1) , knapsack(w , v , c , n-1))\n",
    "    \n",
    "    else:\n",
    "        return knapsack(w , v , c , n-1)\n",
    "        "
   ]
  },
  {
   "cell_type": "code",
   "execution_count": 49,
   "metadata": {},
   "outputs": [
    {
     "name": "stdout",
     "output_type": "stream",
     "text": [
      "45\n"
     ]
    }
   ],
   "source": [
    "w = [5, 4, 3, 7]\n",
    "v = [15, 9, 21, 7]\n",
    "n = len(w)\n",
    "c = 15\n",
    "\n",
    "result = knapsack(w, v, c, n)\n",
    "print(result)"
   ]
  },
  {
   "cell_type": "code",
   "execution_count": null,
   "metadata": {},
   "outputs": [
    {
     "name": "stdout",
     "output_type": "stream",
     "text": [
      "45\n"
     ]
    }
   ],
   "source": [
    "def knapsackmemo(w, v, c, n, memo):\n",
    "    if n == 0 or c == 0:\n",
    "        return 0\n",
    "    if (n, c) in memo:\n",
    "        return memo[(n, c)]\n",
    "    if w[n-1] <= c:\n",
    "        incl = v[n-1] + knapsackmemo(w, v, c - w[n-1], n - 1, memo)\n",
    "        excl = knapsackmemo(w, v, c, n - 1, memo)\n",
    "        result = max(incl, excl)\n",
    "    else:\n",
    "        result = knapsackmemo(w, v, c, n - 1, memo)\n",
    "    memo[(n, c)] = result\n",
    "    return result\n",
    "\n",
    "\n"
   ]
  },
  {
   "cell_type": "code",
   "execution_count": 44,
   "metadata": {},
   "outputs": [
    {
     "name": "stdout",
     "output_type": "stream",
     "text": [
      "45\n"
     ]
    }
   ],
   "source": [
    "w = [5, 4, 3, 7]\n",
    "v = [15, 9, 21, 7]\n",
    "n = len(w)\n",
    "c = 15\n",
    "\n",
    "result = knapsackmemo(w, v, c, n, {})\n",
    "print(result)"
   ]
  },
  {
   "cell_type": "code",
   "execution_count": 35,
   "metadata": {},
   "outputs": [],
   "source": [
    "def knapsackTopDown(w, v, n, c):\n",
    "    dp = [[0 for _ in range(c + 1)] for _ in range(n + 1)]\n",
    "    \n",
    "   \n",
    "    for i in range(1, n + 1):\n",
    "        for j in range(1, c + 1):\n",
    "            if w[i - 1] <= j:  \n",
    "                dp[i][j] = max(v[i - 1] + dp[i - 1][j - w[i - 1]], dp[i - 1][j])\n",
    "            else:\n",
    "                dp[i][j] = dp[i - 1][j]  \n",
    "  \n",
    "    return dp[n][c]\n"
   ]
  },
  {
   "cell_type": "code",
   "execution_count": 36,
   "metadata": {},
   "outputs": [
    {
     "name": "stdout",
     "output_type": "stream",
     "text": [
      "45\n"
     ]
    }
   ],
   "source": [
    "w = [5, 4, 3, 7]   \n",
    "v = [15, 9, 21, 7]  \n",
    "n = len(w)  \n",
    "c = 15 \n",
    "\n",
    "result = knapsackTopDown(w, v, n, c)\n",
    "print(result) \n"
   ]
  },
  {
   "cell_type": "code",
   "execution_count": null,
   "metadata": {},
   "outputs": [],
   "source": []
  }
 ],
 "metadata": {
  "kernelspec": {
   "display_name": "Python 3",
   "language": "python",
   "name": "python3"
  },
  "language_info": {
   "codemirror_mode": {
    "name": "ipython",
    "version": 3
   },
   "file_extension": ".py",
   "mimetype": "text/x-python",
   "name": "python",
   "nbconvert_exporter": "python",
   "pygments_lexer": "ipython3",
   "version": "3.11.9"
  }
 },
 "nbformat": 4,
 "nbformat_minor": 2
}
