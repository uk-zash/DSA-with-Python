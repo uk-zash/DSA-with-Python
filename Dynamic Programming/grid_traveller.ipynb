{
 "cells": [
  {
   "cell_type": "code",
   "execution_count": 10,
   "metadata": {},
   "outputs": [],
   "source": [
    "\n",
    "def gridTraveller(m , n , memo = {}):\n",
    "    key = m , n\n",
    "    \n",
    "    if n==0 or m==0:\n",
    "        return 0\n",
    "    if n==1  and m==1:\n",
    "        return 1\n",
    "    \n",
    "    if key in memo:\n",
    "        return memo[key]\n",
    "    else:\n",
    "        memo[key] = gridTraveller(m-1 , n , memo) + gridTraveller(m , n-1 , memo)\n",
    "\n",
    "    return memo[key]"
   ]
  },
  {
   "cell_type": "code",
   "execution_count": 11,
   "metadata": {},
   "outputs": [
    {
     "data": {
      "text/plain": [
       "40116600"
      ]
     },
     "execution_count": 11,
     "metadata": {},
     "output_type": "execute_result"
    }
   ],
   "source": [
    "gridTraveller(15 , 15)\n"
   ]
  },
  {
   "cell_type": "code",
   "execution_count": null,
   "metadata": {},
   "outputs": [],
   "source": []
  }
 ],
 "metadata": {
  "kernelspec": {
   "display_name": "Python 3",
   "language": "python",
   "name": "python3"
  },
  "language_info": {
   "codemirror_mode": {
    "name": "ipython",
    "version": 3
   },
   "file_extension": ".py",
   "mimetype": "text/x-python",
   "name": "python",
   "nbconvert_exporter": "python",
   "pygments_lexer": "ipython3",
   "version": "3.11.9"
  }
 },
 "nbformat": 4,
 "nbformat_minor": 2
}
