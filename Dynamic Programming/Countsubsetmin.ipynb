{
 "cells": [
  {
   "cell_type": "code",
   "execution_count": null,
   "metadata": {},
   "outputs": [],
   "source": [
    "def helper(arr, n, k, count):\n",
    "    if k == 0:\n",
    "        count[0] += 1\n",
    "        return True\n",
    "    if n == 0:\n",
    "        return False\n",
    "\n",
    "    if arr[n - 1] <= k:\n",
    "        helper(arr , n-1 , k-arr[n-1] , count)\n",
    "        helper(arr , n-1 , k , count)\n",
    "    else:\n",
    "        helper(arr, n - 1, k, count)\n",
    "\n",
    "def Count(arr, n, diff):\n",
    "    total_sum = sum(arr)\n",
    "\n",
    "    if (diff + total_sum) % 2 != 0:\n",
    "        return 0  \n",
    "\n",
    "    k = (diff + total_sum) // 2\n",
    "    count = [0]  \n",
    "\n",
    "    helper(arr, n, k, count)\n",
    "\n",
    "    return count[0]\n",
    "        "
   ]
  },
  {
   "cell_type": "code",
   "execution_count": 26,
   "metadata": {},
   "outputs": [
    {
     "data": {
      "text/plain": [
       "3"
      ]
     },
     "execution_count": 26,
     "metadata": {},
     "output_type": "execute_result"
    }
   ],
   "source": [
    "arr = [1 , 1, 2 , 3]\n",
    "diff = 1\n",
    "Count(arr ,len(arr ) , diff)\n"
   ]
  },
  {
   "cell_type": "code",
   "execution_count": null,
   "metadata": {},
   "outputs": [],
   "source": []
  }
 ],
 "metadata": {
  "kernelspec": {
   "display_name": "Python 3",
   "language": "python",
   "name": "python3"
  },
  "language_info": {
   "codemirror_mode": {
    "name": "ipython",
    "version": 3
   },
   "file_extension": ".py",
   "mimetype": "text/x-python",
   "name": "python",
   "nbconvert_exporter": "python",
   "pygments_lexer": "ipython3",
   "version": "3.11.9"
  }
 },
 "nbformat": 4,
 "nbformat_minor": 2
}
