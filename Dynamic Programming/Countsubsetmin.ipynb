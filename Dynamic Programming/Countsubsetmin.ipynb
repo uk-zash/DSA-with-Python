{
 "cells": [
  {
   "cell_type": "markdown",
   "metadata": {},
   "source": [
    "You are given an array of positive integers arr of size n and an integer diff. The task is to determine the total number of subsets of the array that can be partitioned into two subsets such that the absolute difference between the sum of the elements of these subsets is equal to diff.\n",
    "\n",
    "Constraints\n",
    "1 ≤ n ≤ 100 (Size of the array)\n",
    "1 ≤ arr[i] ≤ 1000 (Elements of the array)\n",
    "0 ≤ diff ≤ sum(arr) (Difference between the subset sums)\n",
    "Input\n",
    "An integer array arr of size n.\n",
    "An integer diff, the required difference.\n",
    "Output\n",
    "An integer representing the total number of subsets that satisfy the given conditions."
   ]
  },
  {
   "cell_type": "markdown",
   "metadata": {},
   "source": [
    "Input:\n",
    "arr = [1, 2, 3, 4, 5]\n",
    "diff = 1\n",
    "\n",
    "Output:\n",
    "3\n",
    "\n",
    "Explanation:\n",
    "The array can be partitioned into subsets such that the absolute difference between their sums is 1.\n",
    "\n",
    "Subsets: [1, 2, 5] and [3, 4]\n",
    "Subsets: [1, 3, 4] and [2, 5]\n",
    "Subsets: [3, 5] and [1, 2, 4]"
   ]
  },
  {
   "cell_type": "code",
   "execution_count": null,
   "metadata": {},
   "outputs": [],
   "source": [
    "def helper(arr, n, k, count):\n",
    "    if k == 0:\n",
    "        count[0] += 1\n",
    "        return True\n",
    "    if n == 0:\n",
    "        return False\n",
    "\n",
    "    if arr[n - 1] <= k:\n",
    "        helper(arr , n-1 , k-arr[n-1] , count)\n",
    "        helper(arr , n-1 , k , count)\n",
    "    else:\n",
    "        helper(arr, n - 1, k, count)\n",
    "\n",
    "def Count(arr, n, diff):\n",
    "    total_sum = sum(arr)\n",
    "\n",
    "    if (diff + total_sum) % 2 != 0:\n",
    "        return 0  \n",
    "\n",
    "    k = (diff + total_sum) // 2\n",
    "    count = [0]  \n",
    "\n",
    "    helper(arr, n, k, count)\n",
    "\n",
    "    return count[0]\n",
    "        "
   ]
  },
  {
   "cell_type": "code",
   "execution_count": 26,
   "metadata": {},
   "outputs": [
    {
     "data": {
      "text/plain": [
       "3"
      ]
     },
     "execution_count": 26,
     "metadata": {},
     "output_type": "execute_result"
    }
   ],
   "source": [
    "arr = [1 , 1, 2 , 3]\n",
    "diff = 1\n",
    "Count(arr ,len(arr ) , diff)\n"
   ]
  },
  {
   "cell_type": "code",
   "execution_count": null,
   "metadata": {},
   "outputs": [],
   "source": []
  }
 ],
 "metadata": {
  "kernelspec": {
   "display_name": "Python 3",
   "language": "python",
   "name": "python3"
  },
  "language_info": {
   "codemirror_mode": {
    "name": "ipython",
    "version": 3
   },
   "file_extension": ".py",
   "mimetype": "text/x-python",
   "name": "python",
   "nbconvert_exporter": "python",
   "pygments_lexer": "ipython3",
   "version": "3.11.9"
  }
 },
 "nbformat": 4,
 "nbformat_minor": 2
}
