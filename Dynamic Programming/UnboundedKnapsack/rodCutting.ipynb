{
 "cells": [
  {
   "cell_type": "code",
   "execution_count": 4,
   "metadata": {},
   "outputs": [],
   "source": [
    "\n",
    "def rodCutting(length , price , n , c_index):\n",
    "\n",
    "    if c_index<0 or n==0:\n",
    "        return 0\n",
    "    \n",
    "    include = 0\n",
    "    if length[c_index] <=n:\n",
    "        include = price[c_index] + rodCutting(length , price , n-length[c_index] , c_index)\n",
    "    \n",
    "    exclude = rodCutting(length , price , n , c_index - 1)\n",
    "\n",
    "    return max(include , exclude)\n",
    "    \n",
    "    "
   ]
  },
  {
   "cell_type": "code",
   "execution_count": 5,
   "metadata": {},
   "outputs": [
    {
     "data": {
      "text/plain": [
       "22"
      ]
     },
     "execution_count": 5,
     "metadata": {},
     "output_type": "execute_result"
    }
   ],
   "source": [
    "length = [1 , 2 , 3 , 4 , 5, 6 ,  7 , 8]\n",
    "price = [1 , 5 , 8 , 9 , 10 , 17 , 17 , 20]\n",
    "n = len(length)\n",
    "rodCutting(length , price , n , n-1)\n"
   ]
  },
  {
   "cell_type": "code",
   "execution_count": 14,
   "metadata": {},
   "outputs": [],
   "source": [
    "def topDown(length , price , n):\n",
    "\n",
    "    dp = [[0 for _ in range(n+1)] for _ in range(n+1)]\n",
    "\n",
    "    for i in range(1 , n+1):\n",
    "        for j in range(1 , n+1):\n",
    "            if length[i-1]<=j:\n",
    "                dp[i][j] = max(price[i-1] + dp[i][j-length[i-1]] , dp[i-1][j])\n",
    "            else:\n",
    "                dp[i][j] = dp[i-1][j]\n",
    "    return dp[n][n]"
   ]
  },
  {
   "cell_type": "code",
   "execution_count": 15,
   "metadata": {},
   "outputs": [
    {
     "data": {
      "text/plain": [
       "22"
      ]
     },
     "execution_count": 15,
     "metadata": {},
     "output_type": "execute_result"
    }
   ],
   "source": [
    "length = [1 , 2 , 3 , 4 , 5, 6 ,  7 , 8]\n",
    "price = [1 , 5 , 8 , 9 , 10 , 17 , 17 , 20]\n",
    "n = len(length)\n",
    "topDown(length , price , n )\n"
   ]
  },
  {
   "cell_type": "code",
   "execution_count": null,
   "metadata": {},
   "outputs": [],
   "source": []
  }
 ],
 "metadata": {
  "kernelspec": {
   "display_name": "Python 3",
   "language": "python",
   "name": "python3"
  },
  "language_info": {
   "codemirror_mode": {
    "name": "ipython",
    "version": 3
   },
   "file_extension": ".py",
   "mimetype": "text/x-python",
   "name": "python",
   "nbconvert_exporter": "python",
   "pygments_lexer": "ipython3",
   "version": "3.11.9"
  }
 },
 "nbformat": 4,
 "nbformat_minor": 2
}
