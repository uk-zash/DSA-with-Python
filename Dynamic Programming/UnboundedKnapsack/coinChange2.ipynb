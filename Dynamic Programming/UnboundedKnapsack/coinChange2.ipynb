{
 "cells": [
  {
   "cell_type": "code",
   "execution_count": null,
   "metadata": {},
   "outputs": [],
   "source": [
    "def coinChange2(coins, sum, n):\n",
    "    if sum == 0:\n",
    "        return 0  \n",
    "    if n == 0:\n",
    "        return float('inf') \n",
    "\n",
    "    include = float('inf')\n",
    "    if coins[n-1] <= sum:\n",
    "        include = 1 + coinChange2(coins, sum - coins[n-1], n)\n",
    "    exclude = coinChange2(coins, sum, n-1)\n",
    "\n",
    "    return min(include, exclude)\n"
   ]
  },
  {
   "cell_type": "code",
   "execution_count": 10,
   "metadata": {},
   "outputs": [
    {
     "data": {
      "text/plain": [
       "2"
      ]
     },
     "execution_count": 10,
     "metadata": {},
     "output_type": "execute_result"
    }
   ],
   "source": [
    "coins = [1 , 2 , 3]\n",
    "n = len(coins)\n",
    "sum = 5\n",
    "coinChange2(coins , sum ,n)"
   ]
  },
  {
   "cell_type": "code",
   "execution_count": null,
   "metadata": {},
   "outputs": [],
   "source": []
  }
 ],
 "metadata": {
  "kernelspec": {
   "display_name": "Python 3",
   "language": "python",
   "name": "python3"
  },
  "language_info": {
   "codemirror_mode": {
    "name": "ipython",
    "version": 3
   },
   "file_extension": ".py",
   "mimetype": "text/x-python",
   "name": "python",
   "nbconvert_exporter": "python",
   "pygments_lexer": "ipython3",
   "version": "3.11.9"
  }
 },
 "nbformat": 4,
 "nbformat_minor": 2
}
