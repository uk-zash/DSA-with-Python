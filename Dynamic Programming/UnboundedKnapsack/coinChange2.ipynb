{
 "cells": [
  {
   "cell_type": "code",
   "execution_count": null,
   "metadata": {},
   "outputs": [],
   "source": [
    "def coinChange2(coins, sum, n):\n",
    "    if sum == 0:\n",
    "        return 0  \n",
    "    if n == 0:\n",
    "        return float('inf') \n",
    "\n",
    "    include = float('inf')\n",
    "    if coins[n-1] <= sum:\n",
    "        include = 1 + coinChange2(coins, sum - coins[n-1], n)\n",
    "    exclude = coinChange2(coins, sum, n-1)\n",
    "\n",
    "    return min(include, exclude)\n"
   ]
  },
  {
   "cell_type": "code",
   "execution_count": 10,
   "metadata": {},
   "outputs": [
    {
     "data": {
      "text/plain": [
       "2"
      ]
     },
     "execution_count": 10,
     "metadata": {},
     "output_type": "execute_result"
    }
   ],
   "source": [
    "coins = [1 , 2 , 3]\n",
    "n = len(coins)\n",
    "sum = 5\n",
    "coinChange2(coins , sum ,n)"
   ]
  },
  {
   "cell_type": "code",
   "execution_count": 21,
   "metadata": {},
   "outputs": [],
   "source": [
    "def topDown(coins , sum , n):\n",
    "\n",
    "    dp = [[float(\"inf\") for _ in range(sum + 1)] for _ in range(n+1)]\n",
    "    for i in range(n+1):\n",
    "        dp[i][0] = 0\n",
    "\n",
    "    \n",
    "    for i in range(1 , n+1):\n",
    "        for j in range(1 , sum + 1):\n",
    "            if coins[i-1] <= j:\n",
    "                dp[i][j] = min(1 + dp[i][j-coins[i-1]] , dp[i-1][j])\n",
    "            else:\n",
    "                dp[i][j] = dp[i-1][j]\n",
    "    res = dp[n][sum]\n",
    "    return res if res != float(\"inf\") else -1\n"
   ]
  },
  {
   "cell_type": "code",
   "execution_count": 22,
   "metadata": {},
   "outputs": [
    {
     "data": {
      "text/plain": [
       "1"
      ]
     },
     "execution_count": 22,
     "metadata": {},
     "output_type": "execute_result"
    }
   ],
   "source": [
    "coins = [1 , 2 , 3]\n",
    "n = len(coins)\n",
    "sum = 1\n",
    "topDown(coins , sum ,n)\n"
   ]
  },
  {
   "cell_type": "code",
   "execution_count": null,
   "metadata": {},
   "outputs": [],
   "source": []
  },
  {
   "cell_type": "code",
   "execution_count": null,
   "metadata": {},
   "outputs": [],
   "source": []
  }
 ],
 "metadata": {
  "kernelspec": {
   "display_name": "Python 3",
   "language": "python",
   "name": "python3"
  },
  "language_info": {
   "codemirror_mode": {
    "name": "ipython",
    "version": 3
   },
   "file_extension": ".py",
   "mimetype": "text/x-python",
   "name": "python",
   "nbconvert_exporter": "python",
   "pygments_lexer": "ipython3",
   "version": "3.11.9"
  }
 },
 "nbformat": 4,
 "nbformat_minor": 2
}
