{
 "cells": [
  {
   "cell_type": "code",
   "execution_count": 4,
   "metadata": {},
   "outputs": [],
   "source": [
    "def coinChange(coins , sum , n):\n",
    "\n",
    "    if sum==0:\n",
    "        return 1\n",
    "    if n==0:\n",
    "        return 0\n",
    "    \n",
    "    if coins[n-1] <=sum:\n",
    "        return coinChange(coins , sum-coins[n-1] , n) + coinChange(coins , sum , n-1)\n",
    "    else:\n",
    "        return coinChange(coins , sum , n-1)\n",
    "\n"
   ]
  },
  {
   "cell_type": "code",
   "execution_count": 5,
   "metadata": {},
   "outputs": [
    {
     "data": {
      "text/plain": [
       "5"
      ]
     },
     "execution_count": 5,
     "metadata": {},
     "output_type": "execute_result"
    }
   ],
   "source": [
    "coins = [1 , 2 , 3]\n",
    "sum = 5\n",
    "coinChange(coins , sum , len(coins))"
   ]
  },
  {
   "cell_type": "code",
   "execution_count": 12,
   "metadata": {},
   "outputs": [],
   "source": [
    "def topDown(coins , n , sum):\n",
    "    dp = [[0 for _ in range(sum+1)] for _ in range(n+1)]\n",
    "\n",
    "    for i in range(n+1):\n",
    "        dp[i][0] = 1\n",
    "    \n",
    "    for i in range(1, n+1):\n",
    "        for j in range(1,sum+1):\n",
    "            if coins[i-1] <= j:\n",
    "                dp[i][j] = dp[i][j-coins[i-1]] + dp[i-1][j]\n",
    "            else:\n",
    "                dp[i][j] = dp[i-1][j]\n",
    "    print(dp)\n",
    "    return dp[n][sum]\n"
   ]
  },
  {
   "cell_type": "code",
   "execution_count": 13,
   "metadata": {},
   "outputs": [
    {
     "name": "stdout",
     "output_type": "stream",
     "text": [
      "[[1, 0, 0, 0, 0, 0], [1, 1, 1, 1, 1, 1], [1, 1, 2, 2, 3, 3], [1, 1, 2, 3, 4, 5]]\n"
     ]
    },
    {
     "data": {
      "text/plain": [
       "5"
      ]
     },
     "execution_count": 13,
     "metadata": {},
     "output_type": "execute_result"
    }
   ],
   "source": [
    "coins = [1 , 2 , 3]\n",
    "sum = 5\n",
    "topDown(coins , len(coins) , sum)"
   ]
  },
  {
   "cell_type": "code",
   "execution_count": null,
   "metadata": {},
   "outputs": [],
   "source": []
  }
 ],
 "metadata": {
  "kernelspec": {
   "display_name": "Python 3",
   "language": "python",
   "name": "python3"
  },
  "language_info": {
   "codemirror_mode": {
    "name": "ipython",
    "version": 3
   },
   "file_extension": ".py",
   "mimetype": "text/x-python",
   "name": "python",
   "nbconvert_exporter": "python",
   "pygments_lexer": "ipython3",
   "version": "3.11.9"
  }
 },
 "nbformat": 4,
 "nbformat_minor": 2
}
