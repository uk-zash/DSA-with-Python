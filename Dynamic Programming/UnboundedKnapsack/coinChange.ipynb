{
 "cells": [
  {
   "cell_type": "code",
   "execution_count": 4,
   "metadata": {},
   "outputs": [],
   "source": [
    "def coinChange(coins , sum , n):\n",
    "\n",
    "    if sum==0:\n",
    "        return 1\n",
    "    if n==0:\n",
    "        return 0\n",
    "    \n",
    "    if coins[n-1] <=sum:\n",
    "        return coinChange(coins , sum-coins[n-1] , n) + coinChange(coins , sum , n-1)\n",
    "    else:\n",
    "        return coinChange(coins , sum , n-1)\n",
    "\n"
   ]
  },
  {
   "cell_type": "code",
   "execution_count": 5,
   "metadata": {},
   "outputs": [
    {
     "data": {
      "text/plain": [
       "5"
      ]
     },
     "execution_count": 5,
     "metadata": {},
     "output_type": "execute_result"
    }
   ],
   "source": [
    "coins = [1 , 2 , 3]\n",
    "sum = 5\n",
    "coinChange(coins , sum , len(coins))"
   ]
  },
  {
   "cell_type": "code",
   "execution_count": null,
   "metadata": {},
   "outputs": [],
   "source": []
  }
 ],
 "metadata": {
  "kernelspec": {
   "display_name": "Python 3",
   "language": "python",
   "name": "python3"
  },
  "language_info": {
   "codemirror_mode": {
    "name": "ipython",
    "version": 3
   },
   "file_extension": ".py",
   "mimetype": "text/x-python",
   "name": "python",
   "nbconvert_exporter": "python",
   "pygments_lexer": "ipython3",
   "version": "3.11.9"
  }
 },
 "nbformat": 4,
 "nbformat_minor": 2
}
