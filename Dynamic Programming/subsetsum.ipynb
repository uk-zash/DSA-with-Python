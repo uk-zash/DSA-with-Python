{
 "cells": [
  {
   "cell_type": "code",
   "execution_count": 22,
   "metadata": {},
   "outputs": [],
   "source": [
    "def subsetSum(arr , k , n):\n",
    "\n",
    "    if k==0:\n",
    "        return True\n",
    "\n",
    "    if n==0:\n",
    "        return False\n",
    "    \n",
    "    if arr[n-1] <= k:\n",
    "        return subsetSum(arr , k-arr[n-1] , n-1) or subsetSum(arr , k , n-1)\n",
    "    else:\n",
    "        return subsetSum(arr , k , n-1)\n",
    "\n"
   ]
  },
  {
   "cell_type": "code",
   "execution_count": 23,
   "metadata": {},
   "outputs": [
    {
     "data": {
      "text/plain": [
       "True"
      ]
     },
     "execution_count": 23,
     "metadata": {},
     "output_type": "execute_result"
    }
   ],
   "source": [
    "arr = [2 , 3, 7 , 8 , 10]\n",
    "k = 11\n",
    "subsetSum(arr , k , len(arr))\n"
   ]
  },
  {
   "cell_type": "code",
   "execution_count": 24,
   "metadata": {},
   "outputs": [],
   "source": [
    "def subsetSumMemo(arr, k, n, memo):\n",
    "    if k == 0:\n",
    "        return True\n",
    "    if n == 0:\n",
    "        return False\n",
    "    \n",
    "    if (n, k) in memo:\n",
    "        return memo[(n, k)]\n",
    "    if arr[n-1] <= k:\n",
    "\n",
    "        memo[(n, k)] = subsetSumMemo(arr, k - arr[n-1], n - 1, memo) or subsetSumMemo(arr, k, n - 1, memo)\n",
    "    else:\n",
    "\n",
    "        memo[(n, k)] = subsetSumMemo(arr, k, n - 1, memo)\n",
    " \n",
    "    return memo[(n, k)]\n"
   ]
  },
  {
   "cell_type": "code",
   "execution_count": 25,
   "metadata": {},
   "outputs": [
    {
     "data": {
      "text/plain": [
       "True"
      ]
     },
     "execution_count": 25,
     "metadata": {},
     "output_type": "execute_result"
    }
   ],
   "source": [
    "arr = [2 , 3, 7 , 8 , 10]\n",
    "k = 11\n",
    "memo = {}\n",
    "subsetSumMemo(arr , k , len(arr) ,memo)\n"
   ]
  },
  {
   "cell_type": "code",
   "execution_count": null,
   "metadata": {},
   "outputs": [],
   "source": []
  }
 ],
 "metadata": {
  "kernelspec": {
   "display_name": "Python 3",
   "language": "python",
   "name": "python3"
  },
  "language_info": {
   "codemirror_mode": {
    "name": "ipython",
    "version": 3
   },
   "file_extension": ".py",
   "mimetype": "text/x-python",
   "name": "python",
   "nbconvert_exporter": "python",
   "pygments_lexer": "ipython3",
   "version": "3.11.9"
  }
 },
 "nbformat": 4,
 "nbformat_minor": 2
}
