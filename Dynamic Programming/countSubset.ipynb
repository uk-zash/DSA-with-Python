{
 "cells": [
  {
   "cell_type": "code",
   "execution_count": 15,
   "metadata": {},
   "outputs": [],
   "source": [
    "\n",
    "def count(arr , k , n ):\n",
    "\n",
    "    if k==0:\n",
    "        return 1\n",
    "        \n",
    "\n",
    "    if n==0:\n",
    "        return 0\n",
    "    \n",
    "    if arr[n-1]>k:\n",
    "        return count(arr , k , n-1 )\n",
    "\n",
    "    # sub.append(arr[n-1])\n",
    "    include = count(arr , k-arr[n-1] , n-1 )\n",
    "\n",
    "    exclude = count(arr , k , n-1 )\n",
    "\n",
    "    return include + exclude\n",
    "\n",
    "\n",
    "\n",
    "    \n",
    "\n",
    "\n",
    "\n"
   ]
  },
  {
   "cell_type": "code",
   "execution_count": 16,
   "metadata": {},
   "outputs": [
    {
     "data": {
      "text/plain": [
       "1"
      ]
     },
     "execution_count": 16,
     "metadata": {},
     "output_type": "execute_result"
    }
   ],
   "source": [
    "arr = [1 , 5 , 11 , 5]\n",
    "count(arr , 10 , len(arr))"
   ]
  },
  {
   "cell_type": "code",
   "execution_count": null,
   "metadata": {},
   "outputs": [],
   "source": []
  }
 ],
 "metadata": {
  "kernelspec": {
   "display_name": "Python 3",
   "language": "python",
   "name": "python3"
  },
  "language_info": {
   "codemirror_mode": {
    "name": "ipython",
    "version": 3
   },
   "file_extension": ".py",
   "mimetype": "text/x-python",
   "name": "python",
   "nbconvert_exporter": "python",
   "pygments_lexer": "ipython3",
   "version": "3.11.9"
  }
 },
 "nbformat": 4,
 "nbformat_minor": 2
}
