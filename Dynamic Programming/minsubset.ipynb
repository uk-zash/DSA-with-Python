{
 "cells": [
  {
   "cell_type": "markdown",
   "metadata": {},
   "source": [
    "Problem Statement\n",
    "You are given an array of integers arr of size n. The task is to partition the array into two subsets such that the absolute difference between the sums of the two subsets is minimized. Return the minimum possible difference between the sums of the two subsets.\n",
    "\n",
    "Input\n",
    "An integer array arr of size n (1 <= n <= 100, 1 <= arr[i] <= 1000).\n",
    "\n",
    "Output\n",
    "A single integer representing the minimum difference between the sums of the two subsets.\n"
   ]
  },
  {
   "cell_type": "markdown",
   "metadata": {},
   "source": [
    "Test Case 1\n",
    "Input:\n",
    "arr = [1, 6, 11, 5], n = 4\n",
    "Output:\n",
    "1\n",
    "\n",
    "Explanation:\n",
    "The array can be partitioned as [1, 5, 6] and [11].\n",
    "Sum of subset 1 = 1 + 5 + 6 = 12\n",
    "Sum of subset 2 = 11\n",
    "Difference = |12 - 11| = 1."
   ]
  },
  {
   "cell_type": "code",
   "execution_count": 1,
   "metadata": {},
   "outputs": [],
   "source": [
    "def helper(arr , n ,total , subset ):\n",
    "\n",
    "    if n==0:\n",
    "        return abs(total- subset - subset)\n",
    "\n",
    "    include = helper(arr , n-1 , total , subset+ arr[n-1])\n",
    "    exclude = helper(arr , n-1 , total , subset)\n",
    "\n",
    "    return min(include, exclude)\n",
    "\n",
    "    \n",
    "\n",
    "\n",
    "def minSub(arr , n):\n",
    "\n",
    "    total = sum(arr)\n",
    "\n",
    "    return helper(arr , n , total , 0)\n"
   ]
  },
  {
   "cell_type": "code",
   "execution_count": 8,
   "metadata": {},
   "outputs": [
    {
     "data": {
      "text/plain": [
       "1"
      ]
     },
     "execution_count": 8,
     "metadata": {},
     "output_type": "execute_result"
    }
   ],
   "source": [
    "arr = [1 , 6 , 11 , 5]\n",
    "minSub(arr , len(arr))"
   ]
  },
  {
   "cell_type": "code",
   "execution_count": 44,
   "metadata": {},
   "outputs": [],
   "source": [
    "\n",
    "\n",
    "\n",
    "def CountSubset(arr , n):\n",
    "\n",
    "    ran = sum(arr)\n",
    "\n",
    "    dp = [[False for _ in range(ran+1)] for _ in range(n+1)]\n",
    "    for j in range(n+1):\n",
    "        dp[j][0] = True\n",
    "    # print(dp)\n",
    "\n",
    "    for i in range(1 , n+1):\n",
    "        for j in range(1 , ran+1):\n",
    "\n",
    "            if arr[i-1]<=j:\n",
    "                dp[i][j] = dp[i-1][j-arr[i-1]] or dp[i-1][j]\n",
    "            else:\n",
    "                dp[i][j] = dp[i-1][j]\n",
    "    \n",
    "    help = []\n",
    "    for i in range(ran//2 + 1):\n",
    "        if dp[n][i]:\n",
    "            help.append(i)\n",
    "    ans = float(\"inf\")\n",
    "    for val in help:\n",
    "        ans = min(ans , ran-2*val)\n",
    "    return ans\n",
    "\n",
    "\n",
    "\n",
    "\n",
    "\n",
    "\n"
   ]
  },
  {
   "cell_type": "code",
   "execution_count": 45,
   "metadata": {},
   "outputs": [
    {
     "data": {
      "text/plain": [
       "1"
      ]
     },
     "execution_count": 45,
     "metadata": {},
     "output_type": "execute_result"
    }
   ],
   "source": [
    "arr = [1 , 5 , 12 , 5]\n",
    "CountSubset(arr , len(arr))"
   ]
  },
  {
   "cell_type": "code",
   "execution_count": null,
   "metadata": {},
   "outputs": [],
   "source": []
  }
 ],
 "metadata": {
  "kernelspec": {
   "display_name": "Python 3",
   "language": "python",
   "name": "python3"
  },
  "language_info": {
   "codemirror_mode": {
    "name": "ipython",
    "version": 3
   },
   "file_extension": ".py",
   "mimetype": "text/x-python",
   "name": "python",
   "nbconvert_exporter": "python",
   "pygments_lexer": "ipython3",
   "version": "3.11.9"
  }
 },
 "nbformat": 4,
 "nbformat_minor": 2
}
