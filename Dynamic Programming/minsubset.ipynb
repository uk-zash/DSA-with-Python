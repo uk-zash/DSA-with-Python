{
 "cells": [
  {
   "cell_type": "code",
   "execution_count": 7,
   "metadata": {},
   "outputs": [],
   "source": [
    "def helper(arr , n ,total , subset ):\n",
    "\n",
    "    if n==0:\n",
    "        return abs(total- subset - subset)\n",
    "\n",
    "    include = helper(arr , n-1 , total , subset+ arr[n-1])\n",
    "    exclude = helper(arr , n-1 , total , subset)\n",
    "\n",
    "    return min(include, exclude)\n",
    "\n",
    "    \n",
    "\n",
    "\n",
    "def minSub(arr , n):\n",
    "\n",
    "    total = sum(arr)\n",
    "\n",
    "    return helper(arr , n , total , 0)\n"
   ]
  },
  {
   "cell_type": "code",
   "execution_count": 8,
   "metadata": {},
   "outputs": [
    {
     "data": {
      "text/plain": [
       "1"
      ]
     },
     "execution_count": 8,
     "metadata": {},
     "output_type": "execute_result"
    }
   ],
   "source": [
    "arr = [1 , 6 , 11 , 5]\n",
    "minSub(arr , len(arr))"
   ]
  },
  {
   "cell_type": "code",
   "execution_count": 44,
   "metadata": {},
   "outputs": [],
   "source": [
    "\n",
    "\n",
    "\n",
    "def CountSubset(arr , n):\n",
    "\n",
    "    ran = sum(arr)\n",
    "\n",
    "    dp = [[False for _ in range(ran+1)] for _ in range(n+1)]\n",
    "    for j in range(n+1):\n",
    "        dp[j][0] = True\n",
    "    # print(dp)\n",
    "\n",
    "    for i in range(1 , n+1):\n",
    "        for j in range(1 , ran+1):\n",
    "\n",
    "            if arr[i-1]<=j:\n",
    "                dp[i][j] = dp[i-1][j-arr[i-1]] or dp[i-1][j]\n",
    "            else:\n",
    "                dp[i][j] = dp[i-1][j]\n",
    "    \n",
    "    help = []\n",
    "    for i in range(ran//2 + 1):\n",
    "        if dp[n][i]:\n",
    "            help.append(i)\n",
    "    ans = float(\"inf\")\n",
    "    for val in help:\n",
    "        ans = min(ans , ran-2*val)\n",
    "    return ans\n",
    "\n",
    "\n",
    "\n",
    "\n",
    "\n",
    "\n"
   ]
  },
  {
   "cell_type": "code",
   "execution_count": 45,
   "metadata": {},
   "outputs": [
    {
     "data": {
      "text/plain": [
       "1"
      ]
     },
     "execution_count": 45,
     "metadata": {},
     "output_type": "execute_result"
    }
   ],
   "source": [
    "arr = [1 , 5 , 12 , 5]\n",
    "CountSubset(arr , len(arr))"
   ]
  },
  {
   "cell_type": "code",
   "execution_count": null,
   "metadata": {},
   "outputs": [],
   "source": []
  }
 ],
 "metadata": {
  "kernelspec": {
   "display_name": "Python 3",
   "language": "python",
   "name": "python3"
  },
  "language_info": {
   "codemirror_mode": {
    "name": "ipython",
    "version": 3
   },
   "file_extension": ".py",
   "mimetype": "text/x-python",
   "name": "python",
   "nbconvert_exporter": "python",
   "pygments_lexer": "ipython3",
   "version": "3.11.9"
  }
 },
 "nbformat": 4,
 "nbformat_minor": 2
}
