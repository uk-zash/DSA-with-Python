{
 "cells": [
  {
   "cell_type": "code",
   "execution_count": 7,
   "metadata": {},
   "outputs": [],
   "source": [
    "def helper(arr , n ,total , subset ):\n",
    "\n",
    "    if n==0:\n",
    "        return abs(total- subset - subset)\n",
    "\n",
    "    include = helper(arr , n-1 , total , subset+ arr[n-1])\n",
    "    exclude = helper(arr , n-1 , total , subset)\n",
    "\n",
    "    return min(include, exclude)\n",
    "\n",
    "    \n",
    "\n",
    "\n",
    "def minSub(arr , n):\n",
    "\n",
    "    total = sum(arr)\n",
    "\n",
    "    return helper(arr , n , total , 0)\n"
   ]
  },
  {
   "cell_type": "code",
   "execution_count": 8,
   "metadata": {},
   "outputs": [
    {
     "data": {
      "text/plain": [
       "1"
      ]
     },
     "execution_count": 8,
     "metadata": {},
     "output_type": "execute_result"
    }
   ],
   "source": [
    "arr = [1 , 6 , 11 , 5]\n",
    "minSub(arr , len(arr))"
   ]
  },
  {
   "cell_type": "code",
   "execution_count": null,
   "metadata": {},
   "outputs": [],
   "source": []
  }
 ],
 "metadata": {
  "kernelspec": {
   "display_name": "Python 3",
   "language": "python",
   "name": "python3"
  },
  "language_info": {
   "codemirror_mode": {
    "name": "ipython",
    "version": 3
   },
   "file_extension": ".py",
   "mimetype": "text/x-python",
   "name": "python",
   "nbconvert_exporter": "python",
   "pygments_lexer": "ipython3",
   "version": "3.11.9"
  }
 },
 "nbformat": 4,
 "nbformat_minor": 2
}
