{
 "cells": [
  {
   "cell_type": "code",
   "execution_count": 48,
   "metadata": {},
   "outputs": [],
   "source": [
    "def countAtoms(formula):\n",
    "\n",
    "    stack = [{}]\n",
    "    n = len(formula)\n",
    "    elem  = \"\"\n",
    "    i = 0\n",
    "\n",
    "    while i<n:\n",
    "\n",
    "        if formula[i].isupper():\n",
    "            j = i+1\n",
    "\n",
    "            while j<n and formula[j].islower():\n",
    "                j+=1\n",
    "            \n",
    "            elem = formula[i:j]\n",
    "            # print(elem)\n",
    "            \n",
    "            i = j\n",
    "\n",
    "            if i == n or not formula[i].isdigit() and not formula[i].islower():\n",
    "                stack[-1][elem] = stack[-1].get(elem , 0)+1\n",
    "            # print(stack)\n",
    "        \n",
    "        elif formula[i].isdigit():\n",
    "            j = i\n",
    "\n",
    "            while j<n and formula[j].isdigit():\n",
    "                j+=1\n",
    "            \n",
    "            num = int(formula[i:j])\n",
    "            stack[-1][elem] = stack[-1].get(elem , 0) + num\n",
    "            # print(stack)\n",
    "            i = j     \n",
    "\n",
    "        elif formula[i] == \"(\":\n",
    "            stack.append({})  \n",
    "            i+=1\n",
    "\n",
    "        elif formula[i]==\")\":\n",
    "\n",
    "            i+=1\n",
    "            j = i\n",
    "\n",
    "            while j<n and formula[j].isdigit():\n",
    "                j+=1\n",
    "            \n",
    "            multiply = int(formula[i:j] or 1)\n",
    "            top = stack.pop()\n",
    "            print(top)\n",
    "\n",
    "            for elem , num in top.items():\n",
    "                stack[-1][elem] = stack[-1].get(elem , 0) + num*multiply\n",
    "            \n",
    "            i = j\n",
    "    print(stack)\n",
    "    atoms = sorted(stack[0].items())\n",
    "    return \"\".join([atom + (str(count) if count>1 else \"\") for atom , count in atoms])\n",
    "    \n",
    "                \n",
    "\n",
    "\n",
    "\n"
   ]
  },
  {
   "cell_type": "code",
   "execution_count": 49,
   "metadata": {},
   "outputs": [
    {
     "name": "stdout",
     "output_type": "stream",
     "text": [
      "{'N': 1}\n",
      "{'N': 1, 'O': 1, 'H': 1}\n",
      "[{'Mg': 4, 'N': 3, 'O': 3, 'H': 3}]\n"
     ]
    },
    {
     "data": {
      "text/plain": [
       "'H3Mg4N3O3'"
      ]
     },
     "execution_count": 49,
     "metadata": {},
     "output_type": "execute_result"
    }
   ],
   "source": [
    "countAtoms(\"Mg4((N)OH)3\")"
   ]
  },
  {
   "cell_type": "code",
   "execution_count": null,
   "metadata": {},
   "outputs": [],
   "source": []
  }
 ],
 "metadata": {
  "kernelspec": {
   "display_name": "Python 3",
   "language": "python",
   "name": "python3"
  },
  "language_info": {
   "codemirror_mode": {
    "name": "ipython",
    "version": 3
   },
   "file_extension": ".py",
   "mimetype": "text/x-python",
   "name": "python",
   "nbconvert_exporter": "python",
   "pygments_lexer": "ipython3",
   "version": "3.11.9"
  }
 },
 "nbformat": 4,
 "nbformat_minor": 2
}
