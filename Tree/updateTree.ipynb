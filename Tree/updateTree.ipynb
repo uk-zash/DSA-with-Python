{
 "cells": [
  {
   "cell_type": "code",
   "execution_count": 1,
   "metadata": {},
   "outputs": [],
   "source": [
    "from collections import deque"
   ]
  },
  {
   "cell_type": "code",
   "execution_count": 21,
   "metadata": {},
   "outputs": [],
   "source": [
    "class Tree:\n",
    "    def __init__(self , val = 0 , left = None , right = None):\n",
    "        self.val = val\n",
    "        self.left = left \n",
    "        self.right = right\n",
    "    \n",
    "\n",
    "    def buildTree(self , arr):\n",
    "        if not arr:\n",
    "            return None\n",
    "\n",
    "        root = Tree(arr[0])\n",
    "        que = deque([root])\n",
    "\n",
    "        i = 1\n",
    "\n",
    "        while que:\n",
    "\n",
    "            node = que.popleft()\n",
    "\n",
    "            if i<len(arr) and arr[i] is not None:\n",
    "                node.left = Tree(arr[i])\n",
    "                que.append(node.left)\n",
    "            i+=1\n",
    "\n",
    "            if i<len(arr) and arr[i] is not None:\n",
    "                node.right = Tree(arr[i])\n",
    "                que.append(node.right)\n",
    "            i+=1\n",
    "\n",
    "        return root\n",
    "    \n",
    "    def updateTree(self , root):\n",
    "\n",
    "        if not root:\n",
    "            return None\n",
    "        \n",
    "        level_sum = {}\n",
    "        sibling = {}\n",
    "\n",
    "        def dfs(node , depth , parent):\n",
    "\n",
    "\n",
    "            if not node:\n",
    "                return \n",
    "            \n",
    "            if depth not in level_sum:\n",
    "                level_sum[depth] = 0\n",
    "            level_sum[depth] += node.val\n",
    "\n",
    "            if parent:\n",
    "                if parent.val not in sibling:\n",
    "                    sibling[parent] = 0\n",
    "                sibling[parent] += node.val\n",
    "            \n",
    "            dfs(node.left , depth+1 , node)\n",
    "            dfs(node.right , depth+1 , node)\n",
    "        \n",
    "        dfs(root , 0 , 0)\n",
    "        print(level_sum)\n",
    "        print(sibling)\n",
    "\n",
    "        def update(node , depth , parent):\n",
    "\n",
    "            if not node:\n",
    "                return \n",
    "\n",
    "            sib = sibling.get(parent , 0)\n",
    "\n",
    "            node.val = level_sum[depth] - (sib if sib!=0 else 0)\n",
    "\n",
    "            update(node.left , depth+1 , node)\n",
    "            update(node.right , depth+1 , node)\n",
    "        \n",
    "        \n",
    "        update(root , 0 , 0)\n",
    "\n",
    "        return root"
   ]
  },
  {
   "cell_type": "code",
   "execution_count": 22,
   "metadata": {},
   "outputs": [],
   "source": [
    "\n",
    "root = [5,4,9,1,10,None,7]\n",
    "\n",
    "obj = Tree()\n",
    "res = obj.buildTree(root)"
   ]
  },
  {
   "cell_type": "code",
   "execution_count": 24,
   "metadata": {},
   "outputs": [
    {
     "name": "stdout",
     "output_type": "stream",
     "text": [
      "{0: 5, 1: 8, 2: 27}\n",
      "{<__main__.Tree object at 0x00000223357D0CD0>: 4, <__main__.Tree object at 0x00000223357D0990>: 8, <__main__.Tree object at 0x00000223367DF850>: 11}\n"
     ]
    }
   ],
   "source": [
    "fin = obj.updateTree(res)"
   ]
  },
  {
   "cell_type": "code",
   "execution_count": 27,
   "metadata": {},
   "outputs": [
    {
     "data": {
      "text/plain": [
       "4"
      ]
     },
     "execution_count": 27,
     "metadata": {},
     "output_type": "execute_result"
    }
   ],
   "source": [
    "fin.left.val"
   ]
  },
  {
   "cell_type": "code",
   "execution_count": null,
   "metadata": {},
   "outputs": [],
   "source": []
  }
 ],
 "metadata": {
  "kernelspec": {
   "display_name": "Python 3",
   "language": "python",
   "name": "python3"
  },
  "language_info": {
   "codemirror_mode": {
    "name": "ipython",
    "version": 3
   },
   "file_extension": ".py",
   "mimetype": "text/x-python",
   "name": "python",
   "nbconvert_exporter": "python",
   "pygments_lexer": "ipython3",
   "version": "3.11.9"
  }
 },
 "nbformat": 4,
 "nbformat_minor": 2
}
