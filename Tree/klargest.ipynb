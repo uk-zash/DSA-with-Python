{
 "cells": [
  {
   "cell_type": "code",
   "execution_count": 1,
   "metadata": {},
   "outputs": [],
   "source": [
    "from collections import deque\n",
    "class TreeNode(object):\n",
    "    def __init__(self, val=0, left=None, right=None):\n",
    "        self.val = val\n",
    "        self.left = left\n",
    "        self.right = right\n",
    "\n",
    "    def build_tree(self,arr):\n",
    "        if not arr:\n",
    "            return None\n",
    "\n",
    "        root = TreeNode(arr[0])\n",
    "        queue = deque([root])\n",
    "\n",
    "        i = 1\n",
    "\n",
    "        while i < len(arr):\n",
    "\n",
    "            node = queue.popleft()\n",
    "\n",
    "            if i<len(arr) and arr[i] is not None:\n",
    "                node.left = TreeNode(arr[i])\n",
    "                queue.append(node.left)\n",
    "            i+=1\n",
    "\n",
    "            if i<len(arr) and arr[i] is not None:\n",
    "                node.right = TreeNode(arr[i])\n",
    "                queue.append(node.right)\n",
    "            i+=1\n",
    "        \n",
    "        return root\n",
    "    \n",
    "\n",
    "    def findSum(self , root , k):\n",
    "\n",
    "        if not root:\n",
    "            return 0\n",
    "\n",
    "        que = deque([root])\n",
    "        res = []\n",
    "        while que:\n",
    "\n",
    "            size = len(que)\n",
    "            inital_sum = 0\n",
    "\n",
    "            for _ in range(size):\n",
    "                node = que.popleft()\n",
    "                inital_sum += node.val\n",
    "\n",
    "                if node.left:\n",
    "                    que.append(node.left)\n",
    "                if node.right:\n",
    "                    que.append(node.right)\n",
    "                \n",
    "            res.append(inital_sum)\n",
    "\n",
    "        \n",
    "        if len(res)<k:\n",
    "            return -1\n",
    "        \n",
    "        res.sort(reverse=True)\n",
    "        return res[k-1]\n",
    "    \n",
    "\n",
    "\n",
    "\n",
    "\n",
    "\n",
    "\n",
    "        \n",
    "\n",
    "        \n",
    "\n"
   ]
  },
  {
   "cell_type": "code",
   "execution_count": 2,
   "metadata": {},
   "outputs": [
    {
     "data": {
      "text/plain": [
       "13"
      ]
     },
     "execution_count": 2,
     "metadata": {},
     "output_type": "execute_result"
    }
   ],
   "source": [
    "val = [5,8,9,2,1,3,7,4,6]\n",
    "\n",
    "obj = TreeNode()\n",
    "root = obj.build_tree(val)\n",
    "# print(root.right.right.val)\n",
    "obj.findSum(root , 2)\n"
   ]
  },
  {
   "cell_type": "code",
   "execution_count": null,
   "metadata": {},
   "outputs": [],
   "source": []
  },
  {
   "cell_type": "code",
   "execution_count": null,
   "metadata": {},
   "outputs": [],
   "source": []
  }
 ],
 "metadata": {
  "kernelspec": {
   "display_name": "Python 3",
   "language": "python",
   "name": "python3"
  },
  "language_info": {
   "codemirror_mode": {
    "name": "ipython",
    "version": 3
   },
   "file_extension": ".py",
   "mimetype": "text/x-python",
   "name": "python",
   "nbconvert_exporter": "python",
   "pygments_lexer": "ipython3",
   "version": "3.11.9"
  }
 },
 "nbformat": 4,
 "nbformat_minor": 2
}
