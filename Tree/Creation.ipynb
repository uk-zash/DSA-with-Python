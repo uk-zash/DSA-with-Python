{
 "cells": [
  {
   "cell_type": "code",
   "execution_count": 33,
   "metadata": {},
   "outputs": [],
   "source": [
    "class Node:\n",
    "    def __init__(self , x):\n",
    "        self.data = x\n",
    "        self.right = None\n",
    "        self.left = None\n",
    "    \n",
    "\n",
    "class Tree:\n",
    "    def __init__(self):\n",
    "        self.head = None\n",
    "    \n",
    "    def insert(self , x):\n",
    "        new_node = Node(x)\n",
    "    \n",
    "        if self.head is None:\n",
    "            self.head = new_node\n",
    "        \n",
    "        else:\n",
    "            self._insert(self.head , new_node)\n",
    "        \n",
    "    def _insert(self , current_node , new_node):\n",
    "\n",
    "        if new_node.data< current_node.data:\n",
    "            if current_node.left is None:\n",
    "                current_node.left = new_node\n",
    "            else:\n",
    "                self._insert(current_node.left , new_node)\n",
    "        \n",
    "        else:\n",
    "            if current_node.right is None:\n",
    "                current_node.right = new_node\n",
    "            else:\n",
    "                self._insert(current_node.right , new_node)\n",
    "    def inorder(self):\n",
    "        return self._inorder(self.head)\n",
    "        \n",
    "    \n",
    "    def _inorder(self, node):\n",
    "        result = []\n",
    "        if node:\n",
    "            result += self._inorder(node.left)\n",
    "            result.append(node.data)\n",
    "            result+= self._inorder(node.right)\n",
    "        return result\n",
    "    \n",
    "\n"
   ]
  },
  {
   "cell_type": "code",
   "execution_count": 34,
   "metadata": {},
   "outputs": [],
   "source": [
    "obj = Tree()\n",
    "obj.insert(10)\n",
    "obj.insert(5)\n",
    "obj.insert(15)\n",
    "obj.insert(2)\n",
    "obj.insert(7)"
   ]
  },
  {
   "cell_type": "code",
   "execution_count": 35,
   "metadata": {},
   "outputs": [
    {
     "data": {
      "text/plain": [
       "[2, 5, 7, 10, 15]"
      ]
     },
     "execution_count": 35,
     "metadata": {},
     "output_type": "execute_result"
    }
   ],
   "source": [
    "obj.inorder()"
   ]
  },
  {
   "cell_type": "code",
   "execution_count": null,
   "metadata": {},
   "outputs": [],
   "source": []
  }
 ],
 "metadata": {
  "kernelspec": {
   "display_name": "Python 3",
   "language": "python",
   "name": "python3"
  },
  "language_info": {
   "codemirror_mode": {
    "name": "ipython",
    "version": 3
   },
   "file_extension": ".py",
   "mimetype": "text/x-python",
   "name": "python",
   "nbconvert_exporter": "python",
   "pygments_lexer": "ipython3",
   "version": "3.11.9"
  }
 },
 "nbformat": 4,
 "nbformat_minor": 2
}
