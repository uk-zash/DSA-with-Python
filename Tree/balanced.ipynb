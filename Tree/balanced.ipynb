{
 "cells": [
  {
   "cell_type": "code",
   "execution_count": 1,
   "metadata": {},
   "outputs": [],
   "source": [
    "def isBalanced(root):\n",
    "        def dfs(root):\n",
    "            if not root:\n",
    "                return 0 ,True\n",
    "            left , l_balance = dfs(root.left)\n",
    "            right , r_balance = dfs(root.right)\n",
    "\n",
    "            height = max(left, right)+1\n",
    "\n",
    "            balanced = (l_balance and r_balance and abs(left - right)<=1)\n",
    "\n",
    "            return height , balanced\n",
    "        \n",
    "        _ , balanced = dfs(root)\n",
    "        return balanced                \n",
    "\n",
    "                        "
   ]
  },
  {
   "cell_type": "code",
   "execution_count": null,
   "metadata": {},
   "outputs": [],
   "source": []
  }
 ],
 "metadata": {
  "kernelspec": {
   "display_name": "Python 3",
   "language": "python",
   "name": "python3"
  },
  "language_info": {
   "codemirror_mode": {
    "name": "ipython",
    "version": 3
   },
   "file_extension": ".py",
   "mimetype": "text/x-python",
   "name": "python",
   "nbconvert_exporter": "python",
   "pygments_lexer": "ipython3",
   "version": "3.11.9"
  }
 },
 "nbformat": 4,
 "nbformat_minor": 2
}
