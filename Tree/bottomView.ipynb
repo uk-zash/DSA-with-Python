{
 "cells": [
  {
   "cell_type": "code",
   "execution_count": 1,
   "metadata": {},
   "outputs": [],
   "source": [
    "from collections import deque\n",
    "def bottomView( root):\n",
    "       \n",
    "        \n",
    "        ans = []\n",
    "        \n",
    "        if not root:\n",
    "            return ans\n",
    "            \n",
    "        map = {}\n",
    "        \n",
    "        q = deque([(root , 0)])\n",
    "        \n",
    "        while q:\n",
    "            \n",
    "            current , line = q.popleft()\n",
    "            \n",
    "            map[line] = current.data\n",
    "            \n",
    "            if current.left:\n",
    "                q.append((current.left , line-1))\n",
    "            \n",
    "            if current.right:\n",
    "                q.append((current.right , line+1))\n",
    "            \n",
    "            \n",
    "        for value in sorted(map.items()):\n",
    "            \n",
    "            ans.append(value[1])\n",
    "        return ans"
   ]
  },
  {
   "cell_type": "code",
   "execution_count": null,
   "metadata": {},
   "outputs": [],
   "source": []
  }
 ],
 "metadata": {
  "kernelspec": {
   "display_name": "Python 3",
   "language": "python",
   "name": "python3"
  },
  "language_info": {
   "codemirror_mode": {
    "name": "ipython",
    "version": 3
   },
   "file_extension": ".py",
   "mimetype": "text/x-python",
   "name": "python",
   "nbconvert_exporter": "python",
   "pygments_lexer": "ipython3",
   "version": "3.11.9"
  }
 },
 "nbformat": 4,
 "nbformat_minor": 2
}
