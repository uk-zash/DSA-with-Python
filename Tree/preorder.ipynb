{
 "cells": [
  {
   "cell_type": "code",
   "execution_count": 2,
   "metadata": {},
   "outputs": [],
   "source": [
    "def preorderTraversal(root):\n",
    "    \n",
    "        if not root:\n",
    "            return []\n",
    "        \n",
    "        result = [] \n",
    "        stack = [root]  \n",
    "\n",
    "        while stack:\n",
    "            current = stack.pop() \n",
    "            result.append(current.val) \n",
    "            if current.right:\n",
    "                stack.append(current.right)\n",
    "            if current.left:\n",
    "                stack.append(current.left)\n",
    "\n",
    "        return result\n"
   ]
  },
  {
   "cell_type": "code",
   "execution_count": null,
   "metadata": {},
   "outputs": [],
   "source": [
    "def preorderTraversal1(root):\n",
    "    ans = []\n",
    "    if root is None:\n",
    "        return ans\n",
    "    \n",
    "    def preorder(root):\n",
    "        if root is None:\n",
    "            return \n",
    "        ans.append(root.val)\n",
    "        preorder(root.left)\n",
    "        preorder(root.right)\n",
    "    \n",
    "    preorder(root)\n",
    "    return ans"
   ]
  }
 ],
 "metadata": {
  "kernelspec": {
   "display_name": "Python 3",
   "language": "python",
   "name": "python3"
  },
  "language_info": {
   "codemirror_mode": {
    "name": "ipython",
    "version": 3
   },
   "file_extension": ".py",
   "mimetype": "text/x-python",
   "name": "python",
   "nbconvert_exporter": "python",
   "pygments_lexer": "ipython3",
   "version": "3.11.9"
  }
 },
 "nbformat": 4,
 "nbformat_minor": 2
}
