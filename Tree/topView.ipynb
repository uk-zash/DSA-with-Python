{
 "cells": [
  {
   "cell_type": "code",
   "execution_count": 1,
   "metadata": {},
   "outputs": [],
   "source": [
    "from collections import deque\n",
    "def topView(root):\n",
    "      \n",
    "        ans = []\n",
    "        if not root:\n",
    "            return ans\n",
    "        \n",
    "        map = {}\n",
    "        \n",
    "        queue = deque([(root,0)])\n",
    "        \n",
    "        while queue:\n",
    "            \n",
    "            current , line = queue.popleft()\n",
    "            \n",
    "            if line not in map:\n",
    "                map[line] = current.data\n",
    "            \n",
    "            if current.left:\n",
    "                queue.append((current.left , line-1))\n",
    "            \n",
    "            if current.right:\n",
    "                queue.append((current.right , line+1))\n",
    "                \n",
    "        \n",
    "        for value in sorted(map.items()):\n",
    "            ans.append(value[1])\n",
    "        \n",
    "        return ans"
   ]
  },
  {
   "cell_type": "code",
   "execution_count": null,
   "metadata": {},
   "outputs": [],
   "source": []
  }
 ],
 "metadata": {
  "kernelspec": {
   "display_name": "Python 3",
   "language": "python",
   "name": "python3"
  },
  "language_info": {
   "codemirror_mode": {
    "name": "ipython",
    "version": 3
   },
   "file_extension": ".py",
   "mimetype": "text/x-python",
   "name": "python",
   "nbconvert_exporter": "python",
   "pygments_lexer": "ipython3",
   "version": "3.11.9"
  }
 },
 "nbformat": 4,
 "nbformat_minor": 2
}
