{
 "cells": [
  {
   "cell_type": "code",
   "execution_count": 1,
   "metadata": {},
   "outputs": [],
   "source": [
    "def max_diam(root):\n",
    "\n",
    "    def dfs(root):\n",
    "        if not root:\n",
    "            return 0 , 0\n",
    "\n",
    "        left_depth , l_diam = dfs(root.left)\n",
    "        right_depth , r_diam = dfs(root.right)\n",
    "\n",
    "        current_diam = left_depth + right_depth\n",
    "        max_diam = max(l_diam , r_diam , current_diam)\n",
    "        max_depth = max(left_depth , right_depth )+1\n",
    "\n",
    "        return max_depth , max_diam\n",
    "    \n"
   ]
  },
  {
   "cell_type": "code",
   "execution_count": null,
   "metadata": {},
   "outputs": [],
   "source": []
  }
 ],
 "metadata": {
  "kernelspec": {
   "display_name": "Python 3",
   "language": "python",
   "name": "python3"
  },
  "language_info": {
   "codemirror_mode": {
    "name": "ipython",
    "version": 3
   },
   "file_extension": ".py",
   "mimetype": "text/x-python",
   "name": "python",
   "nbconvert_exporter": "python",
   "pygments_lexer": "ipython3",
   "version": "3.11.9"
  }
 },
 "nbformat": 4,
 "nbformat_minor": 2
}
