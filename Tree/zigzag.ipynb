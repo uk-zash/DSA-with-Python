{
 "cells": [
  {
   "cell_type": "code",
   "execution_count": 1,
   "metadata": {},
   "outputs": [],
   "source": [
    "from collections import deque\n",
    "def zigzagLevelOrder(self, root):\n",
    "       \n",
    "        if not root:\n",
    "            return \n",
    "\n",
    "        queue = deque([root])\n",
    "        ans = []\n",
    "        flag = True\n",
    "        while queue:\n",
    "\n",
    "            level = len(queue)\n",
    "            res = [0]*level\n",
    "\n",
    "            for i in range(level):\n",
    "                current = queue.popleft()\n",
    "                index = i if flag else (level-1-i)\n",
    "                res[index] = current.val\n",
    "\n",
    "                if current.left:\n",
    "                    queue.append(current.left)\n",
    "                if current.right:\n",
    "                    queue.append(current.right)\n",
    "                \n",
    "            flag = not flag\n",
    "            ans.append(res)\n",
    "        return ans"
   ]
  },
  {
   "cell_type": "code",
   "execution_count": null,
   "metadata": {},
   "outputs": [],
   "source": []
  }
 ],
 "metadata": {
  "kernelspec": {
   "display_name": "Python 3",
   "language": "python",
   "name": "python3"
  },
  "language_info": {
   "codemirror_mode": {
    "name": "ipython",
    "version": 3
   },
   "file_extension": ".py",
   "mimetype": "text/x-python",
   "name": "python",
   "nbconvert_exporter": "python",
   "pygments_lexer": "ipython3",
   "version": "3.11.9"
  }
 },
 "nbformat": 4,
 "nbformat_minor": 2
}
