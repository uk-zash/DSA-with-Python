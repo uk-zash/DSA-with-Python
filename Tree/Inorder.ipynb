{
 "cells": [
  {
   "cell_type": "code",
   "execution_count": 1,
   "metadata": {},
   "outputs": [],
   "source": [
    "def inorderTraversal(root):\n",
    "       \n",
    "        ans = []\n",
    "        if root is None:\n",
    "            return ans\n",
    "        \n",
    "        def Inorder(root):\n",
    "            if root is None:\n",
    "                return \n",
    "            Inorder(root.left)\n",
    "            ans.append(root.val)\n",
    "            Inorder(root.right)\n",
    "        Inorder(root)\n",
    "        return ans\n",
    "        "
   ]
  },
  {
   "cell_type": "code",
   "execution_count": 2,
   "metadata": {},
   "outputs": [],
   "source": [
    "def inorderTraversal1(root):\n",
    "\n",
    "    if root is None:\n",
    "        return \n",
    "\n",
    "    ans = []\n",
    "    stack = []\n",
    "    current = root\n",
    "\n",
    "    while stack or current:\n",
    "        while current:\n",
    "            stack.append(current)\n",
    "            current = current.left\n",
    "        \n",
    "        current = stack.pop()\n",
    "        ans.append(current)\n",
    "        current = current.right\n",
    "    return ans\n",
    "        "
   ]
  },
  {
   "cell_type": "code",
   "execution_count": null,
   "metadata": {},
   "outputs": [],
   "source": []
  }
 ],
 "metadata": {
  "kernelspec": {
   "display_name": "Python 3",
   "language": "python",
   "name": "python3"
  },
  "language_info": {
   "codemirror_mode": {
    "name": "ipython",
    "version": 3
   },
   "file_extension": ".py",
   "mimetype": "text/x-python",
   "name": "python",
   "nbconvert_exporter": "python",
   "pygments_lexer": "ipython3",
   "version": "3.11.9"
  }
 },
 "nbformat": 4,
 "nbformat_minor": 2
}
