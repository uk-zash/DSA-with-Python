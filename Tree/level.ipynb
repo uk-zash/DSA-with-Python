{
 "cells": [
  {
   "cell_type": "code",
   "execution_count": 28,
   "metadata": {},
   "outputs": [],
   "source": [
    "from collections import deque\n",
    "class Node:\n",
    "    def __init__(self , data):\n",
    "        self.data = data\n",
    "        self.left = None\n",
    "        self.right = None\n",
    "    \n",
    "class BinaryTree:\n",
    "    def createBinary(self, nodes):\n",
    "        if not nodes:\n",
    "            return None\n",
    "        \n",
    "        root = Node(nodes[0])\n",
    "        queue = [root]\n",
    "        i = 1\n",
    "        \n",
    "        while i < len(nodes):\n",
    "            current = queue.pop(0)\n",
    "            \n",
    "            \n",
    "            if i < len(nodes) and nodes[i] != -1:\n",
    "                current.left = Node(nodes[i])\n",
    "                queue.append(current.left)\n",
    "            i += 1\n",
    "            \n",
    "            if i < len(nodes) and nodes[i] != -1:\n",
    "                current.right = Node(nodes[i])\n",
    "                queue.append(current.right)\n",
    "            i += 1\n",
    "        \n",
    "        return root\n",
    "    def levelTra(self , root):\n",
    "\n",
    "        if not root:\n",
    "            return \n",
    "        \n",
    "        queue = deque([root])\n",
    "        ans = []\n",
    "    \n",
    "        while queue:\n",
    "\n",
    "            level = len(queue)\n",
    "            res = []\n",
    "\n",
    "            for i in range(level):\n",
    "                current = queue.popleft()\n",
    "                res.append(current.data)\n",
    "                if current.left:\n",
    "                    queue.append(current.left)\n",
    "                if current.right:\n",
    "                    queue.append(current.right)\n",
    "            ans.append(res)\n",
    "        return ans\n",
    "\n",
    "                "
   ]
  },
  {
   "cell_type": "code",
   "execution_count": 29,
   "metadata": {},
   "outputs": [
    {
     "data": {
      "text/plain": [
       "[[1], [2, 3], [4]]"
      ]
     },
     "execution_count": 29,
     "metadata": {},
     "output_type": "execute_result"
    }
   ],
   "source": [
    "node = [1,2 , 3 , -1 , -1 , 4]\n",
    "obj = BinaryTree()\n",
    "\n",
    "ans = obj.createBinary(node)\n",
    "obj.levelTra(ans)"
   ]
  },
  {
   "cell_type": "code",
   "execution_count": null,
   "metadata": {},
   "outputs": [],
   "source": []
  }
 ],
 "metadata": {
  "kernelspec": {
   "display_name": "Python 3",
   "language": "python",
   "name": "python3"
  },
  "language_info": {
   "codemirror_mode": {
    "name": "ipython",
    "version": 3
   },
   "file_extension": ".py",
   "mimetype": "text/x-python",
   "name": "python",
   "nbconvert_exporter": "python",
   "pygments_lexer": "ipython3",
   "version": "3.11.9"
  }
 },
 "nbformat": 4,
 "nbformat_minor": 2
}
